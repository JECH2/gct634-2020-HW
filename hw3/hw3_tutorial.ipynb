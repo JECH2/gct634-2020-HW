{
 "cells": [
  {
   "cell_type": "markdown",
   "metadata": {
    "id": "9TKapq8RWc2E"
   },
   "source": [
    "# Environment setting"
   ]
  },
  {
   "cell_type": "code",
   "execution_count": 1,
   "metadata": {
    "colab": {
     "base_uri": "https://localhost:8080/"
    },
    "id": "LDNDQsHsRU9e",
    "outputId": "ed54ede5-4861-4bef-9370-a6ba6e39d84a"
   },
   "outputs": [
    {
     "name": "stdout",
     "output_type": "stream",
     "text": [
      "Cloning into 'gct634-2020'...\n",
      "remote: Enumerating objects: 228, done.\u001b[K\n",
      "remote: Counting objects: 100% (228/228), done.\u001b[K\n",
      "remote: Compressing objects: 100% (159/159), done.\u001b[K\n",
      "remote: Total 228 (delta 114), reused 162 (delta 62), pack-reused 0\u001b[K\n",
      "Receiving objects: 100% (228/228), 16.74 MiB | 19.01 MiB/s, done.\n",
      "Resolving deltas: 100% (114/114), done.\n"
     ]
    }
   ],
   "source": [
    "!git clone https://github.com/juhannam/gct634-2020.git"
   ]
  },
  {
   "cell_type": "code",
   "execution_count": 2,
   "metadata": {
    "colab": {
     "base_uri": "https://localhost:8080/"
    },
    "id": "lYylzJmARj_i",
    "outputId": "1f145d91-e815-4952-92b4-a90ab8c18af8"
   },
   "outputs": [
    {
     "name": "stdout",
     "output_type": "stream",
     "text": [
      "/content/gct634-2020/hw3\n"
     ]
    }
   ],
   "source": [
    "%cd gct634-2020-hw/hw3"
   ]
  },
  {
   "cell_type": "code",
   "execution_count": 3,
   "metadata": {
    "colab": {
     "base_uri": "https://localhost:8080/"
    },
    "id": "my0XWbfjR7tC",
    "outputId": "2a809326-4900-41bf-f5a2-5f0f818b07cf"
   },
   "outputs": [
    {
     "name": "stdout",
     "output_type": "stream",
     "text": [
      "Collecting gdown\n",
      "  Downloading gdown-3.12.2.tar.gz (8.2 kB)\n",
      "  Installing build dependencies ... \u001b[?25ldone\n",
      "\u001b[?25h  Getting requirements to build wheel ... \u001b[?25ldone\n",
      "\u001b[?25h    Preparing wheel metadata ... \u001b[?25ldone\n",
      "\u001b[?25hRequirement already satisfied: filelock in /usr/local/lib/python3.7/site-packages (from gdown) (3.0.12)\n",
      "Requirement already satisfied: tqdm in /usr/local/lib/python3.7/site-packages (from gdown) (4.49.0)\n",
      "Requirement already satisfied: six in /usr/local/lib/python3.7/site-packages (from gdown) (1.15.0)\n",
      "Requirement already satisfied: requests[socks] in /usr/local/lib/python3.7/site-packages (from gdown) (2.24.0)\n",
      "Requirement already satisfied: idna<3,>=2.5 in /usr/local/lib/python3.7/site-packages (from requests[socks]->gdown) (2.10)\n",
      "Requirement already satisfied: chardet<4,>=3.0.2 in /usr/local/lib/python3.7/site-packages (from requests[socks]->gdown) (3.0.4)\n",
      "Requirement already satisfied: urllib3!=1.25.0,!=1.25.1,<1.26,>=1.21.1 in /usr/local/lib/python3.7/site-packages (from requests[socks]->gdown) (1.25.10)\n",
      "Requirement already satisfied: certifi>=2017.4.17 in /usr/local/lib/python3.7/site-packages (from requests[socks]->gdown) (2020.6.20)\n",
      "Collecting PySocks!=1.5.7,>=1.5.6; extra == \"socks\"\n",
      "  Downloading PySocks-1.7.1-py3-none-any.whl (16 kB)\n",
      "Building wheels for collected packages: gdown\n",
      "  Building wheel for gdown (PEP 517) ... \u001b[?25ldone\n",
      "\u001b[?25h  Created wheel for gdown: filename=gdown-3.12.2-py3-none-any.whl size=9681 sha256=d50434b88ac7d06003cba7e23f51781d8184a54f7f089e90be3fa9699e9e2618\n",
      "  Stored in directory: /root/.cache/pip/wheels/ba/e0/7e/726e872a53f7358b4b96a9975b04e98113b005cd8609a63abc\n",
      "Successfully built gdown\n",
      "Installing collected packages: gdown, PySocks\n",
      "Successfully installed PySocks-1.7.1 gdown-3.12.2\n",
      "Downloading...\n",
      "From: https://drive.google.com/uc?id=1wvN_ZWDiss1YCpC7GAPBMMlyrFYOB6NZ\n",
      "To: /media/Eunjin/2020_Fall_Lectures/gct634-2020-hw/hw3/notebooks/maestro_small.zip\n",
      "1.14GB [02:05, 9.06MB/s]\n"
     ]
    }
   ],
   "source": [
    "!pip install gdown\n",
    "!gdown --id 1wvN_ZWDiss1YCpC7GAPBMMlyrFYOB6NZ"
   ]
  },
  {
   "cell_type": "code",
   "execution_count": 4,
   "metadata": {
    "id": "K2FjlYNfSZ4J"
   },
   "outputs": [],
   "source": [
    "!unzip -q maestro_small.zip"
   ]
  },
  {
   "cell_type": "code",
   "execution_count": 2,
   "metadata": {
    "colab": {
     "base_uri": "https://localhost:8080/"
    },
    "id": "OwXbtT8qS9CU",
    "outputId": "287fd990-7b34-4e36-ebad-9ec48f2bf6e9"
   },
   "outputs": [
    {
     "name": "stdout",
     "output_type": "stream",
     "text": [
      "2004  2006  2008  2009\t2011  2013  2014  2015\t2017  2018  data.json\r\n"
     ]
    }
   ],
   "source": [
    "!ls data"
   ]
  },
  {
   "cell_type": "code",
   "execution_count": 3,
   "metadata": {
    "colab": {
     "base_uri": "https://localhost:8080/"
    },
    "id": "TkioM7MzTAda",
    "outputId": "c1ccad86-9a81-451f-b672-36130a6ff180"
   },
   "outputs": [
    {
     "name": "stdout",
     "output_type": "stream",
     "text": [
      "1.7.0\n"
     ]
    }
   ],
   "source": [
    "import torch as th\n",
    "print(th.__version__)"
   ]
  },
  {
   "cell_type": "markdown",
   "metadata": {
    "id": "T05ogW4GWivi"
   },
   "source": [
    "If torch version == 1.6.x, install torchaudio==0.6"
   ]
  },
  {
   "cell_type": "code",
   "execution_count": 8,
   "metadata": {
    "colab": {
     "base_uri": "https://localhost:8080/"
    },
    "id": "kym_ZpMiT9FG",
    "outputId": "f09270a4-6dfb-4259-89bb-24bd4240689d"
   },
   "outputs": [
    {
     "name": "stdout",
     "output_type": "stream",
     "text": [
      "Reading package lists... Done\n",
      "Building dependency tree       \n",
      "Reading state information... Done\n",
      "The following additional packages will be installed:\n",
      "  adwaita-icon-theme at-spi2-core dbus-user-session dconf-gsettings-backend\n",
      "  dconf-service fluid-soundfont-gm fontconfig glib-networking\n",
      "  glib-networking-common glib-networking-services gsettings-desktop-schemas\n",
      "  gtk-update-icon-cache hicolor-icon-theme humanity-icon-theme libasyncns0\n",
      "  libatk-bridge2.0-0 libatk1.0-0 libatk1.0-data libatspi2.0-0 libavahi-client3\n",
      "  libavahi-common-data libavahi-common3 libcairo-gobject2 libcairo2 libcolord2\n",
      "  libcups2 libdatrie1 libdconf1 libdouble-conversion3 libegl-mesa0 libegl1\n",
      "  libepoxy0 libevdev2 libfluidsynth2 libfribidi0 libgbm1 libgdk-pixbuf2.0-0\n",
      "  libgdk-pixbuf2.0-bin libgdk-pixbuf2.0-common libgl1 libglvnd0 libglx0\n",
      "  libgraphite2-3 libgtk-3-0 libgtk-3-bin libgtk-3-common libgudev-1.0-0\n",
      "  libharfbuzz0b libinput-bin libinput10 libinstpatch-1.0-2 libjack-jackd2-0\n",
      "  libjbig0 libjpeg-turbo8 libjpeg8 libjson-glib-1.0-0 libjson-glib-1.0-common\n",
      "  liblcms2-2 libmtdev1 libpango-1.0-0 libpangocairo-1.0-0 libpangoft2-1.0-0\n",
      "  libpcre2-16-0 libpixman-1-0 libproxy1v5 libpulse0 libqt5core5a libqt5dbus5\n",
      "  libqt5gui5 libqt5network5 libqt5svg5 libqt5widgets5 librest-0.7-0 librsvg2-2\n",
      "  librsvg2-common libsdl2-2.0-0 libsoup-gnome2.4-1 libsoup2.4-1 libthai-data\n",
      "  libthai0 libtiff5 libwacom-bin libwacom-common libwacom2 libwayland-cursor0\n",
      "  libwayland-egl1 libwayland-server0 libwebp6 libxcb-icccm4 libxcb-image0\n",
      "  libxcb-keysyms1 libxcb-render-util0 libxcb-render0 libxcb-shm0 libxcb-util1\n",
      "  libxcb-xfixes0 libxcb-xinerama0 libxcb-xinput0 libxcb-xkb1 libxcursor1\n",
      "  libxkbcommon-x11-0 libxkbcommon0 qsynth qt5-gtk-platformtheme\n",
      "  qttranslations5-l10n timgm6mb-soundfont ubuntu-mono xkb-data\n",
      "Suggested packages:\n",
      "  fluid-soundfont-gs timidity colord cups-common gvfs jackd2 liblcms2-utils\n",
      "  pulseaudio qt5-image-formats-plugins qtwayland5 librsvg2-bin jackd musescore\n",
      "The following NEW packages will be installed:\n",
      "  adwaita-icon-theme at-spi2-core dbus-user-session dconf-gsettings-backend\n",
      "  dconf-service fluid-soundfont-gm fluidsynth fontconfig glib-networking\n",
      "  glib-networking-common glib-networking-services gsettings-desktop-schemas\n",
      "  gtk-update-icon-cache hicolor-icon-theme humanity-icon-theme libasyncns0\n",
      "  libatk-bridge2.0-0 libatk1.0-0 libatk1.0-data libatspi2.0-0 libavahi-client3\n",
      "  libavahi-common-data libavahi-common3 libcairo-gobject2 libcairo2 libcolord2\n",
      "  libcups2 libdatrie1 libdconf1 libdouble-conversion3 libegl-mesa0 libegl1\n",
      "  libepoxy0 libevdev2 libfluidsynth2 libfribidi0 libgbm1 libgdk-pixbuf2.0-0\n",
      "  libgdk-pixbuf2.0-bin libgdk-pixbuf2.0-common libgraphite2-3 libgtk-3-0\n",
      "  libgtk-3-bin libgtk-3-common libgudev-1.0-0 libharfbuzz0b libinput-bin\n",
      "  libinput10 libinstpatch-1.0-2 libjack-jackd2-0 libjbig0 libjpeg-turbo8\n",
      "  libjpeg8 libjson-glib-1.0-0 libjson-glib-1.0-common liblcms2-2 libmtdev1\n",
      "  libpango-1.0-0 libpangocairo-1.0-0 libpangoft2-1.0-0 libpcre2-16-0\n",
      "  libpixman-1-0 libproxy1v5 libpulse0 libqt5core5a libqt5dbus5 libqt5gui5\n",
      "  libqt5network5 libqt5svg5 libqt5widgets5 librest-0.7-0 librsvg2-2\n",
      "  librsvg2-common libsdl2-2.0-0 libsoup-gnome2.4-1 libsoup2.4-1 libthai-data\n",
      "  libthai0 libtiff5 libwacom-bin libwacom-common libwacom2 libwayland-cursor0\n",
      "  libwayland-egl1 libwayland-server0 libwebp6 libxcb-icccm4 libxcb-image0\n",
      "  libxcb-keysyms1 libxcb-render-util0 libxcb-render0 libxcb-shm0 libxcb-util1\n",
      "  libxcb-xfixes0 libxcb-xinerama0 libxcb-xinput0 libxcb-xkb1 libxcursor1\n",
      "  libxkbcommon-x11-0 libxkbcommon0 qsynth qt5-gtk-platformtheme\n",
      "  qttranslations5-l10n timgm6mb-soundfont ubuntu-mono xkb-data\n",
      "The following packages will be upgraded:\n",
      "  libgl1 libglvnd0 libglx0\n",
      "3 upgraded, 106 newly installed, 0 to remove and 50 not upgraded.\n",
      "Need to get 152 MB of archives.\n",
      "After this operation, 280 MB of additional disk space will be used.\n",
      "Do you want to continue? [Y/n] ^C\n"
     ]
    }
   ],
   "source": [
    "!apt-get install fluidsynth"
   ]
  },
  {
   "cell_type": "code",
   "execution_count": 8,
   "metadata": {
    "colab": {
     "base_uri": "https://localhost:8080/"
    },
    "id": "1UddYMGCTbeE",
    "outputId": "befc7d52-8628-46bb-d92c-64fbd7c97d6e"
   },
   "outputs": [
    {
     "name": "stdout",
     "output_type": "stream",
     "text": [
      "Collecting torchaudio\n",
      "\u001b[?25l  Downloading https://files.pythonhosted.org/packages/3f/23/6b54106b3de029d3f10cf8debc302491c17630357449c900d6209665b302/torchaudio-0.7.0-cp36-cp36m-manylinux1_x86_64.whl (7.6MB)\n",
      "\u001b[K     |████████████████████████████████| 7.6MB 4.4MB/s \n",
      "\u001b[?25hRequirement already satisfied: tqdm in /usr/local/lib/python3.6/dist-packages (4.41.1)\n",
      "Collecting soundfile\n",
      "  Downloading https://files.pythonhosted.org/packages/eb/f2/3cbbbf3b96fb9fa91582c438b574cff3f45b29c772f94c400e2c99ef5db9/SoundFile-0.10.3.post1-py2.py3-none-any.whl\n",
      "Collecting mir_eval\n",
      "\u001b[?25l  Downloading https://files.pythonhosted.org/packages/0a/fe/be4f7a59ed71938e21e89f23afe93eea0d39eb3e77f83754a12028cf1a68/mir_eval-0.6.tar.gz (87kB)\n",
      "\u001b[K     |████████████████████████████████| 92kB 12.8MB/s \n",
      "\u001b[?25hCollecting pretty_midi\n",
      "\u001b[?25l  Downloading https://files.pythonhosted.org/packages/bc/8e/63c6e39a7a64623a9cd6aec530070c70827f6f8f40deec938f323d7b1e15/pretty_midi-0.2.9.tar.gz (5.6MB)\n",
      "\u001b[K     |████████████████████████████████| 5.6MB 17.0MB/s \n",
      "\u001b[?25hCollecting pyFluidSynth\n",
      "  Downloading https://files.pythonhosted.org/packages/d9/82/f44dd62e78c53a61c7bebca401d92646b0556595ff9049130c545f4d57d9/pyFluidSynth-1.3.0-py3-none-any.whl\n",
      "Requirement already satisfied: torch==1.7.0 in /usr/local/lib/python3.6/dist-packages (from torchaudio) (1.7.0+cu101)\n",
      "Requirement already satisfied: cffi>=1.0 in /usr/local/lib/python3.6/dist-packages (from soundfile) (1.14.3)\n",
      "Requirement already satisfied: numpy>=1.7.0 in /usr/local/lib/python3.6/dist-packages (from mir_eval) (1.18.5)\n",
      "Requirement already satisfied: scipy>=1.0.0 in /usr/local/lib/python3.6/dist-packages (from mir_eval) (1.4.1)\n",
      "Requirement already satisfied: future in /usr/local/lib/python3.6/dist-packages (from mir_eval) (0.16.0)\n",
      "Requirement already satisfied: six in /usr/local/lib/python3.6/dist-packages (from mir_eval) (1.15.0)\n",
      "Collecting mido>=1.1.16\n",
      "\u001b[?25l  Downloading https://files.pythonhosted.org/packages/20/0a/81beb587b1ae832ea6a1901dc7c6faa380e8dd154e0a862f0a9f3d2afab9/mido-1.2.9-py2.py3-none-any.whl (52kB)\n",
      "\u001b[K     |████████████████████████████████| 61kB 9.1MB/s \n",
      "\u001b[?25hRequirement already satisfied: dataclasses in /usr/local/lib/python3.6/dist-packages (from torch==1.7.0->torchaudio) (0.7)\n",
      "Requirement already satisfied: typing-extensions in /usr/local/lib/python3.6/dist-packages (from torch==1.7.0->torchaudio) (3.7.4.3)\n",
      "Requirement already satisfied: pycparser in /usr/local/lib/python3.6/dist-packages (from cffi>=1.0->soundfile) (2.20)\n",
      "Building wheels for collected packages: mir-eval, pretty-midi\n",
      "  Building wheel for mir-eval (setup.py) ... \u001b[?25l\u001b[?25hdone\n",
      "  Created wheel for mir-eval: filename=mir_eval-0.6-cp36-none-any.whl size=96516 sha256=3fe4e8d890ce979e7dffec79dc02f302721bc5736cfa7707c5fd20631144edc6\n",
      "  Stored in directory: /root/.cache/pip/wheels/49/ce/30/730fa72addf275e49d90683b01b3613048b4be3bf7ff8eb6ec\n",
      "  Building wheel for pretty-midi (setup.py) ... \u001b[?25l\u001b[?25hdone\n",
      "  Created wheel for pretty-midi: filename=pretty_midi-0.2.9-cp36-none-any.whl size=5591954 sha256=60702298da947d452a37705fb668aebbdf7ef192b1c3ac3b488b66961cbf7417\n",
      "  Stored in directory: /root/.cache/pip/wheels/4c/a1/c6/b5697841db1112c6e5866d75a6b6bf1bef73b874782556ba66\n",
      "Successfully built mir-eval pretty-midi\n",
      "Installing collected packages: torchaudio, soundfile, mir-eval, mido, pretty-midi, pyFluidSynth\n",
      "Successfully installed mido-1.2.9 mir-eval-0.6 pretty-midi-0.2.9 pyFluidSynth-1.3.0 soundfile-0.10.3.post1 torchaudio-0.7.0\n"
     ]
    }
   ],
   "source": [
    "!pip install torchaudio tqdm soundfile mir_eval pretty_midi pyFluidSynth "
   ]
  },
  {
   "cell_type": "markdown",
   "metadata": {
    "id": "4MFiDETNUU88"
   },
   "source": [
    "# Checkout dataset(same as notebooks.dataset.ipynb)"
   ]
  },
  {
   "cell_type": "code",
   "execution_count": 4,
   "metadata": {
    "id": "6nvo5gRGUKw6"
   },
   "outputs": [],
   "source": [
    "import matplotlib.pyplot as plt\n",
    "%matplotlib inline\n",
    "\n",
    "from dataset import MAESTRO_small\n",
    "from constants import HOP_SIZE"
   ]
  },
  {
   "cell_type": "code",
   "execution_count": 5,
   "metadata": {
    "colab": {
     "base_uri": "https://localhost:8080/"
    },
    "id": "cwIa2UbyUS8J",
    "outputId": "150b1a6b-dd92-4797-a97e-63b53b3a68e4"
   },
   "outputs": [
    {
     "name": "stderr",
     "output_type": "stream",
     "text": [
      "\r",
      "Loading group debug:   0%|          | 0/10 [00:00<?, ?it/s]"
     ]
    },
    {
     "name": "stdout",
     "output_type": "stream",
     "text": [
      "Loading 1 group of MAESTRO_small at data\n"
     ]
    },
    {
     "name": "stderr",
     "output_type": "stream",
     "text": [
      "Loading group debug: 100%|██████████| 10/10 [00:06<00:00,  1.62it/s]\n"
     ]
    }
   ],
   "source": [
    "example_dataset = MAESTRO_small(path='data', groups=['debug'], sequence_length=None, random_sample=True)"
   ]
  },
  {
   "cell_type": "code",
   "execution_count": 6,
   "metadata": {
    "colab": {
     "base_uri": "https://localhost:8080/"
    },
    "id": "9mr0nmTNUhhy",
    "outputId": "e5eb9e86-aedc-4d97-979f-3588771c9515"
   },
   "outputs": [
    {
     "name": "stdout",
     "output_type": "stream",
     "text": [
      "data: {'path': 'data/2004/MIDI-Unprocessed_SMF_12_01_2004_01-05_ORIG_MID--AUDIO_12_R1_2004_08_Track08_wav.flac', 'audio': tensor([-0.0002, -0.0002, -0.0001,  ...,  0.0149,  0.0022, -0.0390]), 'frame': tensor([[0., 0., 0.,  ..., 0., 0., 0.],\n",
      "        [0., 0., 0.,  ..., 0., 0., 0.],\n",
      "        [0., 0., 0.,  ..., 0., 0., 0.],\n",
      "        ...,\n",
      "        [0., 0., 0.,  ..., 0., 0., 0.],\n",
      "        [0., 0., 0.,  ..., 0., 0., 0.],\n",
      "        [0., 0., 0.,  ..., 0., 0., 0.]]), 'onset': tensor([[0., 0., 0.,  ..., 0., 0., 0.],\n",
      "        [0., 0., 0.,  ..., 0., 0., 0.],\n",
      "        [0., 0., 0.,  ..., 0., 0., 0.],\n",
      "        ...,\n",
      "        [0., 0., 0.,  ..., 0., 0., 0.],\n",
      "        [0., 0., 0.,  ..., 0., 0., 0.],\n",
      "        [0., 0., 0.,  ..., 0., 0., 0.]])}\n",
      "audio_shape: torch.Size([5411840])\n",
      "frame_roll_shape: torch.Size([10570, 88])\n",
      "onset_roll_shape: torch.Size([10570, 88])\n",
      "HOP_SIZE(512) x piano_roll length(10570): 5411840\n"
     ]
    }
   ],
   "source": [
    "data = example_dataset[1]\n",
    "print(f'data: {data}')\n",
    "print(f'audio_shape: {data[\"audio\"].shape}')\n",
    "print(f'frame_roll_shape: {data[\"frame\"].shape}')\n",
    "print(f'onset_roll_shape: {data[\"onset\"].shape}')\n",
    "\n",
    "print(f'HOP_SIZE({HOP_SIZE}) x piano_roll length({data[\"frame\"].shape[0]}): {HOP_SIZE*data[\"frame\"].shape[0]}')"
   ]
  },
  {
   "cell_type": "code",
   "execution_count": 10,
   "metadata": {
    "colab": {
     "base_uri": "https://localhost:8080/",
     "height": 881
    },
    "id": "zjnsY2uRUrdz",
    "outputId": "f135590a-ee41-41d6-a7e9-e99131127d14"
   },
   "outputs": [
    {
     "data": {
      "text/plain": [
       "<matplotlib.image.AxesImage at 0x7fdcea217b10>"
      ]
     },
     "execution_count": 10,
     "metadata": {},
     "output_type": "execute_result"
    },
    {
     "data": {
      "image/png": "[encoded data removed]",
      "text/plain": [
       "<Figure size 720x1080 with 3 Axes>"
      ]
     },
     "metadata": {
      "needs_background": "light"
     },
     "output_type": "display_data"
    }
   ],
   "source": [
    "plt.figure(figsize=(10,15))\n",
    "plt.subplot(311)\n",
    "plt.plot(data['audio'].numpy()[:400*HOP_SIZE])\n",
    "plt.autoscale(enable=True, axis='x', tight=True)\n",
    "plt.subplot(312)\n",
    "plt.imshow(data['frame'].numpy()[:400].T, aspect='auto', origin='upper')\n",
    "plt.subplot(313)\n",
    "plt.imshow(data['onset'].numpy()[:400].T, aspect='auto', origin='lower')"
   ]
  },
  {
   "cell_type": "markdown",
   "metadata": {
    "id": "zjWOoLusUx3q"
   },
   "source": [
    "# Train 1k (Baseline)"
   ]
  },
  {
   "cell_type": "code",
   "execution_count": 7,
   "metadata": {
    "colab": {
     "base_uri": "https://localhost:8080/"
    },
    "id": "0lhJlfYXUwAQ",
    "outputId": "9af6a6db-9616-4bd3-e021-8d3cfc785406"
   },
   "outputs": [
    {
     "name": "stdout",
     "output_type": "stream",
     "text": [
      "/usr/local/lib/python3.7/site-packages/torchaudio/backend/utils.py:54: UserWarning: \"sox\" backend is being deprecated. The default backend will be changed to \"sox_io\" backend in 0.8.0 and \"sox\" backend will be removed in 0.9.0. Please migrate to \"sox_io\" backend. Please refer to https://github.com/pytorch/audio/issues/903 for the detail.\n",
      "  '\"sox\" backend is being deprecated. '\n",
      "Loading 1 group of MAESTRO_small at data\n",
      "Loading group train: 100%|████████████████████| 100/100 [00:46<00:00,  2.13it/s]\n",
      "Loading 1 group of MAESTRO_small at data\n",
      "Loading group validation: 100%|█████████████████| 20/20 [00:09<00:00,  2.17it/s]\n",
      "  0%|                                                  | 0/1000 [00:00<?, ?it/s]/usr/local/lib/python3.7/site-packages/torch/functional.py:516: UserWarning: stft will require the return_complex parameter be explicitly  specified in a future PyTorch release. Use return_complex=False  to preserve the current behavior or return_complex=True to return  a complex output. (Triggered internally at  /pytorch/aten/src/ATen/native/SpectralOps.cpp:653.)\n",
      "  normalized, onesided, return_complex)\n",
      "/usr/local/lib/python3.7/site-packages/torch/functional.py:516: UserWarning: The function torch.rfft is deprecated and will be removed in a future PyTorch release. Use the new torch.fft module functions, instead, by importing torch.fft and calling torch.fft.fft or torch.fft.rfft. (Triggered internally at  /pytorch/aten/src/ATen/native/SpectralOps.cpp:590.)\n",
      "  normalized, onesided, return_complex)\n",
      " 50%|███████████▍           | 499/1000 [01:36<01:38,  5.10it/s, loss: 1.522e-01]/media/Eunjin/2020_Fall_Lectures/gct634-2020-hw/hw3/evaluate.py:106: UserWarning: This overload of nonzero is deprecated:\n",
      "\tnonzero()\n",
      "Consider using one of the following signatures instead:\n",
      "\tnonzero(*, bool as_tuple) (Triggered internally at  /pytorch/torch/csrc/utils/python_arg_parser.cpp:882.)\n",
      "  for nonzero in onset_diff.nonzero():\n",
      "/usr/local/lib/python3.7/site-packages/mir_eval/transcription.py:167: UserWarning: Estimated notes are empty.\n",
      "  warnings.warn(\"Estimated notes are empty.\")\n",
      "\n",
      "metric/loss/frame_loss      : 0.0777\n",
      "metric/loss/onset_loss      : 0.0934\n",
      "metric/frame/frame_f1       : 0.6384\n",
      "metric/frame/onset_f1       : 0.5490\n",
      "metric/note/f1              : 0.6144\n",
      "metric/note-with-offsets/f1 : 0.2319\n",
      "100%|██████████████████████▉| 999/1000 [03:12<00:00,  4.83it/s, loss: 1.547e-01]\n",
      "metric/loss/frame_loss      : 0.0698\n",
      "metric/loss/onset_loss      : 0.0987\n",
      "metric/frame/frame_f1       : 0.6781\n",
      "metric/frame/onset_f1       : 0.6425\n",
      "metric/note/f1              : 0.7468\n",
      "metric/note-with-offsets/f1 : 0.2849\n",
      "100%|██████████████████████| 1000/1000 [03:13<00:00,  5.18it/s, loss: 1.547e-01]\n",
      "Loading 1 group of MAESTRO_small at data\n",
      "Loading group test: 100%|███████████████████████| 50/50 [00:17<00:00,  2.81it/s]\n",
      "fluidsynth: warning: SDL2 not initialized, SDL2 audio driver won't be usable\n",
      "fluidsynth: warning: SDL2 not initialized, SDL2 audio driver won't be usable\n",
      "fluidsynth: warning: SDL2 not initialized, SDL2 audio driver won't be usable\n",
      "fluidsynth: warning: SDL2 not initialized, SDL2 audio driver won't be usable\n",
      "fluidsynth: warning: SDL2 not initialized, SDL2 audio driver won't be usable\n",
      "fluidsynth: warning: SDL2 not initialized, SDL2 audio driver won't be usable\n",
      "fluidsynth: warning: SDL2 not initialized, SDL2 audio driver won't be usable\n",
      "fluidsynth: warning: SDL2 not initialized, SDL2 audio driver won't be usable\n",
      "fluidsynth: warning: SDL2 not initialized, SDL2 audio driver won't be usable\n",
      "fluidsynth: warning: SDL2 not initialized, SDL2 audio driver won't be usable\n",
      "fluidsynth: warning: SDL2 not initialized, SDL2 audio driver won't be usable\n",
      "fluidsynth: warning: SDL2 not initialized, SDL2 audio driver won't be usable\n",
      "fluidsynth: warning: SDL2 not initialized, SDL2 audio driver won't be usable\n",
      "fluidsynth: warning: SDL2 not initialized, SDL2 audio driver won't be usable\n",
      "fluidsynth: warning: SDL2 not initialized, SDL2 audio driver won't be usable\n",
      "fluidsynth: warning: SDL2 not initialized, SDL2 audio driver won't be usable\n",
      "fluidsynth: warning: SDL2 not initialized, SDL2 audio driver won't be usable\n",
      "fluidsynth: warning: SDL2 not initialized, SDL2 audio driver won't be usable\n",
      "fluidsynth: warning: SDL2 not initialized, SDL2 audio driver won't be usable\n",
      "fluidsynth: warning: SDL2 not initialized, SDL2 audio driver won't be usable\n",
      "fluidsynth: warning: SDL2 not initialized, SDL2 audio driver won't be usable\n",
      "fluidsynth: warning: SDL2 not initialized, SDL2 audio driver won't be usable\n",
      "fluidsynth: warning: SDL2 not initialized, SDL2 audio driver won't be usable\n",
      "fluidsynth: warning: SDL2 not initialized, SDL2 audio driver won't be usable\n",
      "fluidsynth: warning: SDL2 not initialized, SDL2 audio driver won't be usable\n",
      "fluidsynth: warning: SDL2 not initialized, SDL2 audio driver won't be usable\n",
      "fluidsynth: warning: SDL2 not initialized, SDL2 audio driver won't be usable\n",
      "fluidsynth: warning: SDL2 not initialized, SDL2 audio driver won't be usable\n",
      "fluidsynth: warning: SDL2 not initialized, SDL2 audio driver won't be usable\n",
      "fluidsynth: warning: SDL2 not initialized, SDL2 audio driver won't be usable\n",
      "fluidsynth: warning: SDL2 not initialized, SDL2 audio driver won't be usable\n",
      "fluidsynth: warning: SDL2 not initialized, SDL2 audio driver won't be usable\n",
      "fluidsynth: warning: SDL2 not initialized, SDL2 audio driver won't be usable\n",
      "fluidsynth: warning: SDL2 not initialized, SDL2 audio driver won't be usable\n",
      "fluidsynth: warning: SDL2 not initialized, SDL2 audio driver won't be usable\n",
      "fluidsynth: warning: SDL2 not initialized, SDL2 audio driver won't be usable\n",
      "fluidsynth: warning: SDL2 not initialized, SDL2 audio driver won't be usable\n",
      "fluidsynth: warning: SDL2 not initialized, SDL2 audio driver won't be usable\n",
      "fluidsynth: warning: SDL2 not initialized, SDL2 audio driver won't be usable\n",
      "fluidsynth: warning: SDL2 not initialized, SDL2 audio driver won't be usable\n",
      "fluidsynth: warning: SDL2 not initialized, SDL2 audio driver won't be usable\n",
      "fluidsynth: warning: SDL2 not initialized, SDL2 audio driver won't be usable\n",
      "fluidsynth: warning: SDL2 not initialized, SDL2 audio driver won't be usable\n",
      "fluidsynth: warning: SDL2 not initialized, SDL2 audio driver won't be usable\n",
      "fluidsynth: warning: SDL2 not initialized, SDL2 audio driver won't be usable\n",
      "fluidsynth: warning: SDL2 not initialized, SDL2 audio driver won't be usable\n",
      "fluidsynth: warning: SDL2 not initialized, SDL2 audio driver won't be usable\n",
      "fluidsynth: warning: SDL2 not initialized, SDL2 audio driver won't be usable\n",
      "fluidsynth: warning: SDL2 not initialized, SDL2 audio driver won't be usable\n",
      "fluidsynth: warning: SDL2 not initialized, SDL2 audio driver won't be usable\n",
      "\n",
      "metric/loss/frame_loss : 0.11196013540029526\n",
      "metric/loss/onset_loss : 0.11074154824018478\n",
      "metric/frame/frame_f1 : 0.6139825551355463\n",
      "metric/frame/onset_f1 : 0.6387811556691044\n",
      "metric/note/f1 : 0.7308098698501573\n",
      "metric/note-with-offsets/f1 : 0.31085843059539203\n",
      "                            loss frame_loss                : 0.112 +- 0.049\n",
      "                            loss onset_loss                : 0.111 +- 0.037\n",
      "                           frame frame_precision           : 0.729 +- 0.075\n",
      "                           frame frame_recall              : 0.541 +- 0.091\n",
      "                           frame frame_f1                  : 0.614 +- 0.061\n",
      "                           frame onset_precision           : 0.784 +- 0.029\n",
      "                           frame onset_recall              : 0.553 +- 0.141\n",
      "                           frame onset_f1                  : 0.639 +- 0.098\n",
      "                            note precision                 : 0.972 +- 0.013\n",
      "                            note recall                    : 0.598 +- 0.143\n",
      "                            note f1                        : 0.731 +- 0.108\n",
      "                            note overlap                   : 0.523 +- 0.051\n",
      "               note-with-offsets precision                 : 0.411 +- 0.111\n",
      "               note-with-offsets recall                    : 0.255 +- 0.102\n",
      "               note-with-offsets f1                        : 0.311 +- 0.105\n",
      "               note-with-offsets overlap                   : 0.848 +- 0.070\n"
     ]
    }
   ],
   "source": [
    "! python train.py -i=1000 -vi=500 --save_midi"
   ]
  },
  {
   "cell_type": "markdown",
   "metadata": {
    "id": "LdGo6j9TmXrg"
   },
   "source": [
    "You will have your model checkpoints & decoded samples in runs/exp_{datetime} folder"
   ]
  }
 ],
 "metadata": {
  "accelerator": "GPU",
  "colab": {
   "collapsed_sections": [],
   "name": "hw3_tutorial.ipynb",
   "provenance": []
  },
  "kernelspec": {
   "display_name": "Python 3",
   "language": "python",
   "name": "python3"
  },
  "language_info": {
   "codemirror_mode": {
    "name": "ipython",
    "version": 3
   },
   "file_extension": ".py",
   "mimetype": "text/x-python",
   "name": "python",
   "nbconvert_exporter": "python",
   "pygments_lexer": "ipython3",
   "version": "3.7.8"
  }
 },
 "nbformat": 4,
 "nbformat_minor": 1
}
