{
 "cells": [
  {
   "cell_type": "markdown",
   "metadata": {
    "id": "C34u1Fk_d855"
   },
   "source": [
    "# Homework #2: Music Genre Classification\n",
    "Music genre classification is an important task that can be used in many musical applications such as music search or recommender systems. Your mission is to build your own Convolutional Neural Network (CNN) model to classify audio files into different music genres. Specifically, the goals of this homework are as follows:\n",
    "\n",
    "* Experiencing the whole pipeline of deep learning based system: data preparation, feature extraction, model training and evaluation\n",
    "* Getting familiar with the CNN architectures for music classification tasks\n",
    "* Using Pytorch in practice"
   ]
  },
  {
   "cell_type": "markdown",
   "metadata": {
    "id": "jS4CjH2Ocshx"
   },
   "source": [
    "# Getting Ready"
   ]
  },
  {
   "cell_type": "markdown",
   "metadata": {
    "id": "8uXpEzF6HIry"
   },
   "source": [
    "## Installing Packages"
   ]
  },
  {
   "cell_type": "code",
   "execution_count": 1,
   "metadata": {
    "id": "WuoI2dH5JEML"
   },
   "outputs": [],
   "source": [
    "#!pip install musicnn"
   ]
  },
  {
   "cell_type": "markdown",
   "metadata": {
    "id": "v5i1Y0_-cXv5"
   },
   "source": [
    "## Preparing The Dataset\n",
    "We use the [GTZAN](http://marsyas.info/downloads/datasets.html) dataset which has been the most widely used in the music genre classification task. \n",
    "The dataset contains 30-second audio files including 10 different genres including reggae, classical, country, jazz, metal, pop, disco, hiphop, rock and blues. \n",
    "For this homework, we are going to use a subset of GTZAN with only 8 genres."
   ]
  },
  {
   "cell_type": "code",
   "execution_count": 2,
   "metadata": {
    "id": "kWuczGYl9sB3"
   },
   "outputs": [],
   "source": [
    "# Download the dataset\n",
    "#!gdown --id 1J1DM0QzuRgjzqVWosvPZ1k7MnBRG-IxS"
   ]
  },
  {
   "cell_type": "code",
   "execution_count": 3,
   "metadata": {
    "id": "xEL8yjcO9zTs"
   },
   "outputs": [],
   "source": [
    "# Uncompress the dataset\n",
    "#!tar zxf gtzan.tar.gz"
   ]
  },
  {
   "cell_type": "markdown",
   "metadata": {
    "id": "HMdtGjitcptx"
   },
   "source": [
    "## Importing Packages"
   ]
  },
  {
   "cell_type": "code",
   "execution_count": 4,
   "metadata": {
    "id": "SwAowYXSQSky"
   },
   "outputs": [],
   "source": [
    "import numpy as np\n",
    "import os\n",
    "import librosa\n",
    "import torch\n",
    "import torch.nn as nn\n",
    "from tqdm.notebook import tqdm\n",
    "from glob import glob\n",
    "from torch.utils.data import Dataset, DataLoader"
   ]
  },
  {
   "cell_type": "markdown",
   "metadata": {
    "id": "NyC0UrXH-Uh6"
   },
   "source": [
    "## Enabling and testing the GPU\n",
    "\n",
    "First, you'll need to enable GPUs for the Colab notebook:\n",
    "\n",
    "- Navigate to Edit (수정) → Notebook Settings (노트 설정)\n",
    "- select GPU from the Hardware Accelerator (하드웨어 가속기) drop-down\n",
    "\n",
    "Next, we'll confirm that we can connect to the GPU with PyTorch and check versions of packages:"
   ]
  },
  {
   "cell_type": "code",
   "execution_count": 5,
   "metadata": {
    "id": "s3RwC1lh-bCx"
   },
   "outputs": [
    {
     "name": "stdout",
     "output_type": "stream",
     "text": [
      "Found GPU at: GeForce GTX 1080\n",
      "PyTorch version: 1.6.0\n",
      "Librosa version: 0.8.0\n"
     ]
    }
   ],
   "source": [
    "if not torch.cuda.is_available():\n",
    "  raise SystemError('GPU device not found!')\n",
    "print(f'Found GPU at: {torch.cuda.get_device_name()}')\n",
    "print(f'PyTorch version: {torch.__version__}')\n",
    "print(f'Librosa version: {librosa.__version__}')"
   ]
  },
  {
   "cell_type": "markdown",
   "metadata": {
    "id": "1IrP3qHvQuYi"
   },
   "source": [
    "If the cell above throws an error, then you should enable the GPU following the instruction above!"
   ]
  },
  {
   "cell_type": "markdown",
   "metadata": {
    "id": "UEyf5th3zodi"
   },
   "source": [
    "# Training CNNs from Scratch\n",
    "\n",
    "The baseline code is provided so that you can easily start the homework and also compare with your own algorithm.\n",
    "The baseline model extracts mel-spectrogram and has a simple set of CNN model that includes convolutional layer, batch normalization, maxpooling and fully-connected layer."
   ]
  },
  {
   "cell_type": "markdown",
   "metadata": {
    "id": "jLEXvCXUK6GR"
   },
   "source": [
    "## Extracting Mel-spectrograms"
   ]
  },
  {
   "cell_type": "code",
   "execution_count": 6,
   "metadata": {
    "id": "FgjbChF0znXt"
   },
   "outputs": [],
   "source": [
    "# Mel-spectrogram setup.\n",
    "SR = 16000\n",
    "FFT_HOP = 512\n",
    "FFT_SIZE = 1024\n",
    "NUM_MELS = 96"
   ]
  },
  {
   "cell_type": "code",
   "execution_count": 7,
   "metadata": {
    "id": "TAjStuDUI1Wb"
   },
   "outputs": [],
   "source": [
    "genres = genres = ['classical', 'country', 'disco', 'hiphop', 'jazz', 'metal', 'pop', 'reggae']\n",
    "genre_dict = {g: i for i, g in enumerate(genres)}"
   ]
  },
  {
   "cell_type": "code",
   "execution_count": 8,
   "metadata": {
    "id": "19CimidPW0g1"
   },
   "outputs": [
    {
     "data": {
      "text/plain": [
       "(580, 150)"
      ]
     },
     "execution_count": 8,
     "metadata": {},
     "output_type": "execute_result"
    }
   ],
   "source": [
    "def load_split(path):\n",
    "  with open(path) as f:\n",
    "    paths = [line.rstrip('\\n') for line in f]\n",
    "  return paths\n",
    "\n",
    "train = load_split('gtzan/split/train.txt')\n",
    "test = load_split('gtzan/split/test.txt')\n",
    "\n",
    "# Each entry of the lists look like this:\n",
    "len(train), len(test)"
   ]
  },
  {
   "cell_type": "code",
   "execution_count": 58,
   "metadata": {
    "id": "vs179N8UXrrx"
   },
   "outputs": [
    {
     "data": {
      "application/vnd.jupyter.widget-view+json": {
       "model_id": "56f1ffb097a845b988794ab41b1945dc",
       "version_major": 2,
       "version_minor": 0
      },
      "text/plain": [
       "HBox(children=(FloatProgress(value=0.0, max=730.0), HTML(value='')))"
      ]
     },
     "metadata": {},
     "output_type": "display_data"
    },
    {
     "name": "stdout",
     "output_type": "stream",
     "text": [
      "\n"
     ]
    },
    {
     "ename": "KeyboardInterrupt",
     "evalue": "",
     "output_type": "error",
     "traceback": [
      "\u001b[0;31m---------------------------------------------------------------------------\u001b[0m",
      "\u001b[0;31mKeyboardInterrupt\u001b[0m                         Traceback (most recent call last)",
      "\u001b[0;32m<ipython-input-58-d7fb7793c3fa>\u001b[0m in \u001b[0;36m<module>\u001b[0;34m\u001b[0m\n\u001b[1;32m     12\u001b[0m \u001b[0;34m\u001b[0m\u001b[0m\n\u001b[1;32m     13\u001b[0m   \u001b[0;31m# Load the audio signal with the desired sampling rate (SR).\u001b[0m\u001b[0;34m\u001b[0m\u001b[0;34m\u001b[0m\u001b[0;34m\u001b[0m\u001b[0m\n\u001b[0;32m---> 14\u001b[0;31m   \u001b[0msig\u001b[0m\u001b[0;34m,\u001b[0m \u001b[0m_\u001b[0m \u001b[0;34m=\u001b[0m \u001b[0mlibrosa\u001b[0m\u001b[0;34m.\u001b[0m\u001b[0mload\u001b[0m\u001b[0;34m(\u001b[0m\u001b[0;34mf'gtzan/wav/{path_in}'\u001b[0m\u001b[0;34m,\u001b[0m \u001b[0msr\u001b[0m\u001b[0;34m=\u001b[0m\u001b[0mSR\u001b[0m\u001b[0;34m,\u001b[0m \u001b[0mres_type\u001b[0m\u001b[0;34m=\u001b[0m\u001b[0;34m'kaiser_fast'\u001b[0m\u001b[0;34m)\u001b[0m\u001b[0;34m\u001b[0m\u001b[0;34m\u001b[0m\u001b[0m\n\u001b[0m\u001b[1;32m     15\u001b[0m   \u001b[0;31m# Compute power mel-spectrogram.\u001b[0m\u001b[0;34m\u001b[0m\u001b[0;34m\u001b[0m\u001b[0;34m\u001b[0m\u001b[0m\n\u001b[1;32m     16\u001b[0m   \u001b[0mmelspec\u001b[0m \u001b[0;34m=\u001b[0m \u001b[0mlibrosa\u001b[0m\u001b[0;34m.\u001b[0m\u001b[0mfeature\u001b[0m\u001b[0;34m.\u001b[0m\u001b[0mmelspectrogram\u001b[0m\u001b[0;34m(\u001b[0m\u001b[0msig\u001b[0m\u001b[0;34m,\u001b[0m \u001b[0msr\u001b[0m\u001b[0;34m=\u001b[0m\u001b[0mSR\u001b[0m\u001b[0;34m,\u001b[0m \u001b[0mn_fft\u001b[0m\u001b[0;34m=\u001b[0m\u001b[0mFFT_SIZE\u001b[0m\u001b[0;34m,\u001b[0m \u001b[0mhop_length\u001b[0m\u001b[0;34m=\u001b[0m\u001b[0mFFT_HOP\u001b[0m\u001b[0;34m,\u001b[0m \u001b[0mn_mels\u001b[0m\u001b[0;34m=\u001b[0m\u001b[0mNUM_MELS\u001b[0m\u001b[0;34m)\u001b[0m\u001b[0;34m\u001b[0m\u001b[0;34m\u001b[0m\u001b[0m\n",
      "\u001b[0;32m/usr/local/lib/python3.7/site-packages/librosa/core/audio.py\u001b[0m in \u001b[0;36mload\u001b[0;34m(path, sr, mono, offset, duration, dtype, res_type)\u001b[0m\n\u001b[1;32m    170\u001b[0m \u001b[0;34m\u001b[0m\u001b[0m\n\u001b[1;32m    171\u001b[0m     \u001b[0;32mif\u001b[0m \u001b[0msr\u001b[0m \u001b[0;32mis\u001b[0m \u001b[0;32mnot\u001b[0m \u001b[0;32mNone\u001b[0m\u001b[0;34m:\u001b[0m\u001b[0;34m\u001b[0m\u001b[0;34m\u001b[0m\u001b[0m\n\u001b[0;32m--> 172\u001b[0;31m         \u001b[0my\u001b[0m \u001b[0;34m=\u001b[0m \u001b[0mresample\u001b[0m\u001b[0;34m(\u001b[0m\u001b[0my\u001b[0m\u001b[0;34m,\u001b[0m \u001b[0msr_native\u001b[0m\u001b[0;34m,\u001b[0m \u001b[0msr\u001b[0m\u001b[0;34m,\u001b[0m \u001b[0mres_type\u001b[0m\u001b[0;34m=\u001b[0m\u001b[0mres_type\u001b[0m\u001b[0;34m)\u001b[0m\u001b[0;34m\u001b[0m\u001b[0;34m\u001b[0m\u001b[0m\n\u001b[0m\u001b[1;32m    173\u001b[0m \u001b[0;34m\u001b[0m\u001b[0m\n\u001b[1;32m    174\u001b[0m     \u001b[0;32melse\u001b[0m\u001b[0;34m:\u001b[0m\u001b[0;34m\u001b[0m\u001b[0;34m\u001b[0m\u001b[0m\n",
      "\u001b[0;32m/usr/local/lib/python3.7/site-packages/librosa/core/audio.py\u001b[0m in \u001b[0;36mresample\u001b[0;34m(y, orig_sr, target_sr, res_type, fix, scale, **kwargs)\u001b[0m\n\u001b[1;32m    582\u001b[0m         \u001b[0my_hat\u001b[0m \u001b[0;34m=\u001b[0m \u001b[0msamplerate\u001b[0m\u001b[0;34m.\u001b[0m\u001b[0mresample\u001b[0m\u001b[0;34m(\u001b[0m\u001b[0my\u001b[0m\u001b[0;34m.\u001b[0m\u001b[0mT\u001b[0m\u001b[0;34m,\u001b[0m \u001b[0mratio\u001b[0m\u001b[0;34m,\u001b[0m \u001b[0mconverter_type\u001b[0m\u001b[0;34m=\u001b[0m\u001b[0mres_type\u001b[0m\u001b[0;34m)\u001b[0m\u001b[0;34m.\u001b[0m\u001b[0mT\u001b[0m\u001b[0;34m\u001b[0m\u001b[0;34m\u001b[0m\u001b[0m\n\u001b[1;32m    583\u001b[0m     \u001b[0;32melse\u001b[0m\u001b[0;34m:\u001b[0m\u001b[0;34m\u001b[0m\u001b[0;34m\u001b[0m\u001b[0m\n\u001b[0;32m--> 584\u001b[0;31m         \u001b[0my_hat\u001b[0m \u001b[0;34m=\u001b[0m \u001b[0mresampy\u001b[0m\u001b[0;34m.\u001b[0m\u001b[0mresample\u001b[0m\u001b[0;34m(\u001b[0m\u001b[0my\u001b[0m\u001b[0;34m,\u001b[0m \u001b[0morig_sr\u001b[0m\u001b[0;34m,\u001b[0m \u001b[0mtarget_sr\u001b[0m\u001b[0;34m,\u001b[0m \u001b[0mfilter\u001b[0m\u001b[0;34m=\u001b[0m\u001b[0mres_type\u001b[0m\u001b[0;34m,\u001b[0m \u001b[0maxis\u001b[0m\u001b[0;34m=\u001b[0m\u001b[0;34m-\u001b[0m\u001b[0;36m1\u001b[0m\u001b[0;34m)\u001b[0m\u001b[0;34m\u001b[0m\u001b[0;34m\u001b[0m\u001b[0m\n\u001b[0m\u001b[1;32m    585\u001b[0m \u001b[0;34m\u001b[0m\u001b[0m\n\u001b[1;32m    586\u001b[0m     \u001b[0;32mif\u001b[0m \u001b[0mfix\u001b[0m\u001b[0;34m:\u001b[0m\u001b[0;34m\u001b[0m\u001b[0;34m\u001b[0m\u001b[0m\n",
      "\u001b[0;32m/usr/local/lib/python3.7/site-packages/resampy/core.py\u001b[0m in \u001b[0;36mresample\u001b[0;34m(x, sr_orig, sr_new, axis, filter, **kwargs)\u001b[0m\n\u001b[1;32m    118\u001b[0m     \u001b[0mx_2d\u001b[0m \u001b[0;34m=\u001b[0m \u001b[0mx\u001b[0m\u001b[0;34m.\u001b[0m\u001b[0mswapaxes\u001b[0m\u001b[0;34m(\u001b[0m\u001b[0;36m0\u001b[0m\u001b[0;34m,\u001b[0m \u001b[0maxis\u001b[0m\u001b[0;34m)\u001b[0m\u001b[0;34m.\u001b[0m\u001b[0mreshape\u001b[0m\u001b[0;34m(\u001b[0m\u001b[0;34m(\u001b[0m\u001b[0mx\u001b[0m\u001b[0;34m.\u001b[0m\u001b[0mshape\u001b[0m\u001b[0;34m[\u001b[0m\u001b[0maxis\u001b[0m\u001b[0;34m]\u001b[0m\u001b[0;34m,\u001b[0m \u001b[0;34m-\u001b[0m\u001b[0;36m1\u001b[0m\u001b[0;34m)\u001b[0m\u001b[0;34m)\u001b[0m\u001b[0;34m\u001b[0m\u001b[0;34m\u001b[0m\u001b[0m\n\u001b[1;32m    119\u001b[0m     \u001b[0my_2d\u001b[0m \u001b[0;34m=\u001b[0m \u001b[0my\u001b[0m\u001b[0;34m.\u001b[0m\u001b[0mswapaxes\u001b[0m\u001b[0;34m(\u001b[0m\u001b[0;36m0\u001b[0m\u001b[0;34m,\u001b[0m \u001b[0maxis\u001b[0m\u001b[0;34m)\u001b[0m\u001b[0;34m.\u001b[0m\u001b[0mreshape\u001b[0m\u001b[0;34m(\u001b[0m\u001b[0;34m(\u001b[0m\u001b[0my\u001b[0m\u001b[0;34m.\u001b[0m\u001b[0mshape\u001b[0m\u001b[0;34m[\u001b[0m\u001b[0maxis\u001b[0m\u001b[0;34m]\u001b[0m\u001b[0;34m,\u001b[0m \u001b[0;34m-\u001b[0m\u001b[0;36m1\u001b[0m\u001b[0;34m)\u001b[0m\u001b[0;34m)\u001b[0m\u001b[0;34m\u001b[0m\u001b[0;34m\u001b[0m\u001b[0m\n\u001b[0;32m--> 120\u001b[0;31m     \u001b[0mresample_f\u001b[0m\u001b[0;34m(\u001b[0m\u001b[0mx_2d\u001b[0m\u001b[0;34m,\u001b[0m \u001b[0my_2d\u001b[0m\u001b[0;34m,\u001b[0m \u001b[0msample_ratio\u001b[0m\u001b[0;34m,\u001b[0m \u001b[0minterp_win\u001b[0m\u001b[0;34m,\u001b[0m \u001b[0minterp_delta\u001b[0m\u001b[0;34m,\u001b[0m \u001b[0mprecision\u001b[0m\u001b[0;34m)\u001b[0m\u001b[0;34m\u001b[0m\u001b[0;34m\u001b[0m\u001b[0m\n\u001b[0m\u001b[1;32m    121\u001b[0m \u001b[0;34m\u001b[0m\u001b[0m\n\u001b[1;32m    122\u001b[0m     \u001b[0;32mreturn\u001b[0m \u001b[0my\u001b[0m\u001b[0;34m\u001b[0m\u001b[0;34m\u001b[0m\u001b[0m\n",
      "\u001b[0;31mKeyboardInterrupt\u001b[0m: "
     ]
    }
   ],
   "source": [
    "# Make directories to save mel-spectrograms.\n",
    "for genre in genres:\n",
    "  os.makedirs('gtzan/spec/' + genre, exist_ok=True)\n",
    "  \n",
    "for path_in in tqdm(train + test):\n",
    "  # The spectrograms will be saved under `gtzan/spec/` with an file extension of `.npy`\n",
    "  path_out = 'gtzan/spec/' + path_in.replace('.wav', '.npy')\n",
    "\n",
    "  # Skip if the spectrogram already exists\n",
    "  if os.path.isfile(path_out):\n",
    "    continue\n",
    "    \n",
    "  # Load the audio signal with the desired sampling rate (SR).\n",
    "  sig, _ = librosa.load(f'gtzan/wav/{path_in}', sr=SR, res_type='kaiser_fast')\n",
    "  # Compute power mel-spectrogram.\n",
    "  melspec = librosa.feature.melspectrogram(sig, sr=SR, n_fft=FFT_SIZE, hop_length=FFT_HOP, n_mels=NUM_MELS)\n",
    "  # Transform the power mel-spectrogram into the log compressed mel-spectrogram.\n",
    "  melspec = librosa.power_to_db(melspec)\n",
    "  # \"float64\" uses too much memory! \"float32\" has enough precision for spectrograms.\n",
    "  melspec = melspec.astype('float32')\n",
    "\n",
    "  # Save the spectrogram.\n",
    "  np.save(path_out, melspec)"
   ]
  },
  {
   "cell_type": "markdown",
   "metadata": {
    "id": "LykkQw0eLDWJ"
   },
   "source": [
    "## Defining a dataset of spectrograms"
   ]
  },
  {
   "cell_type": "code",
   "execution_count": 10,
   "metadata": {
    "id": "L6YDccHNLdI1"
   },
   "outputs": [],
   "source": [
    "# Data processing setup.\n",
    "BATCH_SIZE = 4"
   ]
  },
  {
   "cell_type": "code",
   "execution_count": 11,
   "metadata": {
    "id": "HfeuWIyfiSsD"
   },
   "outputs": [],
   "source": [
    "class SpecDataset(Dataset):\n",
    "  def __init__(self, paths, mean=0, std=1, time_dim_size=None):\n",
    "    self.paths = paths\n",
    "    self.mean = mean\n",
    "    self.std = std\n",
    "    self.time_dim_size = time_dim_size\n",
    "\n",
    "  def __getitem__(self, i):\n",
    "    # Get i-th path.\n",
    "    path = self.paths[i]\n",
    "    # Get i-th spectrogram path.\n",
    "    path = 'gtzan/spec/' + path.replace('.wav', '.npy')\n",
    "\n",
    "    # Extract the genre from its path.\n",
    "    genre = path.split('/')[-2]\n",
    "    # Trun the genre into index number.\n",
    "    label = genre_dict[genre]\n",
    "\n",
    "    # Load the mel-spectrogram.\n",
    "    spec = np.load(path)\n",
    "    if self.time_dim_size is not None:\n",
    "      # Slice the temporal dimension with a fixed length so that they have\n",
    "      # the same temporal dimensionality in mini-batches.\n",
    "      spec = spec[:, :self.time_dim_size]\n",
    "    # Perform standard normalization using pre-computed mean and std.\n",
    "    spec = (spec - self.mean) / self.std\n",
    "\n",
    "    return spec, label\n",
    "  \n",
    "  def __len__(self):\n",
    "    return len(self.paths)"
   ]
  },
  {
   "cell_type": "markdown",
   "metadata": {
    "id": "Q7mZxLEgJ6ON"
   },
   "source": [
    "### Computing statistics of the training set\n",
    "The code below compute mean, standard deviation and the minimum temporal dimension size, and use them for preprocessing inputs."
   ]
  },
  {
   "cell_type": "code",
   "execution_count": 12,
   "metadata": {
    "id": "ZSNZ81-0nbWp"
   },
   "outputs": [
    {
     "data": {
      "text/plain": [
       "(936, -18.100582, 16.520634)"
      ]
     },
     "execution_count": 12,
     "metadata": {},
     "output_type": "execute_result"
    }
   ],
   "source": [
    "# Load all spectrograms.\n",
    "dataset_train = SpecDataset(train)\n",
    "specs = [s for s, _ in dataset_train]\n",
    "# Compute the minimum temporal dimension size.\n",
    "time_dims = [s.shape[1] for s in specs]\n",
    "min_time_dim_size = min(time_dims)\n",
    "# Stack the spectrograms\n",
    "specs = [s[:, :min_time_dim_size] for s in specs]\n",
    "specs = np.stack(specs)\n",
    "# Compute mean and standard deviation for standard normalization.\n",
    "mean = specs.mean()\n",
    "std = specs.std()\n",
    "\n",
    "min_time_dim_size, mean, std, "
   ]
  },
  {
   "cell_type": "markdown",
   "metadata": {
    "id": "S6pspUSkKpYc"
   },
   "source": [
    "### Creating datasets and data loaders using the pre-computed statistics"
   ]
  },
  {
   "cell_type": "code",
   "execution_count": 13,
   "metadata": {
    "id": "L6iSe9gni2M1"
   },
   "outputs": [],
   "source": [
    "dataset_train = SpecDataset(train, mean, std, min_time_dim_size)\n",
    "dataset_test = SpecDataset(test, mean, std, min_time_dim_size)\n",
    "\n",
    "num_workers = os.cpu_count()\n",
    "# the drop_last argument drops the last non-full batch of each worker’s dataset replica.\n",
    "loader_train = DataLoader(dataset_train, batch_size=BATCH_SIZE, shuffle=True, num_workers=num_workers, drop_last=True)\n",
    "loader_test = DataLoader(dataset_test, batch_size=BATCH_SIZE, shuffle=False, num_workers=num_workers, drop_last=False)"
   ]
  },
  {
   "cell_type": "markdown",
   "metadata": {
    "id": "DbODI4qpWYeo"
   },
   "source": [
    "## Training a baseline\n",
    "The table below shows the architecture of the baseline.\n",
    "\n",
    "| Layer          | Output Size | Details                 |\n",
    "|----------------|-------------|-------------------------|\n",
    "| conv           | 32 x 936    | kernel_size=7, stride=1 |\n",
    "| maxpool        | 32 x 133    | kernel_size=7, stride=7 |\n",
    "| conv           | 32 x 133    | kernel_size=7, stride=1 |\n",
    "| maxpool        | 32 x 19     | kernel_size=7, stride=7 |\n",
    "| conv           | 32 x 19     | kernel_size=7, stride=1 |\n",
    "| maxpool        | 32 x 2      | kernel_size=7, stride=7 |\n",
    "| global_avgpool | 32 x 1      | -                       |\n",
    "\n",
    "The class below is an implementation of it:"
   ]
  },
  {
   "cell_type": "code",
   "execution_count": 14,
   "metadata": {
    "id": "P2ZC-xNf2sgF"
   },
   "outputs": [],
   "source": [
    "class Baseline(nn.Module):\n",
    "  def __init__(self):\n",
    "    super(Baseline, self).__init__()\n",
    "\n",
    "    self.conv0 = nn.Sequential(\n",
    "      nn.Conv1d(NUM_MELS, out_channels=32, kernel_size=7, stride=1, padding=3),\n",
    "      nn.BatchNorm1d(32),\n",
    "      nn.ReLU(),\n",
    "      nn.MaxPool1d(kernel_size=7, stride=7)\n",
    "    )\n",
    "\n",
    "    self.conv1 = nn.Sequential(\n",
    "      nn.Conv1d(32, out_channels=32, kernel_size=7, stride=1, padding=3),\n",
    "      nn.BatchNorm1d(32),\n",
    "      nn.ReLU(),\n",
    "      nn.MaxPool1d(kernel_size=7, stride=7)\n",
    "    )\n",
    "\n",
    "    self.conv2 = nn.Sequential(\n",
    "      nn.Conv1d(32, out_channels=32, kernel_size=7, stride=1, padding=3),\n",
    "      nn.BatchNorm1d(32),\n",
    "      nn.ReLU(),\n",
    "      nn.MaxPool1d(kernel_size=7, stride=7)\n",
    "    )\n",
    "\n",
    "    # Aggregate features over temporal dimension.\n",
    "    self.final_pool = nn.AdaptiveAvgPool1d(1)\n",
    "\n",
    "    # Predict genres using the aggregated features.\n",
    "    self.linear = nn.Linear(32, len(genres))\n",
    "\n",
    "  def forward(self, x):\n",
    "    x = self.conv0(x)\n",
    "    x = self.conv1(x)\n",
    "    x = self.conv2(x)\n",
    "    x = self.final_pool(x)\n",
    "    x = self.linear(x.squeeze(-1))\n",
    "    return x"
   ]
  },
  {
   "cell_type": "code",
   "execution_count": 15,
   "metadata": {
    "id": "g2fCKvL70Ydr"
   },
   "outputs": [],
   "source": [
    "# Training setup.\n",
    "LR = 0.0006  # learning rate\n",
    "MOMENTUM = 0.9\n",
    "NUM_EPOCHS = 10\n",
    "weight_decay = 0.0  # L2 regularization weight"
   ]
  },
  {
   "cell_type": "code",
   "execution_count": 16,
   "metadata": {
    "id": "ChMVPF0XkmAu"
   },
   "outputs": [
    {
     "data": {
      "text/plain": [
       "Baseline(\n",
       "  (conv0): Sequential(\n",
       "    (0): Conv1d(96, 32, kernel_size=(7,), stride=(1,), padding=(3,))\n",
       "    (1): BatchNorm1d(32, eps=1e-05, momentum=0.1, affine=True, track_running_stats=True)\n",
       "    (2): ReLU()\n",
       "    (3): MaxPool1d(kernel_size=7, stride=7, padding=0, dilation=1, ceil_mode=False)\n",
       "  )\n",
       "  (conv1): Sequential(\n",
       "    (0): Conv1d(32, 32, kernel_size=(7,), stride=(1,), padding=(3,))\n",
       "    (1): BatchNorm1d(32, eps=1e-05, momentum=0.1, affine=True, track_running_stats=True)\n",
       "    (2): ReLU()\n",
       "    (3): MaxPool1d(kernel_size=7, stride=7, padding=0, dilation=1, ceil_mode=False)\n",
       "  )\n",
       "  (conv2): Sequential(\n",
       "    (0): Conv1d(32, 32, kernel_size=(7,), stride=(1,), padding=(3,))\n",
       "    (1): BatchNorm1d(32, eps=1e-05, momentum=0.1, affine=True, track_running_stats=True)\n",
       "    (2): ReLU()\n",
       "    (3): MaxPool1d(kernel_size=7, stride=7, padding=0, dilation=1, ceil_mode=False)\n",
       "  )\n",
       "  (final_pool): AdaptiveAvgPool1d(output_size=1)\n",
       "  (linear): Linear(in_features=32, out_features=8, bias=True)\n",
       ")"
      ]
     },
     "execution_count": 16,
     "metadata": {},
     "output_type": "execute_result"
    }
   ],
   "source": [
    "model = Baseline()\n",
    "model"
   ]
  },
  {
   "cell_type": "code",
   "execution_count": 17,
   "metadata": {
    "id": "GbzPhKsz01ZX"
   },
   "outputs": [
    {
     "name": "stdout",
     "output_type": "stream",
     "text": [
      "Optimizer: SGD (\n",
      "Parameter Group 0\n",
      "    dampening: 0\n",
      "    lr: 0.0006\n",
      "    momentum: 0.9\n",
      "    nesterov: True\n",
      "    weight_decay: 0.0\n",
      ")\n",
      "Device: cuda\n"
     ]
    }
   ],
   "source": [
    "# Define a loss function, which is cross entropy here.\n",
    "criterion = torch.nn.CrossEntropyLoss()\n",
    "# Setup an optimizer. Here, we use Stochastic gradient descent (SGD) with a nesterov mementum.\n",
    "optimizer = torch.optim.SGD(model.parameters(), lr=LR, momentum=MOMENTUM, nesterov=True, weight_decay=weight_decay)\n",
    "# Choose a device. We will use GPU if it's available, otherwise CPU.\n",
    "device = torch.device('cuda') if torch.cuda.is_available() else torch.device('cpu')\n",
    "# Move variables to the desired device.\n",
    "model.to(device)\n",
    "criterion.to(device)\n",
    "\n",
    "print(f'Optimizer: {optimizer}')\n",
    "print(f'Device: {device}')"
   ]
  },
  {
   "cell_type": "code",
   "execution_count": 18,
   "metadata": {
    "id": "ABFnD3tN2CRw"
   },
   "outputs": [],
   "source": [
    "# Util function for computing accuracy.\n",
    "def accuracy(source, target):\n",
    "  source = source.max(1)[1].long().cpu()\n",
    "  target = target.cpu()\n",
    "  correct = (source == target).sum().item()\n",
    "  return correct / float(source.shape[0])"
   ]
  },
  {
   "cell_type": "code",
   "execution_count": 19,
   "metadata": {
    "id": "2DBAh6pskuaY"
   },
   "outputs": [
    {
     "data": {
      "application/vnd.jupyter.widget-view+json": {
       "model_id": "816cab8d119f41ada9ee25e65f981fe2",
       "version_major": 2,
       "version_minor": 0
      },
      "text/plain": [
       "HBox(children=(FloatProgress(value=0.0, description='Epoch 00', max=145.0, style=ProgressStyle(description_wid…"
      ]
     },
     "metadata": {},
     "output_type": "display_data"
    },
    {
     "name": "stdout",
     "output_type": "stream",
     "text": [
      "\n"
     ]
    },
    {
     "data": {
      "application/vnd.jupyter.widget-view+json": {
       "model_id": "3d65c06331ad406ab2f8f555afdb9367",
       "version_major": 2,
       "version_minor": 0
      },
      "text/plain": [
       "HBox(children=(FloatProgress(value=0.0, description='Epoch 01', max=145.0, style=ProgressStyle(description_wid…"
      ]
     },
     "metadata": {},
     "output_type": "display_data"
    },
    {
     "name": "stdout",
     "output_type": "stream",
     "text": [
      "\n"
     ]
    },
    {
     "data": {
      "application/vnd.jupyter.widget-view+json": {
       "model_id": "849eff2212324dceac9edb2de52e5f3b",
       "version_major": 2,
       "version_minor": 0
      },
      "text/plain": [
       "HBox(children=(FloatProgress(value=0.0, description='Epoch 02', max=145.0, style=ProgressStyle(description_wid…"
      ]
     },
     "metadata": {},
     "output_type": "display_data"
    },
    {
     "name": "stdout",
     "output_type": "stream",
     "text": [
      "\n"
     ]
    },
    {
     "data": {
      "application/vnd.jupyter.widget-view+json": {
       "model_id": "b7b26936254e4f6cbe128f5d0ee171af",
       "version_major": 2,
       "version_minor": 0
      },
      "text/plain": [
       "HBox(children=(FloatProgress(value=0.0, description='Epoch 03', max=145.0, style=ProgressStyle(description_wid…"
      ]
     },
     "metadata": {},
     "output_type": "display_data"
    },
    {
     "name": "stdout",
     "output_type": "stream",
     "text": [
      "\n"
     ]
    },
    {
     "data": {
      "application/vnd.jupyter.widget-view+json": {
       "model_id": "8dd605dac2df4ff5ab59cb2ec40b4c20",
       "version_major": 2,
       "version_minor": 0
      },
      "text/plain": [
       "HBox(children=(FloatProgress(value=0.0, description='Epoch 04', max=145.0, style=ProgressStyle(description_wid…"
      ]
     },
     "metadata": {},
     "output_type": "display_data"
    },
    {
     "name": "stdout",
     "output_type": "stream",
     "text": [
      "\n"
     ]
    },
    {
     "data": {
      "application/vnd.jupyter.widget-view+json": {
       "model_id": "d0d62f0f2d934211bab64fa8c6f5b09c",
       "version_major": 2,
       "version_minor": 0
      },
      "text/plain": [
       "HBox(children=(FloatProgress(value=0.0, description='Epoch 05', max=145.0, style=ProgressStyle(description_wid…"
      ]
     },
     "metadata": {},
     "output_type": "display_data"
    },
    {
     "name": "stdout",
     "output_type": "stream",
     "text": [
      "\n"
     ]
    },
    {
     "data": {
      "application/vnd.jupyter.widget-view+json": {
       "model_id": "f7eed5280ffa4dcc89890b4a023487bb",
       "version_major": 2,
       "version_minor": 0
      },
      "text/plain": [
       "HBox(children=(FloatProgress(value=0.0, description='Epoch 06', max=145.0, style=ProgressStyle(description_wid…"
      ]
     },
     "metadata": {},
     "output_type": "display_data"
    },
    {
     "name": "stdout",
     "output_type": "stream",
     "text": [
      "\n"
     ]
    },
    {
     "data": {
      "application/vnd.jupyter.widget-view+json": {
       "model_id": "d11fd870df1b4e2db453aab5ada3eb9c",
       "version_major": 2,
       "version_minor": 0
      },
      "text/plain": [
       "HBox(children=(FloatProgress(value=0.0, description='Epoch 07', max=145.0, style=ProgressStyle(description_wid…"
      ]
     },
     "metadata": {},
     "output_type": "display_data"
    },
    {
     "name": "stdout",
     "output_type": "stream",
     "text": [
      "\n"
     ]
    },
    {
     "data": {
      "application/vnd.jupyter.widget-view+json": {
       "model_id": "b2e0a0723e8a44d1ba5cdf7ba1c46f2b",
       "version_major": 2,
       "version_minor": 0
      },
      "text/plain": [
       "HBox(children=(FloatProgress(value=0.0, description='Epoch 08', max=145.0, style=ProgressStyle(description_wid…"
      ]
     },
     "metadata": {},
     "output_type": "display_data"
    },
    {
     "name": "stdout",
     "output_type": "stream",
     "text": [
      "\n"
     ]
    },
    {
     "data": {
      "application/vnd.jupyter.widget-view+json": {
       "model_id": "9af3d286bdd14e61965dd5e79ac96562",
       "version_major": 2,
       "version_minor": 0
      },
      "text/plain": [
       "HBox(children=(FloatProgress(value=0.0, description='Epoch 09', max=145.0, style=ProgressStyle(description_wid…"
      ]
     },
     "metadata": {},
     "output_type": "display_data"
    },
    {
     "name": "stdout",
     "output_type": "stream",
     "text": [
      "\n"
     ]
    }
   ],
   "source": [
    "# Set the status of the model as training.\n",
    "model.train()\n",
    "\n",
    "# Iterate over epochs.\n",
    "for epoch in range(NUM_EPOCHS):\n",
    "  epoch_loss = 0\n",
    "  epoch_acc = 0\n",
    "  pbar = tqdm(loader_train, desc=f'Epoch {epoch:02}')  # progress bar\n",
    "  for x, y in pbar:\n",
    "    # Move mini-batch to the desired device.\n",
    "    x = x.to(device)\n",
    "    y = y.to(device)\n",
    "\n",
    "    # Feed forward the model.\n",
    "    prediction = model(x)\n",
    "    # Compute the loss.\n",
    "    loss = criterion(prediction, y)\n",
    "    # Compute the accuracy.\n",
    "    acc = accuracy(prediction, y)\n",
    "\n",
    "    # Perform backward propagation to compute gradients.\n",
    "    loss.backward()\n",
    "    # Update the parameters.\n",
    "    optimizer.step()\n",
    "    # Reset the computed gradients.\n",
    "    optimizer.zero_grad()\n",
    "\n",
    "    # Log training metrics.\n",
    "    batch_size = len(x)\n",
    "    epoch_loss += batch_size * loss.item()\n",
    "    epoch_acc += batch_size * acc\n",
    "    # Update the progress bar.\n",
    "    pbar.set_postfix({'loss': epoch_loss / len(dataset_train), \n",
    "                      'acc': epoch_acc / len(dataset_train)})"
   ]
  },
  {
   "cell_type": "code",
   "execution_count": 20,
   "metadata": {
    "id": "ZsaLepTZk8RF"
   },
   "outputs": [
    {
     "data": {
      "application/vnd.jupyter.widget-view+json": {
       "model_id": "3369ac3938fe439b91cca4e81abe43a7",
       "version_major": 2,
       "version_minor": 0
      },
      "text/plain": [
       "HBox(children=(FloatProgress(value=0.0, description='Test', max=38.0, style=ProgressStyle(description_width='i…"
      ]
     },
     "metadata": {},
     "output_type": "display_data"
    },
    {
     "name": "stdout",
     "output_type": "stream",
     "text": [
      "\n",
      "test_loss=1.10847, test_acc=66.67%\n"
     ]
    }
   ],
   "source": [
    "# Set the status of the model as evaluation.\n",
    "model.eval()\n",
    "\n",
    "# `torch.no_grad()` disables computing gradients. The gradients are still \n",
    "# computed even though you use `model.eval()`. You should use `torch.no_grad()` \n",
    "# if you don't want your memory is overflowed because of unnecesary gradients.\n",
    "with torch.no_grad():\n",
    "  epoch_loss = 0\n",
    "  epoch_acc = 0\n",
    "  pbar = tqdm(loader_test, desc=f'Test')  # progress bar\n",
    "  for x, y in pbar:\n",
    "    # Move mini-batch to the desired device.\n",
    "    x = x.to(device)\n",
    "    y = y.to(device)\n",
    "\n",
    "    # Feed forward the model.\n",
    "    prediction = model(x)\n",
    "    # Compute the loss.\n",
    "    loss = criterion(prediction, y)\n",
    "    # Compute the accuracy.\n",
    "    acc = accuracy(prediction, y)\n",
    "\n",
    "    # Log training metrics.\n",
    "    batch_size = len(x)\n",
    "    epoch_loss += batch_size * loss.item()\n",
    "    epoch_acc += batch_size * acc\n",
    "    # Update the progress bar.\n",
    "    pbar.set_postfix({'loss': epoch_loss / len(dataset_test), 'acc': epoch_acc / len(dataset_test)})\n",
    "\n",
    "# Compute the evaluation scores.\n",
    "test_loss = epoch_loss / len(dataset_test)\n",
    "test_acc = epoch_acc / len(dataset_test)\n",
    "\n",
    "print(f'test_loss={test_loss:.5f}, test_acc={test_acc * 100:.2f}%')"
   ]
  },
  {
   "cell_type": "markdown",
   "metadata": {
    "id": "L3Zwk73MGHmx"
   },
   "source": [
    "### [Question 1] Implement the given architecture.\n",
    "Implement a CNN with the architecture below, train, and report a test accuracy of the CNN.\n",
    "\n",
    "| Layer          | Output Size | Details                 |\n",
    "|----------------|-------------|-------------------------|\n",
    "| conv           | 16 x 936    | kernel_size=7, stride=1 |\n",
    "| maxpool        | 16 x 133    | kernel_size=7, stride=7 |\n",
    "| conv           | 32 x 133    | kernel_size=5, stride=1 |\n",
    "| maxpool        | 32 x 26     | kernel_size=5, stride=5 |\n",
    "| conv           | 64 x 26     | kernel_size=3, stride=1 |\n",
    "| maxpool        | 64 x 8      | kernel_size=3, stride=3 |\n",
    "| conv           | 128 x 8     | kernel_size=3, stride=1 |\n",
    "| maxpool        | 128 x 2     | kernel_size=3, stride=3 |\n",
    "| global_avgpool | 32 x 1      | -                       |\n",
    "\n",
    "Note: you should give appropriate paddings! "
   ]
  },
  {
   "cell_type": "code",
   "execution_count": 21,
   "metadata": {
    "id": "pjP6-Q6Lhqwi"
   },
   "outputs": [],
   "source": [
    "# TODO: Question 1\n",
    "## (L_in + 2p - (k - 1) - 1)/s + 1 = L_out\n",
    "class Q1(nn.Module):\n",
    "  def __init__(self):\n",
    "    super(Q1, self).__init__()\n",
    "\n",
    "    self.conv0 = nn.Sequential(\n",
    "      nn.Conv1d(NUM_MELS, out_channels=16, kernel_size=7, stride=1, padding=3),\n",
    "      nn.BatchNorm1d(16),\n",
    "      nn.ReLU(),\n",
    "      nn.MaxPool1d(kernel_size=7, stride=7)\n",
    "    )\n",
    "\n",
    "    self.conv1 = nn.Sequential(\n",
    "      nn.Conv1d(16, out_channels=32, kernel_size=5, stride=1, padding=2),\n",
    "      nn.BatchNorm1d(32),\n",
    "      nn.ReLU(),\n",
    "      nn.MaxPool1d(kernel_size=5, stride=5)\n",
    "    )\n",
    "\n",
    "    self.conv2 = nn.Sequential(\n",
    "      nn.Conv1d(32, out_channels=64, kernel_size=3, stride=1, padding=1),\n",
    "      nn.BatchNorm1d(64),\n",
    "      nn.ReLU(),\n",
    "      nn.MaxPool1d(kernel_size=3, stride=3)\n",
    "    )\n",
    "\n",
    "    self.conv3 = nn.Sequential(\n",
    "      nn.Conv1d(64, out_channels=128, kernel_size=3, stride=1, padding=1),\n",
    "      nn.BatchNorm1d(128),\n",
    "      nn.ReLU(),\n",
    "      nn.MaxPool1d(kernel_size=3, stride=3)\n",
    "    )\n",
    "    \n",
    "    # Aggregate features over temporal dimension.\n",
    "    self.final_pool = nn.AdaptiveAvgPool1d(1)\n",
    "\n",
    "    # Predict genres using the aggregated features.\n",
    "    self.linear = nn.Linear(128, len(genres))\n",
    "\n",
    "  def forward(self, x):\n",
    "    x = self.conv0(x)\n",
    "    x = self.conv1(x)\n",
    "    x = self.conv2(x)\n",
    "    x = self.conv3(x)\n",
    "    x = self.final_pool(x)\n",
    "    x = self.linear(x.squeeze(-1))\n",
    "    return x"
   ]
  },
  {
   "cell_type": "code",
   "execution_count": 22,
   "metadata": {},
   "outputs": [
    {
     "data": {
      "text/plain": [
       "Q1(\n",
       "  (conv0): Sequential(\n",
       "    (0): Conv1d(96, 16, kernel_size=(7,), stride=(1,), padding=(3,))\n",
       "    (1): BatchNorm1d(16, eps=1e-05, momentum=0.1, affine=True, track_running_stats=True)\n",
       "    (2): ReLU()\n",
       "    (3): MaxPool1d(kernel_size=7, stride=7, padding=0, dilation=1, ceil_mode=False)\n",
       "  )\n",
       "  (conv1): Sequential(\n",
       "    (0): Conv1d(16, 32, kernel_size=(5,), stride=(1,), padding=(2,))\n",
       "    (1): BatchNorm1d(32, eps=1e-05, momentum=0.1, affine=True, track_running_stats=True)\n",
       "    (2): ReLU()\n",
       "    (3): MaxPool1d(kernel_size=5, stride=5, padding=0, dilation=1, ceil_mode=False)\n",
       "  )\n",
       "  (conv2): Sequential(\n",
       "    (0): Conv1d(32, 64, kernel_size=(3,), stride=(1,), padding=(1,))\n",
       "    (1): BatchNorm1d(64, eps=1e-05, momentum=0.1, affine=True, track_running_stats=True)\n",
       "    (2): ReLU()\n",
       "    (3): MaxPool1d(kernel_size=3, stride=3, padding=0, dilation=1, ceil_mode=False)\n",
       "  )\n",
       "  (conv3): Sequential(\n",
       "    (0): Conv1d(64, 128, kernel_size=(3,), stride=(1,), padding=(1,))\n",
       "    (1): BatchNorm1d(128, eps=1e-05, momentum=0.1, affine=True, track_running_stats=True)\n",
       "    (2): ReLU()\n",
       "    (3): MaxPool1d(kernel_size=3, stride=3, padding=0, dilation=1, ceil_mode=False)\n",
       "  )\n",
       "  (final_pool): AdaptiveAvgPool1d(output_size=1)\n",
       "  (linear): Linear(in_features=128, out_features=8, bias=True)\n",
       ")"
      ]
     },
     "execution_count": 22,
     "metadata": {},
     "output_type": "execute_result"
    }
   ],
   "source": [
    "Q1_model = Q1()\n",
    "Q1_model"
   ]
  },
  {
   "cell_type": "code",
   "execution_count": 23,
   "metadata": {},
   "outputs": [
    {
     "name": "stdout",
     "output_type": "stream",
     "text": [
      "Optimizer: SGD (\n",
      "Parameter Group 0\n",
      "    dampening: 0\n",
      "    lr: 0.0006\n",
      "    momentum: 0.9\n",
      "    nesterov: True\n",
      "    weight_decay: 0.0\n",
      ")\n",
      "Device: cuda\n",
      "----------------------------------------------------------------\n",
      "        Layer (type)               Output Shape         Param #\n",
      "================================================================\n",
      "            Conv1d-1              [-1, 16, 936]          10,768\n",
      "       BatchNorm1d-2              [-1, 16, 936]              32\n",
      "              ReLU-3              [-1, 16, 936]               0\n",
      "         MaxPool1d-4              [-1, 16, 133]               0\n",
      "            Conv1d-5              [-1, 32, 133]           2,592\n",
      "       BatchNorm1d-6              [-1, 32, 133]              64\n",
      "              ReLU-7              [-1, 32, 133]               0\n",
      "         MaxPool1d-8               [-1, 32, 26]               0\n",
      "            Conv1d-9               [-1, 64, 26]           6,208\n",
      "      BatchNorm1d-10               [-1, 64, 26]             128\n",
      "             ReLU-11               [-1, 64, 26]               0\n",
      "        MaxPool1d-12                [-1, 64, 8]               0\n",
      "           Conv1d-13               [-1, 128, 8]          24,704\n",
      "      BatchNorm1d-14               [-1, 128, 8]             256\n",
      "             ReLU-15               [-1, 128, 8]               0\n",
      "        MaxPool1d-16               [-1, 128, 2]               0\n",
      "AdaptiveAvgPool1d-17               [-1, 128, 1]               0\n",
      "           Linear-18                    [-1, 8]           1,032\n",
      "================================================================\n",
      "Total params: 45,784\n",
      "Trainable params: 45,784\n",
      "Non-trainable params: 0\n",
      "----------------------------------------------------------------\n",
      "Input size (MB): 0.34\n",
      "Forward/backward pass size (MB): 0.53\n",
      "Params size (MB): 0.17\n",
      "Estimated Total Size (MB): 1.05\n",
      "----------------------------------------------------------------\n"
     ]
    }
   ],
   "source": [
    "# Define a loss function, which is cross entropy here.\n",
    "Q1_criterion = torch.nn.CrossEntropyLoss()\n",
    "# Setup an optimizer. Here, we use Stochastic gradient descent (SGD) with a nesterov mementum.\n",
    "Q1_optimizer = torch.optim.SGD(Q1_model.parameters(), lr=LR, momentum=MOMENTUM, nesterov=True, weight_decay=weight_decay)\n",
    "\n",
    "# Move variables to the desired device.\n",
    "Q1_model.to(device)\n",
    "Q1_criterion.to(device)\n",
    "\n",
    "print(f'Optimizer: {Q1_optimizer}')\n",
    "print(f'Device: {device}')\n",
    "\n",
    "from torchsummary import summary\n",
    "summary(Q1_model, (NUM_MELS, 936))"
   ]
  },
  {
   "cell_type": "code",
   "execution_count": 24,
   "metadata": {},
   "outputs": [
    {
     "data": {
      "application/vnd.jupyter.widget-view+json": {
       "model_id": "561c071b04d746bcbd31844cc61202fd",
       "version_major": 2,
       "version_minor": 0
      },
      "text/plain": [
       "HBox(children=(FloatProgress(value=0.0, description='Epoch 00', max=145.0, style=ProgressStyle(description_wid…"
      ]
     },
     "metadata": {},
     "output_type": "display_data"
    },
    {
     "name": "stdout",
     "output_type": "stream",
     "text": [
      "\n"
     ]
    },
    {
     "data": {
      "application/vnd.jupyter.widget-view+json": {
       "model_id": "f574115d2ba94627a247f5b53c210bdb",
       "version_major": 2,
       "version_minor": 0
      },
      "text/plain": [
       "HBox(children=(FloatProgress(value=0.0, description='Epoch 01', max=145.0, style=ProgressStyle(description_wid…"
      ]
     },
     "metadata": {},
     "output_type": "display_data"
    },
    {
     "name": "stdout",
     "output_type": "stream",
     "text": [
      "\n"
     ]
    },
    {
     "data": {
      "application/vnd.jupyter.widget-view+json": {
       "model_id": "7b4982884c9f415c82d5ea1acaa37ccb",
       "version_major": 2,
       "version_minor": 0
      },
      "text/plain": [
       "HBox(children=(FloatProgress(value=0.0, description='Epoch 02', max=145.0, style=ProgressStyle(description_wid…"
      ]
     },
     "metadata": {},
     "output_type": "display_data"
    },
    {
     "name": "stdout",
     "output_type": "stream",
     "text": [
      "\n"
     ]
    },
    {
     "data": {
      "application/vnd.jupyter.widget-view+json": {
       "model_id": "ee5fec569c0544159dd683db64813645",
       "version_major": 2,
       "version_minor": 0
      },
      "text/plain": [
       "HBox(children=(FloatProgress(value=0.0, description='Epoch 03', max=145.0, style=ProgressStyle(description_wid…"
      ]
     },
     "metadata": {},
     "output_type": "display_data"
    },
    {
     "name": "stdout",
     "output_type": "stream",
     "text": [
      "\n"
     ]
    },
    {
     "data": {
      "application/vnd.jupyter.widget-view+json": {
       "model_id": "cdfed92763ca4e5990171008b07c5443",
       "version_major": 2,
       "version_minor": 0
      },
      "text/plain": [
       "HBox(children=(FloatProgress(value=0.0, description='Epoch 04', max=145.0, style=ProgressStyle(description_wid…"
      ]
     },
     "metadata": {},
     "output_type": "display_data"
    },
    {
     "name": "stdout",
     "output_type": "stream",
     "text": [
      "\n"
     ]
    },
    {
     "data": {
      "application/vnd.jupyter.widget-view+json": {
       "model_id": "ab6fbc47bf5a4a558e41594c88fb8946",
       "version_major": 2,
       "version_minor": 0
      },
      "text/plain": [
       "HBox(children=(FloatProgress(value=0.0, description='Epoch 05', max=145.0, style=ProgressStyle(description_wid…"
      ]
     },
     "metadata": {},
     "output_type": "display_data"
    },
    {
     "name": "stdout",
     "output_type": "stream",
     "text": [
      "\n"
     ]
    },
    {
     "data": {
      "application/vnd.jupyter.widget-view+json": {
       "model_id": "9b4bf6f8a9b94e29a7b188064d89854d",
       "version_major": 2,
       "version_minor": 0
      },
      "text/plain": [
       "HBox(children=(FloatProgress(value=0.0, description='Epoch 06', max=145.0, style=ProgressStyle(description_wid…"
      ]
     },
     "metadata": {},
     "output_type": "display_data"
    },
    {
     "name": "stdout",
     "output_type": "stream",
     "text": [
      "\n"
     ]
    },
    {
     "data": {
      "application/vnd.jupyter.widget-view+json": {
       "model_id": "baf39a2e0730440395f96f992852ca52",
       "version_major": 2,
       "version_minor": 0
      },
      "text/plain": [
       "HBox(children=(FloatProgress(value=0.0, description='Epoch 07', max=145.0, style=ProgressStyle(description_wid…"
      ]
     },
     "metadata": {},
     "output_type": "display_data"
    },
    {
     "name": "stdout",
     "output_type": "stream",
     "text": [
      "\n"
     ]
    },
    {
     "data": {
      "application/vnd.jupyter.widget-view+json": {
       "model_id": "e927cd66080f4a778a50172a11495077",
       "version_major": 2,
       "version_minor": 0
      },
      "text/plain": [
       "HBox(children=(FloatProgress(value=0.0, description='Epoch 08', max=145.0, style=ProgressStyle(description_wid…"
      ]
     },
     "metadata": {},
     "output_type": "display_data"
    },
    {
     "name": "stdout",
     "output_type": "stream",
     "text": [
      "\n"
     ]
    },
    {
     "data": {
      "application/vnd.jupyter.widget-view+json": {
       "model_id": "cecf1d3b83da45ed812db2f06b5a5336",
       "version_major": 2,
       "version_minor": 0
      },
      "text/plain": [
       "HBox(children=(FloatProgress(value=0.0, description='Epoch 09', max=145.0, style=ProgressStyle(description_wid…"
      ]
     },
     "metadata": {},
     "output_type": "display_data"
    },
    {
     "name": "stdout",
     "output_type": "stream",
     "text": [
      "\n"
     ]
    },
    {
     "data": {
      "application/vnd.jupyter.widget-view+json": {
       "model_id": "fcd1d3cb8a4e4304a2b4fd0877103998",
       "version_major": 2,
       "version_minor": 0
      },
      "text/plain": [
       "HBox(children=(FloatProgress(value=0.0, description='Epoch 10', max=145.0, style=ProgressStyle(description_wid…"
      ]
     },
     "metadata": {},
     "output_type": "display_data"
    },
    {
     "name": "stdout",
     "output_type": "stream",
     "text": [
      "\n"
     ]
    },
    {
     "data": {
      "application/vnd.jupyter.widget-view+json": {
       "model_id": "975b93226b76464681edab8387efc488",
       "version_major": 2,
       "version_minor": 0
      },
      "text/plain": [
       "HBox(children=(FloatProgress(value=0.0, description='Epoch 11', max=145.0, style=ProgressStyle(description_wid…"
      ]
     },
     "metadata": {},
     "output_type": "display_data"
    },
    {
     "name": "stdout",
     "output_type": "stream",
     "text": [
      "\n"
     ]
    },
    {
     "data": {
      "application/vnd.jupyter.widget-view+json": {
       "model_id": "7e0a08cc955041c2aef946773d0b3f57",
       "version_major": 2,
       "version_minor": 0
      },
      "text/plain": [
       "HBox(children=(FloatProgress(value=0.0, description='Epoch 12', max=145.0, style=ProgressStyle(description_wid…"
      ]
     },
     "metadata": {},
     "output_type": "display_data"
    },
    {
     "name": "stdout",
     "output_type": "stream",
     "text": [
      "\n"
     ]
    },
    {
     "data": {
      "application/vnd.jupyter.widget-view+json": {
       "model_id": "cd6bb30266524a08914a5921b851c8c2",
       "version_major": 2,
       "version_minor": 0
      },
      "text/plain": [
       "HBox(children=(FloatProgress(value=0.0, description='Epoch 13', max=145.0, style=ProgressStyle(description_wid…"
      ]
     },
     "metadata": {},
     "output_type": "display_data"
    },
    {
     "name": "stdout",
     "output_type": "stream",
     "text": [
      "\n"
     ]
    },
    {
     "data": {
      "application/vnd.jupyter.widget-view+json": {
       "model_id": "a453c4aa6dfd476ba14cfd86500da075",
       "version_major": 2,
       "version_minor": 0
      },
      "text/plain": [
       "HBox(children=(FloatProgress(value=0.0, description='Epoch 14', max=145.0, style=ProgressStyle(description_wid…"
      ]
     },
     "metadata": {},
     "output_type": "display_data"
    },
    {
     "name": "stdout",
     "output_type": "stream",
     "text": [
      "\n"
     ]
    },
    {
     "data": {
      "application/vnd.jupyter.widget-view+json": {
       "model_id": "16f8dea360134ecf89c2edf9cec56af8",
       "version_major": 2,
       "version_minor": 0
      },
      "text/plain": [
       "HBox(children=(FloatProgress(value=0.0, description='Epoch 15', max=145.0, style=ProgressStyle(description_wid…"
      ]
     },
     "metadata": {},
     "output_type": "display_data"
    },
    {
     "name": "stdout",
     "output_type": "stream",
     "text": [
      "\n"
     ]
    },
    {
     "data": {
      "application/vnd.jupyter.widget-view+json": {
       "model_id": "85605ec618e44b24985292c9f25ae5ab",
       "version_major": 2,
       "version_minor": 0
      },
      "text/plain": [
       "HBox(children=(FloatProgress(value=0.0, description='Epoch 16', max=145.0, style=ProgressStyle(description_wid…"
      ]
     },
     "metadata": {},
     "output_type": "display_data"
    },
    {
     "name": "stdout",
     "output_type": "stream",
     "text": [
      "\n"
     ]
    },
    {
     "data": {
      "application/vnd.jupyter.widget-view+json": {
       "model_id": "9042e8c5f202480987eb0879de0bbabf",
       "version_major": 2,
       "version_minor": 0
      },
      "text/plain": [
       "HBox(children=(FloatProgress(value=0.0, description='Epoch 17', max=145.0, style=ProgressStyle(description_wid…"
      ]
     },
     "metadata": {},
     "output_type": "display_data"
    },
    {
     "name": "stdout",
     "output_type": "stream",
     "text": [
      "\n"
     ]
    },
    {
     "data": {
      "application/vnd.jupyter.widget-view+json": {
       "model_id": "eba64ba75faf4f4493aaaa8480221f91",
       "version_major": 2,
       "version_minor": 0
      },
      "text/plain": [
       "HBox(children=(FloatProgress(value=0.0, description='Epoch 18', max=145.0, style=ProgressStyle(description_wid…"
      ]
     },
     "metadata": {},
     "output_type": "display_data"
    },
    {
     "name": "stdout",
     "output_type": "stream",
     "text": [
      "\n"
     ]
    },
    {
     "data": {
      "application/vnd.jupyter.widget-view+json": {
       "model_id": "b9f19bb0de4543098315b3e05e9117a8",
       "version_major": 2,
       "version_minor": 0
      },
      "text/plain": [
       "HBox(children=(FloatProgress(value=0.0, description='Epoch 19', max=145.0, style=ProgressStyle(description_wid…"
      ]
     },
     "metadata": {},
     "output_type": "display_data"
    },
    {
     "name": "stdout",
     "output_type": "stream",
     "text": [
      "\n"
     ]
    },
    {
     "data": {
      "application/vnd.jupyter.widget-view+json": {
       "model_id": "69be262706b340cab5714bc3b6a4d4d1",
       "version_major": 2,
       "version_minor": 0
      },
      "text/plain": [
       "HBox(children=(FloatProgress(value=0.0, description='Epoch 20', max=145.0, style=ProgressStyle(description_wid…"
      ]
     },
     "metadata": {},
     "output_type": "display_data"
    },
    {
     "name": "stdout",
     "output_type": "stream",
     "text": [
      "\n"
     ]
    },
    {
     "data": {
      "application/vnd.jupyter.widget-view+json": {
       "model_id": "b6a6a48358344911aa4abd3e2e8c11e8",
       "version_major": 2,
       "version_minor": 0
      },
      "text/plain": [
       "HBox(children=(FloatProgress(value=0.0, description='Epoch 21', max=145.0, style=ProgressStyle(description_wid…"
      ]
     },
     "metadata": {},
     "output_type": "display_data"
    },
    {
     "name": "stdout",
     "output_type": "stream",
     "text": [
      "\n"
     ]
    },
    {
     "data": {
      "application/vnd.jupyter.widget-view+json": {
       "model_id": "47522318a5b54dfb8e7d20e5697908b0",
       "version_major": 2,
       "version_minor": 0
      },
      "text/plain": [
       "HBox(children=(FloatProgress(value=0.0, description='Epoch 22', max=145.0, style=ProgressStyle(description_wid…"
      ]
     },
     "metadata": {},
     "output_type": "display_data"
    },
    {
     "name": "stdout",
     "output_type": "stream",
     "text": [
      "\n"
     ]
    },
    {
     "data": {
      "application/vnd.jupyter.widget-view+json": {
       "model_id": "610b6ab9ed64459a8a7cc1f497fb8e1f",
       "version_major": 2,
       "version_minor": 0
      },
      "text/plain": [
       "HBox(children=(FloatProgress(value=0.0, description='Epoch 23', max=145.0, style=ProgressStyle(description_wid…"
      ]
     },
     "metadata": {},
     "output_type": "display_data"
    },
    {
     "name": "stdout",
     "output_type": "stream",
     "text": [
      "\n"
     ]
    },
    {
     "data": {
      "application/vnd.jupyter.widget-view+json": {
       "model_id": "4c8241675edf4c349ab215b106459d3b",
       "version_major": 2,
       "version_minor": 0
      },
      "text/plain": [
       "HBox(children=(FloatProgress(value=0.0, description='Epoch 24', max=145.0, style=ProgressStyle(description_wid…"
      ]
     },
     "metadata": {},
     "output_type": "display_data"
    },
    {
     "name": "stdout",
     "output_type": "stream",
     "text": [
      "\n"
     ]
    },
    {
     "data": {
      "application/vnd.jupyter.widget-view+json": {
       "model_id": "a95b19aca94240efa3724fb3d522d5e5",
       "version_major": 2,
       "version_minor": 0
      },
      "text/plain": [
       "HBox(children=(FloatProgress(value=0.0, description='Epoch 25', max=145.0, style=ProgressStyle(description_wid…"
      ]
     },
     "metadata": {},
     "output_type": "display_data"
    },
    {
     "name": "stdout",
     "output_type": "stream",
     "text": [
      "\n"
     ]
    },
    {
     "data": {
      "application/vnd.jupyter.widget-view+json": {
       "model_id": "68eac6486975435d990d72bda4cfed57",
       "version_major": 2,
       "version_minor": 0
      },
      "text/plain": [
       "HBox(children=(FloatProgress(value=0.0, description='Epoch 26', max=145.0, style=ProgressStyle(description_wid…"
      ]
     },
     "metadata": {},
     "output_type": "display_data"
    },
    {
     "name": "stdout",
     "output_type": "stream",
     "text": [
      "\n"
     ]
    },
    {
     "data": {
      "application/vnd.jupyter.widget-view+json": {
       "model_id": "d5de5212fedf48d6b982f5a2a2c533b9",
       "version_major": 2,
       "version_minor": 0
      },
      "text/plain": [
       "HBox(children=(FloatProgress(value=0.0, description='Epoch 27', max=145.0, style=ProgressStyle(description_wid…"
      ]
     },
     "metadata": {},
     "output_type": "display_data"
    },
    {
     "name": "stdout",
     "output_type": "stream",
     "text": [
      "\n"
     ]
    },
    {
     "data": {
      "application/vnd.jupyter.widget-view+json": {
       "model_id": "af700f54ed4d4451b470deef93b2a421",
       "version_major": 2,
       "version_minor": 0
      },
      "text/plain": [
       "HBox(children=(FloatProgress(value=0.0, description='Epoch 28', max=145.0, style=ProgressStyle(description_wid…"
      ]
     },
     "metadata": {},
     "output_type": "display_data"
    },
    {
     "name": "stdout",
     "output_type": "stream",
     "text": [
      "\n"
     ]
    },
    {
     "data": {
      "application/vnd.jupyter.widget-view+json": {
       "model_id": "b9a3645db21e4ec1a49a338baa551708",
       "version_major": 2,
       "version_minor": 0
      },
      "text/plain": [
       "HBox(children=(FloatProgress(value=0.0, description='Epoch 29', max=145.0, style=ProgressStyle(description_wid…"
      ]
     },
     "metadata": {},
     "output_type": "display_data"
    },
    {
     "name": "stdout",
     "output_type": "stream",
     "text": [
      "\n"
     ]
    },
    {
     "data": {
      "application/vnd.jupyter.widget-view+json": {
       "model_id": "351b3332a5fd411da609437f9bd0ff5b",
       "version_major": 2,
       "version_minor": 0
      },
      "text/plain": [
       "HBox(children=(FloatProgress(value=0.0, description='Epoch 30', max=145.0, style=ProgressStyle(description_wid…"
      ]
     },
     "metadata": {},
     "output_type": "display_data"
    },
    {
     "name": "stdout",
     "output_type": "stream",
     "text": [
      "\n"
     ]
    },
    {
     "data": {
      "application/vnd.jupyter.widget-view+json": {
       "model_id": "8614cfc4738342c082cfd5bae4d84053",
       "version_major": 2,
       "version_minor": 0
      },
      "text/plain": [
       "HBox(children=(FloatProgress(value=0.0, description='Epoch 31', max=145.0, style=ProgressStyle(description_wid…"
      ]
     },
     "metadata": {},
     "output_type": "display_data"
    },
    {
     "name": "stdout",
     "output_type": "stream",
     "text": [
      "\n"
     ]
    },
    {
     "data": {
      "application/vnd.jupyter.widget-view+json": {
       "model_id": "783ec58ab69a49f0b5bf1e76c7801cdd",
       "version_major": 2,
       "version_minor": 0
      },
      "text/plain": [
       "HBox(children=(FloatProgress(value=0.0, description='Epoch 32', max=145.0, style=ProgressStyle(description_wid…"
      ]
     },
     "metadata": {},
     "output_type": "display_data"
    },
    {
     "name": "stdout",
     "output_type": "stream",
     "text": [
      "\n"
     ]
    },
    {
     "data": {
      "application/vnd.jupyter.widget-view+json": {
       "model_id": "580c6510a8f147fa8817f4cd3eac424a",
       "version_major": 2,
       "version_minor": 0
      },
      "text/plain": [
       "HBox(children=(FloatProgress(value=0.0, description='Epoch 33', max=145.0, style=ProgressStyle(description_wid…"
      ]
     },
     "metadata": {},
     "output_type": "display_data"
    },
    {
     "name": "stdout",
     "output_type": "stream",
     "text": [
      "\n"
     ]
    },
    {
     "data": {
      "application/vnd.jupyter.widget-view+json": {
       "model_id": "8c2cf2de06294fc5bbe3d8014737120b",
       "version_major": 2,
       "version_minor": 0
      },
      "text/plain": [
       "HBox(children=(FloatProgress(value=0.0, description='Epoch 34', max=145.0, style=ProgressStyle(description_wid…"
      ]
     },
     "metadata": {},
     "output_type": "display_data"
    },
    {
     "name": "stdout",
     "output_type": "stream",
     "text": [
      "\n"
     ]
    },
    {
     "data": {
      "application/vnd.jupyter.widget-view+json": {
       "model_id": "1b014c85090f42bcbe686b8c32be2d46",
       "version_major": 2,
       "version_minor": 0
      },
      "text/plain": [
       "HBox(children=(FloatProgress(value=0.0, description='Epoch 35', max=145.0, style=ProgressStyle(description_wid…"
      ]
     },
     "metadata": {},
     "output_type": "display_data"
    },
    {
     "name": "stdout",
     "output_type": "stream",
     "text": [
      "\n"
     ]
    },
    {
     "data": {
      "application/vnd.jupyter.widget-view+json": {
       "model_id": "c8676acb79274c1ba1e0d47bd33c7b00",
       "version_major": 2,
       "version_minor": 0
      },
      "text/plain": [
       "HBox(children=(FloatProgress(value=0.0, description='Epoch 36', max=145.0, style=ProgressStyle(description_wid…"
      ]
     },
     "metadata": {},
     "output_type": "display_data"
    },
    {
     "name": "stdout",
     "output_type": "stream",
     "text": [
      "\n"
     ]
    },
    {
     "data": {
      "application/vnd.jupyter.widget-view+json": {
       "model_id": "9749182d82954947b30149a4614acec0",
       "version_major": 2,
       "version_minor": 0
      },
      "text/plain": [
       "HBox(children=(FloatProgress(value=0.0, description='Epoch 37', max=145.0, style=ProgressStyle(description_wid…"
      ]
     },
     "metadata": {},
     "output_type": "display_data"
    },
    {
     "name": "stdout",
     "output_type": "stream",
     "text": [
      "\n"
     ]
    },
    {
     "data": {
      "application/vnd.jupyter.widget-view+json": {
       "model_id": "30308b1846ff486db941af82e432bccf",
       "version_major": 2,
       "version_minor": 0
      },
      "text/plain": [
       "HBox(children=(FloatProgress(value=0.0, description='Epoch 38', max=145.0, style=ProgressStyle(description_wid…"
      ]
     },
     "metadata": {},
     "output_type": "display_data"
    },
    {
     "name": "stdout",
     "output_type": "stream",
     "text": [
      "\n"
     ]
    },
    {
     "data": {
      "application/vnd.jupyter.widget-view+json": {
       "model_id": "a4eac22a3836463e9ddbb9d0f24555d4",
       "version_major": 2,
       "version_minor": 0
      },
      "text/plain": [
       "HBox(children=(FloatProgress(value=0.0, description='Epoch 39', max=145.0, style=ProgressStyle(description_wid…"
      ]
     },
     "metadata": {},
     "output_type": "display_data"
    },
    {
     "name": "stdout",
     "output_type": "stream",
     "text": [
      "\n"
     ]
    },
    {
     "data": {
      "application/vnd.jupyter.widget-view+json": {
       "model_id": "0ec02a6f30ab4d0fae1102523488763f",
       "version_major": 2,
       "version_minor": 0
      },
      "text/plain": [
       "HBox(children=(FloatProgress(value=0.0, description='Epoch 40', max=145.0, style=ProgressStyle(description_wid…"
      ]
     },
     "metadata": {},
     "output_type": "display_data"
    },
    {
     "name": "stdout",
     "output_type": "stream",
     "text": [
      "\n"
     ]
    },
    {
     "data": {
      "application/vnd.jupyter.widget-view+json": {
       "model_id": "15ed6027a3b848a2915151ba56cb0a47",
       "version_major": 2,
       "version_minor": 0
      },
      "text/plain": [
       "HBox(children=(FloatProgress(value=0.0, description='Epoch 41', max=145.0, style=ProgressStyle(description_wid…"
      ]
     },
     "metadata": {},
     "output_type": "display_data"
    },
    {
     "name": "stdout",
     "output_type": "stream",
     "text": [
      "\n"
     ]
    },
    {
     "data": {
      "application/vnd.jupyter.widget-view+json": {
       "model_id": "905ca01f719f4efeb3a5d427524253ed",
       "version_major": 2,
       "version_minor": 0
      },
      "text/plain": [
       "HBox(children=(FloatProgress(value=0.0, description='Epoch 42', max=145.0, style=ProgressStyle(description_wid…"
      ]
     },
     "metadata": {},
     "output_type": "display_data"
    },
    {
     "name": "stdout",
     "output_type": "stream",
     "text": [
      "\n"
     ]
    },
    {
     "data": {
      "application/vnd.jupyter.widget-view+json": {
       "model_id": "9f35bf193c324ede937f02fb688fdf1d",
       "version_major": 2,
       "version_minor": 0
      },
      "text/plain": [
       "HBox(children=(FloatProgress(value=0.0, description='Epoch 43', max=145.0, style=ProgressStyle(description_wid…"
      ]
     },
     "metadata": {},
     "output_type": "display_data"
    },
    {
     "name": "stdout",
     "output_type": "stream",
     "text": [
      "\n"
     ]
    },
    {
     "data": {
      "application/vnd.jupyter.widget-view+json": {
       "model_id": "fb68e7cd79184856b480af699b159326",
       "version_major": 2,
       "version_minor": 0
      },
      "text/plain": [
       "HBox(children=(FloatProgress(value=0.0, description='Epoch 44', max=145.0, style=ProgressStyle(description_wid…"
      ]
     },
     "metadata": {},
     "output_type": "display_data"
    },
    {
     "name": "stdout",
     "output_type": "stream",
     "text": [
      "\n"
     ]
    },
    {
     "data": {
      "application/vnd.jupyter.widget-view+json": {
       "model_id": "ae82f364b909433cbdb2d1cf5806eba8",
       "version_major": 2,
       "version_minor": 0
      },
      "text/plain": [
       "HBox(children=(FloatProgress(value=0.0, description='Epoch 45', max=145.0, style=ProgressStyle(description_wid…"
      ]
     },
     "metadata": {},
     "output_type": "display_data"
    },
    {
     "name": "stdout",
     "output_type": "stream",
     "text": [
      "\n"
     ]
    },
    {
     "data": {
      "application/vnd.jupyter.widget-view+json": {
       "model_id": "130760cf23fc4ca1b15b68cfae54a1a6",
       "version_major": 2,
       "version_minor": 0
      },
      "text/plain": [
       "HBox(children=(FloatProgress(value=0.0, description='Epoch 46', max=145.0, style=ProgressStyle(description_wid…"
      ]
     },
     "metadata": {},
     "output_type": "display_data"
    },
    {
     "name": "stdout",
     "output_type": "stream",
     "text": [
      "\n"
     ]
    },
    {
     "data": {
      "application/vnd.jupyter.widget-view+json": {
       "model_id": "5909ef29a8624d29a06b42cea3dfe2c9",
       "version_major": 2,
       "version_minor": 0
      },
      "text/plain": [
       "HBox(children=(FloatProgress(value=0.0, description='Epoch 47', max=145.0, style=ProgressStyle(description_wid…"
      ]
     },
     "metadata": {},
     "output_type": "display_data"
    },
    {
     "name": "stdout",
     "output_type": "stream",
     "text": [
      "\n"
     ]
    },
    {
     "data": {
      "application/vnd.jupyter.widget-view+json": {
       "model_id": "57f3037d79dd42d989cf5ea02fc40328",
       "version_major": 2,
       "version_minor": 0
      },
      "text/plain": [
       "HBox(children=(FloatProgress(value=0.0, description='Epoch 48', max=145.0, style=ProgressStyle(description_wid…"
      ]
     },
     "metadata": {},
     "output_type": "display_data"
    },
    {
     "name": "stdout",
     "output_type": "stream",
     "text": [
      "\n"
     ]
    },
    {
     "data": {
      "application/vnd.jupyter.widget-view+json": {
       "model_id": "ea427fa9dbd04420b8722c194bbe7bae",
       "version_major": 2,
       "version_minor": 0
      },
      "text/plain": [
       "HBox(children=(FloatProgress(value=0.0, description='Epoch 49', max=145.0, style=ProgressStyle(description_wid…"
      ]
     },
     "metadata": {},
     "output_type": "display_data"
    },
    {
     "name": "stdout",
     "output_type": "stream",
     "text": [
      "\n"
     ]
    }
   ],
   "source": [
    "# Set the status of the model as training.\n",
    "Q1_model.train()\n",
    "Q1_NUM_EPOCHS = 50\n",
    "# Iterate over epochs.\n",
    "for epoch in range(Q1_NUM_EPOCHS):\n",
    "  epoch_loss = 0\n",
    "  epoch_acc = 0\n",
    "  pbar = tqdm(loader_train, desc=f'Epoch {epoch:02}')  # progress bar\n",
    "  for x, y in pbar:\n",
    "    # Move mini-batch to the desired device.\n",
    "    x = x.to(device)\n",
    "    y = y.to(device)\n",
    "\n",
    "    # Feed forward the model.\n",
    "    prediction = Q1_model(x)\n",
    "    # Compute the loss.\n",
    "    loss = Q1_criterion(prediction, y)\n",
    "    # Compute the accuracy.\n",
    "    acc = accuracy(prediction, y)\n",
    "\n",
    "    # Perform backward propagation to compute gradients.\n",
    "    loss.backward()\n",
    "    # Update the parameters.\n",
    "    Q1_optimizer.step()\n",
    "    # Reset the computed gradients.\n",
    "    Q1_optimizer.zero_grad()\n",
    "\n",
    "    # Log training metrics.\n",
    "    batch_size = len(x)\n",
    "    epoch_loss += batch_size * loss.item()\n",
    "    epoch_acc += batch_size * acc\n",
    "    # Update the progress bar.\n",
    "    pbar.set_postfix({'loss': epoch_loss / len(dataset_train), \n",
    "                      'acc': epoch_acc / len(dataset_train)})"
   ]
  },
  {
   "cell_type": "code",
   "execution_count": 25,
   "metadata": {
    "scrolled": true
   },
   "outputs": [
    {
     "data": {
      "application/vnd.jupyter.widget-view+json": {
       "model_id": "ec63d2ed43dc417c9bcbcd5cdd22773e",
       "version_major": 2,
       "version_minor": 0
      },
      "text/plain": [
       "HBox(children=(FloatProgress(value=0.0, description='Test', max=38.0, style=ProgressStyle(description_width='i…"
      ]
     },
     "metadata": {},
     "output_type": "display_data"
    },
    {
     "name": "stdout",
     "output_type": "stream",
     "text": [
      "\n",
      "test_loss=1.42560, test_acc=63.33%\n"
     ]
    }
   ],
   "source": [
    "# Set the status of the model as evaluation.\n",
    "Q1_model.eval()\n",
    "\n",
    "# `torch.no_grad()` disables computing gradients. The gradients are still \n",
    "# computed even though you use `model.eval()`. You should use `torch.no_grad()` \n",
    "# if you don't want your memory is overflowed because of unnecesary gradients.\n",
    "with torch.no_grad():\n",
    "  epoch_loss = 0\n",
    "  epoch_acc = 0\n",
    "  pbar = tqdm(loader_test, desc=f'Test')  # progress bar\n",
    "  for x, y in pbar:\n",
    "    # Move mini-batch to the desired device.\n",
    "    x = x.to(device)\n",
    "    y = y.to(device)\n",
    "\n",
    "    # Feed forward the model.\n",
    "    prediction = Q1_model(x)\n",
    "    # Compute the loss.\n",
    "    loss = Q1_criterion(prediction, y)\n",
    "    # Compute the accuracy.\n",
    "    acc = accuracy(prediction, y)\n",
    "\n",
    "    # Log training metrics.\n",
    "    batch_size = len(x)\n",
    "    epoch_loss += batch_size * loss.item()\n",
    "    epoch_acc += batch_size * acc\n",
    "    # Update the progress bar.\n",
    "    pbar.set_postfix({'loss': epoch_loss / len(dataset_test), 'acc': epoch_acc / len(dataset_test)})\n",
    "\n",
    "# Compute the evaluation scores.\n",
    "test_loss = epoch_loss / len(dataset_test)\n",
    "test_acc = epoch_acc / len(dataset_test)\n",
    "\n",
    "print(f'test_loss={test_loss:.5f}, test_acc={test_acc * 100:.2f}%')"
   ]
  },
  {
   "cell_type": "markdown",
   "metadata": {
    "id": "VIRc_WML8MnD"
   },
   "source": [
    "# Exploiting Prior Knowledge using Pre-trained Models\n",
    "\n",
    "\n",
    "Someone who knows how to play acoustic guitars might be better at playing electric guitars than who never played a guitar.\n",
    "Here, we will use pre-trained models from [`musicnn`](https://github.com/jordipons/musicnn) (pronounced as \"musician\"), which includes CNNs already trained on a large amount of songs.\n"
   ]
  },
  {
   "cell_type": "markdown",
   "metadata": {
    "id": "bq4wDvyMTTOk"
   },
   "source": [
    "You can predict some tags with the pre-trained model like this:"
   ]
  },
  {
   "cell_type": "code",
   "execution_count": 37,
   "metadata": {
    "id": "qQkmEKSXTfW5"
   },
   "outputs": [
    {
     "name": "stdout",
     "output_type": "stream",
     "text": [
      "Computing spectrogram (w/ librosa) and tags (w/ tensorflow).. done!\n",
      "[gtzan/wav/classical/classical.00030.wav] Top10 tags: \n",
      " - classical\n",
      " - violin\n",
      " - strings\n",
      " - classic\n",
      " - cello\n",
      " - opera\n",
      " - slow\n",
      " - fast\n",
      " - flute\n",
      " - quiet\n"
     ]
    }
   ],
   "source": [
    "from musicnn.tagger import top_tags\n",
    "\n",
    "_ = top_tags('gtzan/wav/' + train[0], model='MSD_musicnn', topN=10)"
   ]
  },
  {
   "cell_type": "markdown",
   "metadata": {
    "id": "dTo0E7zdThUm"
   },
   "source": [
    "However, the 10 tags are not what we want as outputs! Let's extract embedding (or features) using the pre-trained model, and train 2-layer MLP using the embeddings as inputs."
   ]
  },
  {
   "cell_type": "markdown",
   "metadata": {
    "id": "Iz0e6KvNTwMh"
   },
   "source": [
    "## Extracting embeddings using the pre-trained model\n",
    "\n",
    "Side note: this will take about 23 min."
   ]
  },
  {
   "cell_type": "code",
   "execution_count": 38,
   "metadata": {
    "id": "1L-FJ-e5ISbg"
   },
   "outputs": [
    {
     "data": {
      "application/vnd.jupyter.widget-view+json": {
       "model_id": "40b306f9176a4801b1e7f519215c60bf",
       "version_major": 2,
       "version_minor": 0
      },
      "text/plain": [
       "HBox(children=(FloatProgress(value=0.0, max=730.0), HTML(value='')))"
      ]
     },
     "metadata": {},
     "output_type": "display_data"
    },
    {
     "name": "stdout",
     "output_type": "stream",
     "text": [
      "Computing spectrogram (w/ librosa) and tags (w/ tensorflow).. done!\n",
      "Computing spectrogram (w/ librosa) and tags (w/ tensorflow).. done!\n",
      "Computing spectrogram (w/ librosa) and tags (w/ tensorflow).. done!\n",
      "Computing spectrogram (w/ librosa) and tags (w/ tensorflow).. done!\n",
      "Computing spectrogram (w/ librosa) and tags (w/ tensorflow).. done!\n",
      "Computing spectrogram (w/ librosa) and tags (w/ tensorflow).. done!\n",
      "Computing spectrogram (w/ librosa) and tags (w/ tensorflow).. done!\n",
      "Computing spectrogram (w/ librosa) and tags (w/ tensorflow).. done!\n",
      "Computing spectrogram (w/ librosa) and tags (w/ tensorflow).. done!\n",
      "Computing spectrogram (w/ librosa) and tags (w/ tensorflow).. done!\n",
      "Computing spectrogram (w/ librosa) and tags (w/ tensorflow).. done!\n",
      "Computing spectrogram (w/ librosa) and tags (w/ tensorflow).. done!\n",
      "Computing spectrogram (w/ librosa) and tags (w/ tensorflow).. done!\n",
      "Computing spectrogram (w/ librosa) and tags (w/ tensorflow).. done!\n",
      "Computing spectrogram (w/ librosa) and tags (w/ tensorflow).. done!\n",
      "Computing spectrogram (w/ librosa) and tags (w/ tensorflow).. done!\n",
      "Computing spectrogram (w/ librosa) and tags (w/ tensorflow).. done!\n",
      "Computing spectrogram (w/ librosa) and tags (w/ tensorflow).. done!\n",
      "Computing spectrogram (w/ librosa) and tags (w/ tensorflow).. done!\n",
      "Computing spectrogram (w/ librosa) and tags (w/ tensorflow).. done!\n",
      "Computing spectrogram (w/ librosa) and tags (w/ tensorflow).. done!\n",
      "Computing spectrogram (w/ librosa) and tags (w/ tensorflow).. done!\n",
      "Computing spectrogram (w/ librosa) and tags (w/ tensorflow).. done!\n",
      "Computing spectrogram (w/ librosa) and tags (w/ tensorflow).. done!\n",
      "Computing spectrogram (w/ librosa) and tags (w/ tensorflow).. done!\n",
      "Computing spectrogram (w/ librosa) and tags (w/ tensorflow).. done!\n",
      "Computing spectrogram (w/ librosa) and tags (w/ tensorflow).. done!\n",
      "Computing spectrogram (w/ librosa) and tags (w/ tensorflow).. done!\n",
      "Computing spectrogram (w/ librosa) and tags (w/ tensorflow).. done!\n",
      "Computing spectrogram (w/ librosa) and tags (w/ tensorflow).. done!\n",
      "Computing spectrogram (w/ librosa) and tags (w/ tensorflow).. done!\n",
      "Computing spectrogram (w/ librosa) and tags (w/ tensorflow).. done!\n",
      "Computing spectrogram (w/ librosa) and tags (w/ tensorflow).. done!\n",
      "Computing spectrogram (w/ librosa) and tags (w/ tensorflow).. done!\n",
      "Computing spectrogram (w/ librosa) and tags (w/ tensorflow).. done!\n",
      "Computing spectrogram (w/ librosa) and tags (w/ tensorflow).. done!\n",
      "Computing spectrogram (w/ librosa) and tags (w/ tensorflow).. done!\n",
      "Computing spectrogram (w/ librosa) and tags (w/ tensorflow).. done!\n",
      "Computing spectrogram (w/ librosa) and tags (w/ tensorflow).. done!\n",
      "Computing spectrogram (w/ librosa) and tags (w/ tensorflow).. done!\n",
      "Computing spectrogram (w/ librosa) and tags (w/ tensorflow).. done!\n",
      "Computing spectrogram (w/ librosa) and tags (w/ tensorflow).. done!\n",
      "Computing spectrogram (w/ librosa) and tags (w/ tensorflow).. done!\n",
      "Computing spectrogram (w/ librosa) and tags (w/ tensorflow).. done!\n",
      "Computing spectrogram (w/ librosa) and tags (w/ tensorflow).. done!\n",
      "Computing spectrogram (w/ librosa) and tags (w/ tensorflow).. done!\n",
      "Computing spectrogram (w/ librosa) and tags (w/ tensorflow).. done!\n",
      "Computing spectrogram (w/ librosa) and tags (w/ tensorflow).. done!\n",
      "Computing spectrogram (w/ librosa) and tags (w/ tensorflow).. done!\n",
      "Computing spectrogram (w/ librosa) and tags (w/ tensorflow).. done!\n",
      "Computing spectrogram (w/ librosa) and tags (w/ tensorflow).. done!\n",
      "Computing spectrogram (w/ librosa) and tags (w/ tensorflow).. done!\n",
      "Computing spectrogram (w/ librosa) and tags (w/ tensorflow).. done!\n",
      "Computing spectrogram (w/ librosa) and tags (w/ tensorflow).. done!\n",
      "Computing spectrogram (w/ librosa) and tags (w/ tensorflow).. done!\n",
      "Computing spectrogram (w/ librosa) and tags (w/ tensorflow).. done!\n",
      "Computing spectrogram (w/ librosa) and tags (w/ tensorflow).. done!\n",
      "Computing spectrogram (w/ librosa) and tags (w/ tensorflow).. done!\n",
      "Computing spectrogram (w/ librosa) and tags (w/ tensorflow).. done!\n",
      "Computing spectrogram (w/ librosa) and tags (w/ tensorflow).. done!\n",
      "Computing spectrogram (w/ librosa) and tags (w/ tensorflow).. done!\n",
      "Computing spectrogram (w/ librosa) and tags (w/ tensorflow).. done!\n",
      "Computing spectrogram (w/ librosa) and tags (w/ tensorflow).. done!\n",
      "Computing spectrogram (w/ librosa) and tags (w/ tensorflow).. done!\n",
      "Computing spectrogram (w/ librosa) and tags (w/ tensorflow).. done!\n",
      "Computing spectrogram (w/ librosa) and tags (w/ tensorflow).. done!\n",
      "Computing spectrogram (w/ librosa) and tags (w/ tensorflow).. done!\n",
      "Computing spectrogram (w/ librosa) and tags (w/ tensorflow).. done!\n",
      "Computing spectrogram (w/ librosa) and tags (w/ tensorflow).. done!\n",
      "Computing spectrogram (w/ librosa) and tags (w/ tensorflow).. done!\n",
      "Computing spectrogram (w/ librosa) and tags (w/ tensorflow).. done!\n",
      "Computing spectrogram (w/ librosa) and tags (w/ tensorflow).. done!\n",
      "Computing spectrogram (w/ librosa) and tags (w/ tensorflow).. done!\n",
      "Computing spectrogram (w/ librosa) and tags (w/ tensorflow).. done!\n",
      "Computing spectrogram (w/ librosa) and tags (w/ tensorflow).. done!\n",
      "Computing spectrogram (w/ librosa) and tags (w/ tensorflow).. done!\n",
      "Computing spectrogram (w/ librosa) and tags (w/ tensorflow).. done!\n",
      "Computing spectrogram (w/ librosa) and tags (w/ tensorflow).. done!\n",
      "Computing spectrogram (w/ librosa) and tags (w/ tensorflow).. done!\n",
      "Computing spectrogram (w/ librosa) and tags (w/ tensorflow).. done!\n",
      "Computing spectrogram (w/ librosa) and tags (w/ tensorflow).. done!\n",
      "Computing spectrogram (w/ librosa) and tags (w/ tensorflow).. done!\n",
      "Computing spectrogram (w/ librosa) and tags (w/ tensorflow).. done!\n",
      "Computing spectrogram (w/ librosa) and tags (w/ tensorflow).. done!\n",
      "Computing spectrogram (w/ librosa) and tags (w/ tensorflow).. done!\n",
      "Computing spectrogram (w/ librosa) and tags (w/ tensorflow).. done!\n",
      "Computing spectrogram (w/ librosa) and tags (w/ tensorflow).. done!\n",
      "Computing spectrogram (w/ librosa) and tags (w/ tensorflow).. done!\n",
      "Computing spectrogram (w/ librosa) and tags (w/ tensorflow).. done!\n",
      "Computing spectrogram (w/ librosa) and tags (w/ tensorflow).. done!\n",
      "Computing spectrogram (w/ librosa) and tags (w/ tensorflow).. done!\n",
      "Computing spectrogram (w/ librosa) and tags (w/ tensorflow).. done!\n",
      "Computing spectrogram (w/ librosa) and tags (w/ tensorflow).. done!\n",
      "Computing spectrogram (w/ librosa) and tags (w/ tensorflow).. done!\n",
      "Computing spectrogram (w/ librosa) and tags (w/ tensorflow).. done!\n",
      "Computing spectrogram (w/ librosa) and tags (w/ tensorflow).. done!\n",
      "Computing spectrogram (w/ librosa) and tags (w/ tensorflow).. done!\n",
      "Computing spectrogram (w/ librosa) and tags (w/ tensorflow).. done!\n",
      "Computing spectrogram (w/ librosa) and tags (w/ tensorflow).. done!\n",
      "Computing spectrogram (w/ librosa) and tags (w/ tensorflow).. done!\n",
      "Computing spectrogram (w/ librosa) and tags (w/ tensorflow).. done!\n",
      "Computing spectrogram (w/ librosa) and tags (w/ tensorflow).. done!\n",
      "Computing spectrogram (w/ librosa) and tags (w/ tensorflow).. done!\n",
      "Computing spectrogram (w/ librosa) and tags (w/ tensorflow).. done!\n",
      "Computing spectrogram (w/ librosa) and tags (w/ tensorflow).. done!\n",
      "Computing spectrogram (w/ librosa) and tags (w/ tensorflow).. done!\n",
      "Computing spectrogram (w/ librosa) and tags (w/ tensorflow).. done!\n",
      "Computing spectrogram (w/ librosa) and tags (w/ tensorflow).. done!\n",
      "Computing spectrogram (w/ librosa) and tags (w/ tensorflow).. done!\n",
      "Computing spectrogram (w/ librosa) and tags (w/ tensorflow).. done!\n",
      "Computing spectrogram (w/ librosa) and tags (w/ tensorflow).. done!\n",
      "Computing spectrogram (w/ librosa) and tags (w/ tensorflow).. done!\n",
      "Computing spectrogram (w/ librosa) and tags (w/ tensorflow).. done!\n",
      "Computing spectrogram (w/ librosa) and tags (w/ tensorflow).. done!\n",
      "Computing spectrogram (w/ librosa) and tags (w/ tensorflow).. done!\n",
      "Computing spectrogram (w/ librosa) and tags (w/ tensorflow).. done!\n",
      "Computing spectrogram (w/ librosa) and tags (w/ tensorflow).. done!\n",
      "Computing spectrogram (w/ librosa) and tags (w/ tensorflow).. done!\n",
      "Computing spectrogram (w/ librosa) and tags (w/ tensorflow).. done!\n",
      "Computing spectrogram (w/ librosa) and tags (w/ tensorflow).. done!\n"
     ]
    },
    {
     "name": "stdout",
     "output_type": "stream",
     "text": [
      "Computing spectrogram (w/ librosa) and tags (w/ tensorflow).. done!\n",
      "Computing spectrogram (w/ librosa) and tags (w/ tensorflow).. done!\n",
      "Computing spectrogram (w/ librosa) and tags (w/ tensorflow).. done!\n",
      "Computing spectrogram (w/ librosa) and tags (w/ tensorflow).. done!\n",
      "Computing spectrogram (w/ librosa) and tags (w/ tensorflow).. done!\n",
      "Computing spectrogram (w/ librosa) and tags (w/ tensorflow).. done!\n",
      "Computing spectrogram (w/ librosa) and tags (w/ tensorflow).. done!\n",
      "Computing spectrogram (w/ librosa) and tags (w/ tensorflow).. done!\n",
      "Computing spectrogram (w/ librosa) and tags (w/ tensorflow).. done!\n",
      "Computing spectrogram (w/ librosa) and tags (w/ tensorflow).. done!\n",
      "Computing spectrogram (w/ librosa) and tags (w/ tensorflow).. done!\n",
      "Computing spectrogram (w/ librosa) and tags (w/ tensorflow).. done!\n",
      "Computing spectrogram (w/ librosa) and tags (w/ tensorflow).. done!\n",
      "Computing spectrogram (w/ librosa) and tags (w/ tensorflow).. done!\n",
      "Computing spectrogram (w/ librosa) and tags (w/ tensorflow).. done!\n",
      "Computing spectrogram (w/ librosa) and tags (w/ tensorflow).. done!\n",
      "Computing spectrogram (w/ librosa) and tags (w/ tensorflow).. done!\n",
      "Computing spectrogram (w/ librosa) and tags (w/ tensorflow).. done!\n",
      "Computing spectrogram (w/ librosa) and tags (w/ tensorflow).. done!\n",
      "Computing spectrogram (w/ librosa) and tags (w/ tensorflow).. done!\n",
      "Computing spectrogram (w/ librosa) and tags (w/ tensorflow).. done!\n",
      "Computing spectrogram (w/ librosa) and tags (w/ tensorflow).. done!\n",
      "Computing spectrogram (w/ librosa) and tags (w/ tensorflow).. done!\n",
      "Computing spectrogram (w/ librosa) and tags (w/ tensorflow).. done!\n",
      "Computing spectrogram (w/ librosa) and tags (w/ tensorflow).. done!\n",
      "Computing spectrogram (w/ librosa) and tags (w/ tensorflow).. done!\n",
      "Computing spectrogram (w/ librosa) and tags (w/ tensorflow).. done!\n",
      "Computing spectrogram (w/ librosa) and tags (w/ tensorflow).. done!\n",
      "Computing spectrogram (w/ librosa) and tags (w/ tensorflow).. done!\n",
      "Computing spectrogram (w/ librosa) and tags (w/ tensorflow).. done!\n",
      "Computing spectrogram (w/ librosa) and tags (w/ tensorflow).. done!\n",
      "Computing spectrogram (w/ librosa) and tags (w/ tensorflow).. done!\n",
      "Computing spectrogram (w/ librosa) and tags (w/ tensorflow).. done!\n",
      "Computing spectrogram (w/ librosa) and tags (w/ tensorflow).. done!\n",
      "Computing spectrogram (w/ librosa) and tags (w/ tensorflow).. done!\n",
      "Computing spectrogram (w/ librosa) and tags (w/ tensorflow).. done!\n",
      "Computing spectrogram (w/ librosa) and tags (w/ tensorflow).. done!\n",
      "Computing spectrogram (w/ librosa) and tags (w/ tensorflow).. done!\n",
      "Computing spectrogram (w/ librosa) and tags (w/ tensorflow).. done!\n",
      "Computing spectrogram (w/ librosa) and tags (w/ tensorflow).. done!\n",
      "Computing spectrogram (w/ librosa) and tags (w/ tensorflow).. done!\n",
      "Computing spectrogram (w/ librosa) and tags (w/ tensorflow).. done!\n",
      "Computing spectrogram (w/ librosa) and tags (w/ tensorflow).. done!\n",
      "Computing spectrogram (w/ librosa) and tags (w/ tensorflow).. done!\n",
      "Computing spectrogram (w/ librosa) and tags (w/ tensorflow).. done!\n",
      "Computing spectrogram (w/ librosa) and tags (w/ tensorflow).. done!\n",
      "Computing spectrogram (w/ librosa) and tags (w/ tensorflow).. done!\n",
      "Computing spectrogram (w/ librosa) and tags (w/ tensorflow).. done!\n",
      "Computing spectrogram (w/ librosa) and tags (w/ tensorflow).. done!\n",
      "Computing spectrogram (w/ librosa) and tags (w/ tensorflow).. done!\n",
      "Computing spectrogram (w/ librosa) and tags (w/ tensorflow).. done!\n",
      "Computing spectrogram (w/ librosa) and tags (w/ tensorflow).. done!\n",
      "Computing spectrogram (w/ librosa) and tags (w/ tensorflow).. done!\n",
      "Computing spectrogram (w/ librosa) and tags (w/ tensorflow).. done!\n",
      "Computing spectrogram (w/ librosa) and tags (w/ tensorflow).. done!\n",
      "Computing spectrogram (w/ librosa) and tags (w/ tensorflow).. done!\n",
      "Computing spectrogram (w/ librosa) and tags (w/ tensorflow).. done!\n",
      "Computing spectrogram (w/ librosa) and tags (w/ tensorflow).. done!\n",
      "Computing spectrogram (w/ librosa) and tags (w/ tensorflow).. done!\n",
      "Computing spectrogram (w/ librosa) and tags (w/ tensorflow).. done!\n",
      "Computing spectrogram (w/ librosa) and tags (w/ tensorflow).. done!\n",
      "Computing spectrogram (w/ librosa) and tags (w/ tensorflow).. done!\n",
      "Computing spectrogram (w/ librosa) and tags (w/ tensorflow).. done!\n",
      "Computing spectrogram (w/ librosa) and tags (w/ tensorflow).. done!\n",
      "Computing spectrogram (w/ librosa) and tags (w/ tensorflow).. done!\n",
      "Computing spectrogram (w/ librosa) and tags (w/ tensorflow).. done!\n",
      "Computing spectrogram (w/ librosa) and tags (w/ tensorflow).. done!\n",
      "Computing spectrogram (w/ librosa) and tags (w/ tensorflow).. done!\n",
      "Computing spectrogram (w/ librosa) and tags (w/ tensorflow).. done!\n",
      "Computing spectrogram (w/ librosa) and tags (w/ tensorflow).. done!\n",
      "Computing spectrogram (w/ librosa) and tags (w/ tensorflow).. done!\n",
      "Computing spectrogram (w/ librosa) and tags (w/ tensorflow).. done!\n",
      "Computing spectrogram (w/ librosa) and tags (w/ tensorflow).. done!\n",
      "Computing spectrogram (w/ librosa) and tags (w/ tensorflow).. done!\n",
      "Computing spectrogram (w/ librosa) and tags (w/ tensorflow).. done!\n",
      "Computing spectrogram (w/ librosa) and tags (w/ tensorflow).. done!\n",
      "Computing spectrogram (w/ librosa) and tags (w/ tensorflow).. done!\n",
      "Computing spectrogram (w/ librosa) and tags (w/ tensorflow).. done!\n",
      "Computing spectrogram (w/ librosa) and tags (w/ tensorflow).. done!\n",
      "Computing spectrogram (w/ librosa) and tags (w/ tensorflow).. done!\n",
      "Computing spectrogram (w/ librosa) and tags (w/ tensorflow).. done!\n",
      "Computing spectrogram (w/ librosa) and tags (w/ tensorflow).. done!\n",
      "Computing spectrogram (w/ librosa) and tags (w/ tensorflow).. done!\n",
      "Computing spectrogram (w/ librosa) and tags (w/ tensorflow).. done!\n",
      "Computing spectrogram (w/ librosa) and tags (w/ tensorflow).. done!\n",
      "Computing spectrogram (w/ librosa) and tags (w/ tensorflow).. done!\n",
      "Computing spectrogram (w/ librosa) and tags (w/ tensorflow).. done!\n",
      "Computing spectrogram (w/ librosa) and tags (w/ tensorflow).. done!\n",
      "Computing spectrogram (w/ librosa) and tags (w/ tensorflow).. done!\n",
      "Computing spectrogram (w/ librosa) and tags (w/ tensorflow).. done!\n",
      "Computing spectrogram (w/ librosa) and tags (w/ tensorflow).. done!\n",
      "Computing spectrogram (w/ librosa) and tags (w/ tensorflow).. done!\n",
      "Computing spectrogram (w/ librosa) and tags (w/ tensorflow).. done!\n",
      "Computing spectrogram (w/ librosa) and tags (w/ tensorflow).. done!\n",
      "Computing spectrogram (w/ librosa) and tags (w/ tensorflow).. done!\n",
      "Computing spectrogram (w/ librosa) and tags (w/ tensorflow).. done!\n",
      "Computing spectrogram (w/ librosa) and tags (w/ tensorflow).. done!\n",
      "Computing spectrogram (w/ librosa) and tags (w/ tensorflow).. done!\n",
      "Computing spectrogram (w/ librosa) and tags (w/ tensorflow).. done!\n",
      "Computing spectrogram (w/ librosa) and tags (w/ tensorflow).. done!\n",
      "Computing spectrogram (w/ librosa) and tags (w/ tensorflow).. done!\n",
      "Computing spectrogram (w/ librosa) and tags (w/ tensorflow).. done!\n",
      "Computing spectrogram (w/ librosa) and tags (w/ tensorflow).. done!\n",
      "Computing spectrogram (w/ librosa) and tags (w/ tensorflow).. done!\n",
      "Computing spectrogram (w/ librosa) and tags (w/ tensorflow).. done!\n",
      "Computing spectrogram (w/ librosa) and tags (w/ tensorflow).. done!\n",
      "Computing spectrogram (w/ librosa) and tags (w/ tensorflow).. done!\n",
      "Computing spectrogram (w/ librosa) and tags (w/ tensorflow).. done!\n",
      "Computing spectrogram (w/ librosa) and tags (w/ tensorflow).. done!\n",
      "Computing spectrogram (w/ librosa) and tags (w/ tensorflow).. done!\n",
      "Computing spectrogram (w/ librosa) and tags (w/ tensorflow).. done!\n",
      "Computing spectrogram (w/ librosa) and tags (w/ tensorflow).. done!\n",
      "Computing spectrogram (w/ librosa) and tags (w/ tensorflow).. done!\n",
      "Computing spectrogram (w/ librosa) and tags (w/ tensorflow).. done!\n",
      "Computing spectrogram (w/ librosa) and tags (w/ tensorflow).. done!\n",
      "Computing spectrogram (w/ librosa) and tags (w/ tensorflow).. done!\n",
      "Computing spectrogram (w/ librosa) and tags (w/ tensorflow).. done!\n",
      "Computing spectrogram (w/ librosa) and tags (w/ tensorflow).. done!\n",
      "Computing spectrogram (w/ librosa) and tags (w/ tensorflow).. done!\n",
      "Computing spectrogram (w/ librosa) and tags (w/ tensorflow).. done!\n"
     ]
    },
    {
     "name": "stdout",
     "output_type": "stream",
     "text": [
      "Computing spectrogram (w/ librosa) and tags (w/ tensorflow).. done!\n",
      "Computing spectrogram (w/ librosa) and tags (w/ tensorflow).. done!\n",
      "Computing spectrogram (w/ librosa) and tags (w/ tensorflow).. done!\n",
      "Computing spectrogram (w/ librosa) and tags (w/ tensorflow).. done!\n",
      "Computing spectrogram (w/ librosa) and tags (w/ tensorflow).. done!\n",
      "Computing spectrogram (w/ librosa) and tags (w/ tensorflow).. done!\n",
      "Computing spectrogram (w/ librosa) and tags (w/ tensorflow).. done!\n",
      "Computing spectrogram (w/ librosa) and tags (w/ tensorflow).. done!\n",
      "Computing spectrogram (w/ librosa) and tags (w/ tensorflow).. done!\n",
      "Computing spectrogram (w/ librosa) and tags (w/ tensorflow).. done!\n",
      "Computing spectrogram (w/ librosa) and tags (w/ tensorflow).. done!\n",
      "Computing spectrogram (w/ librosa) and tags (w/ tensorflow).. done!\n",
      "Computing spectrogram (w/ librosa) and tags (w/ tensorflow).. done!\n",
      "Computing spectrogram (w/ librosa) and tags (w/ tensorflow).. done!\n",
      "Computing spectrogram (w/ librosa) and tags (w/ tensorflow).. done!\n",
      "Computing spectrogram (w/ librosa) and tags (w/ tensorflow).. done!\n",
      "Computing spectrogram (w/ librosa) and tags (w/ tensorflow).. done!\n",
      "Computing spectrogram (w/ librosa) and tags (w/ tensorflow).. done!\n",
      "Computing spectrogram (w/ librosa) and tags (w/ tensorflow).. done!\n",
      "Computing spectrogram (w/ librosa) and tags (w/ tensorflow).. done!\n",
      "Computing spectrogram (w/ librosa) and tags (w/ tensorflow).. done!\n",
      "Computing spectrogram (w/ librosa) and tags (w/ tensorflow).. done!\n",
      "Computing spectrogram (w/ librosa) and tags (w/ tensorflow).. done!\n",
      "Computing spectrogram (w/ librosa) and tags (w/ tensorflow).. done!\n",
      "Computing spectrogram (w/ librosa) and tags (w/ tensorflow).. done!\n",
      "Computing spectrogram (w/ librosa) and tags (w/ tensorflow).. done!\n",
      "Computing spectrogram (w/ librosa) and tags (w/ tensorflow).. done!\n",
      "Computing spectrogram (w/ librosa) and tags (w/ tensorflow).. done!\n",
      "Computing spectrogram (w/ librosa) and tags (w/ tensorflow).. done!\n",
      "Computing spectrogram (w/ librosa) and tags (w/ tensorflow).. done!\n",
      "Computing spectrogram (w/ librosa) and tags (w/ tensorflow).. done!\n",
      "Computing spectrogram (w/ librosa) and tags (w/ tensorflow).. done!\n",
      "Computing spectrogram (w/ librosa) and tags (w/ tensorflow).. done!\n",
      "Computing spectrogram (w/ librosa) and tags (w/ tensorflow).. done!\n",
      "Computing spectrogram (w/ librosa) and tags (w/ tensorflow).. done!\n",
      "Computing spectrogram (w/ librosa) and tags (w/ tensorflow).. done!\n",
      "Computing spectrogram (w/ librosa) and tags (w/ tensorflow).. done!\n",
      "Computing spectrogram (w/ librosa) and tags (w/ tensorflow).. done!\n",
      "Computing spectrogram (w/ librosa) and tags (w/ tensorflow).. done!\n",
      "Computing spectrogram (w/ librosa) and tags (w/ tensorflow).. done!\n",
      "Computing spectrogram (w/ librosa) and tags (w/ tensorflow).. done!\n",
      "Computing spectrogram (w/ librosa) and tags (w/ tensorflow).. done!\n",
      "Computing spectrogram (w/ librosa) and tags (w/ tensorflow).. done!\n",
      "Computing spectrogram (w/ librosa) and tags (w/ tensorflow).. done!\n",
      "Computing spectrogram (w/ librosa) and tags (w/ tensorflow).. done!\n",
      "Computing spectrogram (w/ librosa) and tags (w/ tensorflow).. done!\n",
      "Computing spectrogram (w/ librosa) and tags (w/ tensorflow).. done!\n",
      "Computing spectrogram (w/ librosa) and tags (w/ tensorflow).. done!\n",
      "Computing spectrogram (w/ librosa) and tags (w/ tensorflow).. done!\n",
      "Computing spectrogram (w/ librosa) and tags (w/ tensorflow).. done!\n",
      "Computing spectrogram (w/ librosa) and tags (w/ tensorflow).. done!\n",
      "Computing spectrogram (w/ librosa) and tags (w/ tensorflow).. done!\n",
      "Computing spectrogram (w/ librosa) and tags (w/ tensorflow).. done!\n",
      "Computing spectrogram (w/ librosa) and tags (w/ tensorflow).. done!\n",
      "Computing spectrogram (w/ librosa) and tags (w/ tensorflow).. done!\n",
      "Computing spectrogram (w/ librosa) and tags (w/ tensorflow).. done!\n",
      "Computing spectrogram (w/ librosa) and tags (w/ tensorflow).. done!\n",
      "Computing spectrogram (w/ librosa) and tags (w/ tensorflow).. done!\n",
      "Computing spectrogram (w/ librosa) and tags (w/ tensorflow).. done!\n",
      "Computing spectrogram (w/ librosa) and tags (w/ tensorflow).. done!\n",
      "Computing spectrogram (w/ librosa) and tags (w/ tensorflow).. done!\n",
      "Computing spectrogram (w/ librosa) and tags (w/ tensorflow).. done!\n",
      "Computing spectrogram (w/ librosa) and tags (w/ tensorflow).. done!\n",
      "Computing spectrogram (w/ librosa) and tags (w/ tensorflow).. done!\n",
      "Computing spectrogram (w/ librosa) and tags (w/ tensorflow).. done!\n",
      "Computing spectrogram (w/ librosa) and tags (w/ tensorflow).. done!\n",
      "Computing spectrogram (w/ librosa) and tags (w/ tensorflow).. done!\n",
      "Computing spectrogram (w/ librosa) and tags (w/ tensorflow).. done!\n",
      "Computing spectrogram (w/ librosa) and tags (w/ tensorflow).. done!\n",
      "Computing spectrogram (w/ librosa) and tags (w/ tensorflow).. done!\n",
      "Computing spectrogram (w/ librosa) and tags (w/ tensorflow).. done!\n",
      "Computing spectrogram (w/ librosa) and tags (w/ tensorflow).. done!\n",
      "Computing spectrogram (w/ librosa) and tags (w/ tensorflow).. done!\n",
      "Computing spectrogram (w/ librosa) and tags (w/ tensorflow).. done!\n",
      "Computing spectrogram (w/ librosa) and tags (w/ tensorflow).. done!\n",
      "Computing spectrogram (w/ librosa) and tags (w/ tensorflow).. done!\n",
      "Computing spectrogram (w/ librosa) and tags (w/ tensorflow).. done!\n",
      "Computing spectrogram (w/ librosa) and tags (w/ tensorflow).. done!\n",
      "Computing spectrogram (w/ librosa) and tags (w/ tensorflow).. done!\n",
      "Computing spectrogram (w/ librosa) and tags (w/ tensorflow).. done!\n",
      "Computing spectrogram (w/ librosa) and tags (w/ tensorflow).. done!\n",
      "Computing spectrogram (w/ librosa) and tags (w/ tensorflow).. done!\n",
      "Computing spectrogram (w/ librosa) and tags (w/ tensorflow).. done!\n",
      "Computing spectrogram (w/ librosa) and tags (w/ tensorflow).. done!\n",
      "Computing spectrogram (w/ librosa) and tags (w/ tensorflow).. done!\n",
      "Computing spectrogram (w/ librosa) and tags (w/ tensorflow).. done!\n",
      "Computing spectrogram (w/ librosa) and tags (w/ tensorflow).. done!\n",
      "Computing spectrogram (w/ librosa) and tags (w/ tensorflow).. done!\n",
      "Computing spectrogram (w/ librosa) and tags (w/ tensorflow).. done!\n",
      "Computing spectrogram (w/ librosa) and tags (w/ tensorflow).. done!\n",
      "Computing spectrogram (w/ librosa) and tags (w/ tensorflow).. done!\n",
      "Computing spectrogram (w/ librosa) and tags (w/ tensorflow).. done!\n",
      "Computing spectrogram (w/ librosa) and tags (w/ tensorflow).. done!\n",
      "Computing spectrogram (w/ librosa) and tags (w/ tensorflow).. done!\n",
      "Computing spectrogram (w/ librosa) and tags (w/ tensorflow).. done!\n",
      "Computing spectrogram (w/ librosa) and tags (w/ tensorflow).. done!\n",
      "Computing spectrogram (w/ librosa) and tags (w/ tensorflow).. done!\n",
      "Computing spectrogram (w/ librosa) and tags (w/ tensorflow).. done!\n",
      "Computing spectrogram (w/ librosa) and tags (w/ tensorflow).. done!\n",
      "Computing spectrogram (w/ librosa) and tags (w/ tensorflow).. done!\n",
      "Computing spectrogram (w/ librosa) and tags (w/ tensorflow).. done!\n",
      "Computing spectrogram (w/ librosa) and tags (w/ tensorflow).. done!\n",
      "Computing spectrogram (w/ librosa) and tags (w/ tensorflow).. done!\n",
      "Computing spectrogram (w/ librosa) and tags (w/ tensorflow).. done!\n",
      "Computing spectrogram (w/ librosa) and tags (w/ tensorflow).. done!\n",
      "Computing spectrogram (w/ librosa) and tags (w/ tensorflow).. done!\n",
      "Computing spectrogram (w/ librosa) and tags (w/ tensorflow).. done!\n",
      "Computing spectrogram (w/ librosa) and tags (w/ tensorflow).. done!\n",
      "Computing spectrogram (w/ librosa) and tags (w/ tensorflow).. done!\n",
      "Computing spectrogram (w/ librosa) and tags (w/ tensorflow).. done!\n",
      "Computing spectrogram (w/ librosa) and tags (w/ tensorflow).. done!\n",
      "Computing spectrogram (w/ librosa) and tags (w/ tensorflow).. done!\n",
      "Computing spectrogram (w/ librosa) and tags (w/ tensorflow).. done!\n",
      "Computing spectrogram (w/ librosa) and tags (w/ tensorflow).. done!\n",
      "Computing spectrogram (w/ librosa) and tags (w/ tensorflow).. done!\n",
      "Computing spectrogram (w/ librosa) and tags (w/ tensorflow).. done!\n",
      "Computing spectrogram (w/ librosa) and tags (w/ tensorflow).. done!\n",
      "Computing spectrogram (w/ librosa) and tags (w/ tensorflow).. done!\n",
      "Computing spectrogram (w/ librosa) and tags (w/ tensorflow).. done!\n",
      "Computing spectrogram (w/ librosa) and tags (w/ tensorflow).. done!\n"
     ]
    },
    {
     "name": "stdout",
     "output_type": "stream",
     "text": [
      "Computing spectrogram (w/ librosa) and tags (w/ tensorflow).. done!\n",
      "Computing spectrogram (w/ librosa) and tags (w/ tensorflow).. done!\n",
      "Computing spectrogram (w/ librosa) and tags (w/ tensorflow).. done!\n",
      "Computing spectrogram (w/ librosa) and tags (w/ tensorflow).. done!\n",
      "Computing spectrogram (w/ librosa) and tags (w/ tensorflow).. done!\n",
      "Computing spectrogram (w/ librosa) and tags (w/ tensorflow).. done!\n",
      "Computing spectrogram (w/ librosa) and tags (w/ tensorflow).. done!\n",
      "Computing spectrogram (w/ librosa) and tags (w/ tensorflow).. done!\n",
      "Computing spectrogram (w/ librosa) and tags (w/ tensorflow).. done!\n",
      "Computing spectrogram (w/ librosa) and tags (w/ tensorflow).. done!\n",
      "Computing spectrogram (w/ librosa) and tags (w/ tensorflow).. done!\n",
      "Computing spectrogram (w/ librosa) and tags (w/ tensorflow).. done!\n",
      "Computing spectrogram (w/ librosa) and tags (w/ tensorflow).. done!\n",
      "Computing spectrogram (w/ librosa) and tags (w/ tensorflow).. done!\n",
      "Computing spectrogram (w/ librosa) and tags (w/ tensorflow).. done!\n",
      "Computing spectrogram (w/ librosa) and tags (w/ tensorflow).. done!\n",
      "Computing spectrogram (w/ librosa) and tags (w/ tensorflow).. done!\n",
      "Computing spectrogram (w/ librosa) and tags (w/ tensorflow).. done!\n",
      "Computing spectrogram (w/ librosa) and tags (w/ tensorflow).. done!\n",
      "Computing spectrogram (w/ librosa) and tags (w/ tensorflow).. done!\n",
      "Computing spectrogram (w/ librosa) and tags (w/ tensorflow).. done!\n",
      "Computing spectrogram (w/ librosa) and tags (w/ tensorflow).. done!\n",
      "Computing spectrogram (w/ librosa) and tags (w/ tensorflow).. done!\n",
      "Computing spectrogram (w/ librosa) and tags (w/ tensorflow).. done!\n",
      "Computing spectrogram (w/ librosa) and tags (w/ tensorflow).. done!\n",
      "Computing spectrogram (w/ librosa) and tags (w/ tensorflow).. done!\n",
      "Computing spectrogram (w/ librosa) and tags (w/ tensorflow).. done!\n",
      "Computing spectrogram (w/ librosa) and tags (w/ tensorflow).. done!\n",
      "Computing spectrogram (w/ librosa) and tags (w/ tensorflow).. done!\n",
      "Computing spectrogram (w/ librosa) and tags (w/ tensorflow).. done!\n",
      "Computing spectrogram (w/ librosa) and tags (w/ tensorflow).. done!\n",
      "Computing spectrogram (w/ librosa) and tags (w/ tensorflow).. done!\n",
      "Computing spectrogram (w/ librosa) and tags (w/ tensorflow).. done!\n",
      "Computing spectrogram (w/ librosa) and tags (w/ tensorflow).. done!\n",
      "Computing spectrogram (w/ librosa) and tags (w/ tensorflow).. done!\n",
      "Computing spectrogram (w/ librosa) and tags (w/ tensorflow).. done!\n",
      "Computing spectrogram (w/ librosa) and tags (w/ tensorflow).. done!\n",
      "Computing spectrogram (w/ librosa) and tags (w/ tensorflow).. done!\n",
      "Computing spectrogram (w/ librosa) and tags (w/ tensorflow).. done!\n",
      "Computing spectrogram (w/ librosa) and tags (w/ tensorflow).. done!\n",
      "Computing spectrogram (w/ librosa) and tags (w/ tensorflow).. done!\n",
      "Computing spectrogram (w/ librosa) and tags (w/ tensorflow).. done!\n",
      "Computing spectrogram (w/ librosa) and tags (w/ tensorflow).. done!\n",
      "Computing spectrogram (w/ librosa) and tags (w/ tensorflow).. done!\n",
      "Computing spectrogram (w/ librosa) and tags (w/ tensorflow).. done!\n",
      "Computing spectrogram (w/ librosa) and tags (w/ tensorflow).. done!\n",
      "Computing spectrogram (w/ librosa) and tags (w/ tensorflow).. done!\n",
      "Computing spectrogram (w/ librosa) and tags (w/ tensorflow).. done!\n",
      "Computing spectrogram (w/ librosa) and tags (w/ tensorflow).. done!\n",
      "Computing spectrogram (w/ librosa) and tags (w/ tensorflow).. done!\n",
      "Computing spectrogram (w/ librosa) and tags (w/ tensorflow).. done!\n",
      "Computing spectrogram (w/ librosa) and tags (w/ tensorflow).. done!\n",
      "Computing spectrogram (w/ librosa) and tags (w/ tensorflow).. done!\n",
      "Computing spectrogram (w/ librosa) and tags (w/ tensorflow).. done!\n",
      "Computing spectrogram (w/ librosa) and tags (w/ tensorflow).. done!\n",
      "Computing spectrogram (w/ librosa) and tags (w/ tensorflow).. done!\n",
      "Computing spectrogram (w/ librosa) and tags (w/ tensorflow).. done!\n",
      "Computing spectrogram (w/ librosa) and tags (w/ tensorflow).. done!\n",
      "Computing spectrogram (w/ librosa) and tags (w/ tensorflow).. done!\n",
      "Computing spectrogram (w/ librosa) and tags (w/ tensorflow).. done!\n",
      "Computing spectrogram (w/ librosa) and tags (w/ tensorflow).. done!\n",
      "Computing spectrogram (w/ librosa) and tags (w/ tensorflow).. done!\n",
      "Computing spectrogram (w/ librosa) and tags (w/ tensorflow).. done!\n",
      "Computing spectrogram (w/ librosa) and tags (w/ tensorflow).. done!\n",
      "Computing spectrogram (w/ librosa) and tags (w/ tensorflow).. done!\n",
      "Computing spectrogram (w/ librosa) and tags (w/ tensorflow).. done!\n",
      "Computing spectrogram (w/ librosa) and tags (w/ tensorflow).. done!\n",
      "Computing spectrogram (w/ librosa) and tags (w/ tensorflow).. done!\n",
      "Computing spectrogram (w/ librosa) and tags (w/ tensorflow).. done!\n",
      "Computing spectrogram (w/ librosa) and tags (w/ tensorflow).. done!\n",
      "Computing spectrogram (w/ librosa) and tags (w/ tensorflow).. done!\n",
      "Computing spectrogram (w/ librosa) and tags (w/ tensorflow).. done!\n",
      "Computing spectrogram (w/ librosa) and tags (w/ tensorflow).. done!\n",
      "Computing spectrogram (w/ librosa) and tags (w/ tensorflow).. done!\n",
      "Computing spectrogram (w/ librosa) and tags (w/ tensorflow).. done!\n",
      "Computing spectrogram (w/ librosa) and tags (w/ tensorflow).. done!\n",
      "Computing spectrogram (w/ librosa) and tags (w/ tensorflow).. done!\n",
      "Computing spectrogram (w/ librosa) and tags (w/ tensorflow).. done!\n",
      "Computing spectrogram (w/ librosa) and tags (w/ tensorflow).. done!\n",
      "Computing spectrogram (w/ librosa) and tags (w/ tensorflow).. done!\n",
      "Computing spectrogram (w/ librosa) and tags (w/ tensorflow).. done!\n",
      "Computing spectrogram (w/ librosa) and tags (w/ tensorflow).. done!\n",
      "Computing spectrogram (w/ librosa) and tags (w/ tensorflow).. done!\n",
      "Computing spectrogram (w/ librosa) and tags (w/ tensorflow).. done!\n",
      "Computing spectrogram (w/ librosa) and tags (w/ tensorflow).. done!\n",
      "Computing spectrogram (w/ librosa) and tags (w/ tensorflow).. done!\n",
      "Computing spectrogram (w/ librosa) and tags (w/ tensorflow).. done!\n",
      "Computing spectrogram (w/ librosa) and tags (w/ tensorflow).. done!\n",
      "Computing spectrogram (w/ librosa) and tags (w/ tensorflow).. done!\n",
      "Computing spectrogram (w/ librosa) and tags (w/ tensorflow).. done!\n",
      "Computing spectrogram (w/ librosa) and tags (w/ tensorflow).. done!\n",
      "Computing spectrogram (w/ librosa) and tags (w/ tensorflow).. done!\n",
      "Computing spectrogram (w/ librosa) and tags (w/ tensorflow).. done!\n",
      "Computing spectrogram (w/ librosa) and tags (w/ tensorflow).. done!\n",
      "Computing spectrogram (w/ librosa) and tags (w/ tensorflow).. done!\n",
      "Computing spectrogram (w/ librosa) and tags (w/ tensorflow).. done!\n",
      "Computing spectrogram (w/ librosa) and tags (w/ tensorflow).. done!\n",
      "Computing spectrogram (w/ librosa) and tags (w/ tensorflow).. done!\n",
      "Computing spectrogram (w/ librosa) and tags (w/ tensorflow).. done!\n",
      "Computing spectrogram (w/ librosa) and tags (w/ tensorflow).. done!\n",
      "Computing spectrogram (w/ librosa) and tags (w/ tensorflow).. done!\n",
      "Computing spectrogram (w/ librosa) and tags (w/ tensorflow).. done!\n",
      "Computing spectrogram (w/ librosa) and tags (w/ tensorflow).. done!\n",
      "Computing spectrogram (w/ librosa) and tags (w/ tensorflow).. done!\n",
      "Computing spectrogram (w/ librosa) and tags (w/ tensorflow).. done!\n",
      "Computing spectrogram (w/ librosa) and tags (w/ tensorflow).. done!\n",
      "Computing spectrogram (w/ librosa) and tags (w/ tensorflow).. done!\n",
      "Computing spectrogram (w/ librosa) and tags (w/ tensorflow).. done!\n",
      "Computing spectrogram (w/ librosa) and tags (w/ tensorflow).. done!\n",
      "Computing spectrogram (w/ librosa) and tags (w/ tensorflow).. done!\n",
      "Computing spectrogram (w/ librosa) and tags (w/ tensorflow).. done!\n",
      "Computing spectrogram (w/ librosa) and tags (w/ tensorflow).. done!\n",
      "Computing spectrogram (w/ librosa) and tags (w/ tensorflow).. done!\n",
      "Computing spectrogram (w/ librosa) and tags (w/ tensorflow).. done!\n",
      "Computing spectrogram (w/ librosa) and tags (w/ tensorflow).. done!\n",
      "Computing spectrogram (w/ librosa) and tags (w/ tensorflow).. done!\n",
      "Computing spectrogram (w/ librosa) and tags (w/ tensorflow).. done!\n",
      "Computing spectrogram (w/ librosa) and tags (w/ tensorflow).. done!\n",
      "Computing spectrogram (w/ librosa) and tags (w/ tensorflow).. done!\n",
      "Computing spectrogram (w/ librosa) and tags (w/ tensorflow).. done!\n"
     ]
    },
    {
     "name": "stdout",
     "output_type": "stream",
     "text": [
      "Computing spectrogram (w/ librosa) and tags (w/ tensorflow).. done!\n",
      "Computing spectrogram (w/ librosa) and tags (w/ tensorflow).. done!\n",
      "Computing spectrogram (w/ librosa) and tags (w/ tensorflow).. done!\n",
      "Computing spectrogram (w/ librosa) and tags (w/ tensorflow).. done!\n",
      "Computing spectrogram (w/ librosa) and tags (w/ tensorflow).. done!\n",
      "Computing spectrogram (w/ librosa) and tags (w/ tensorflow).. done!\n",
      "Computing spectrogram (w/ librosa) and tags (w/ tensorflow).. done!\n",
      "Computing spectrogram (w/ librosa) and tags (w/ tensorflow).. done!\n",
      "Computing spectrogram (w/ librosa) and tags (w/ tensorflow).. done!\n",
      "Computing spectrogram (w/ librosa) and tags (w/ tensorflow).. done!\n",
      "Computing spectrogram (w/ librosa) and tags (w/ tensorflow).. done!\n",
      "Computing spectrogram (w/ librosa) and tags (w/ tensorflow).. done!\n",
      "Computing spectrogram (w/ librosa) and tags (w/ tensorflow).. done!\n",
      "Computing spectrogram (w/ librosa) and tags (w/ tensorflow).. done!\n",
      "Computing spectrogram (w/ librosa) and tags (w/ tensorflow).. done!\n",
      "Computing spectrogram (w/ librosa) and tags (w/ tensorflow).. done!\n",
      "Computing spectrogram (w/ librosa) and tags (w/ tensorflow).. done!\n",
      "Computing spectrogram (w/ librosa) and tags (w/ tensorflow).. done!\n",
      "Computing spectrogram (w/ librosa) and tags (w/ tensorflow).. done!\n",
      "Computing spectrogram (w/ librosa) and tags (w/ tensorflow).. done!\n",
      "Computing spectrogram (w/ librosa) and tags (w/ tensorflow).. done!\n",
      "Computing spectrogram (w/ librosa) and tags (w/ tensorflow).. done!\n",
      "Computing spectrogram (w/ librosa) and tags (w/ tensorflow).. done!\n",
      "Computing spectrogram (w/ librosa) and tags (w/ tensorflow).. done!\n",
      "Computing spectrogram (w/ librosa) and tags (w/ tensorflow).. done!\n",
      "Computing spectrogram (w/ librosa) and tags (w/ tensorflow).. done!\n",
      "Computing spectrogram (w/ librosa) and tags (w/ tensorflow).. done!\n",
      "Computing spectrogram (w/ librosa) and tags (w/ tensorflow).. done!\n",
      "Computing spectrogram (w/ librosa) and tags (w/ tensorflow).. done!\n",
      "Computing spectrogram (w/ librosa) and tags (w/ tensorflow).. done!\n",
      "Computing spectrogram (w/ librosa) and tags (w/ tensorflow).. done!\n",
      "Computing spectrogram (w/ librosa) and tags (w/ tensorflow).. done!\n",
      "Computing spectrogram (w/ librosa) and tags (w/ tensorflow).. done!\n",
      "Computing spectrogram (w/ librosa) and tags (w/ tensorflow).. done!\n",
      "Computing spectrogram (w/ librosa) and tags (w/ tensorflow).. done!\n",
      "Computing spectrogram (w/ librosa) and tags (w/ tensorflow).. done!\n",
      "Computing spectrogram (w/ librosa) and tags (w/ tensorflow).. done!\n",
      "Computing spectrogram (w/ librosa) and tags (w/ tensorflow).. done!\n",
      "Computing spectrogram (w/ librosa) and tags (w/ tensorflow).. done!\n",
      "Computing spectrogram (w/ librosa) and tags (w/ tensorflow).. done!\n",
      "Computing spectrogram (w/ librosa) and tags (w/ tensorflow).. done!\n",
      "Computing spectrogram (w/ librosa) and tags (w/ tensorflow).. done!\n",
      "Computing spectrogram (w/ librosa) and tags (w/ tensorflow).. done!\n",
      "Computing spectrogram (w/ librosa) and tags (w/ tensorflow).. done!\n",
      "Computing spectrogram (w/ librosa) and tags (w/ tensorflow).. done!\n",
      "Computing spectrogram (w/ librosa) and tags (w/ tensorflow).. done!\n",
      "Computing spectrogram (w/ librosa) and tags (w/ tensorflow).. done!\n",
      "Computing spectrogram (w/ librosa) and tags (w/ tensorflow).. done!\n",
      "Computing spectrogram (w/ librosa) and tags (w/ tensorflow).. done!\n",
      "Computing spectrogram (w/ librosa) and tags (w/ tensorflow).. done!\n",
      "Computing spectrogram (w/ librosa) and tags (w/ tensorflow).. done!\n",
      "Computing spectrogram (w/ librosa) and tags (w/ tensorflow).. done!\n",
      "Computing spectrogram (w/ librosa) and tags (w/ tensorflow).. done!\n",
      "Computing spectrogram (w/ librosa) and tags (w/ tensorflow).. done!\n",
      "Computing spectrogram (w/ librosa) and tags (w/ tensorflow).. done!\n",
      "Computing spectrogram (w/ librosa) and tags (w/ tensorflow).. done!\n",
      "Computing spectrogram (w/ librosa) and tags (w/ tensorflow).. done!\n",
      "Computing spectrogram (w/ librosa) and tags (w/ tensorflow).. done!\n",
      "Computing spectrogram (w/ librosa) and tags (w/ tensorflow).. done!\n",
      "Computing spectrogram (w/ librosa) and tags (w/ tensorflow).. done!\n",
      "Computing spectrogram (w/ librosa) and tags (w/ tensorflow).. done!\n",
      "Computing spectrogram (w/ librosa) and tags (w/ tensorflow).. done!\n",
      "Computing spectrogram (w/ librosa) and tags (w/ tensorflow).. done!\n",
      "Computing spectrogram (w/ librosa) and tags (w/ tensorflow).. done!\n",
      "Computing spectrogram (w/ librosa) and tags (w/ tensorflow).. done!\n",
      "Computing spectrogram (w/ librosa) and tags (w/ tensorflow).. done!\n",
      "Computing spectrogram (w/ librosa) and tags (w/ tensorflow).. done!\n",
      "Computing spectrogram (w/ librosa) and tags (w/ tensorflow).. done!\n",
      "Computing spectrogram (w/ librosa) and tags (w/ tensorflow).. done!\n",
      "Computing spectrogram (w/ librosa) and tags (w/ tensorflow).. done!\n",
      "Computing spectrogram (w/ librosa) and tags (w/ tensorflow).. done!\n",
      "Computing spectrogram (w/ librosa) and tags (w/ tensorflow).. done!\n",
      "Computing spectrogram (w/ librosa) and tags (w/ tensorflow).. done!\n",
      "Computing spectrogram (w/ librosa) and tags (w/ tensorflow).. Computing spectrogram (w/ librosa) and tags (w/ tensorflow).. done!\n",
      "Computing spectrogram (w/ librosa) and tags (w/ tensorflow).. done!\n",
      "Computing spectrogram (w/ librosa) and tags (w/ tensorflow).. done!\n",
      "Computing spectrogram (w/ librosa) and tags (w/ tensorflow).. done!\n",
      "Computing spectrogram (w/ librosa) and tags (w/ tensorflow).. done!\n",
      "Computing spectrogram (w/ librosa) and tags (w/ tensorflow).. done!\n",
      "Computing spectrogram (w/ librosa) and tags (w/ tensorflow).. done!\n",
      "Computing spectrogram (w/ librosa) and tags (w/ tensorflow).. done!\n",
      "Computing spectrogram (w/ librosa) and tags (w/ tensorflow).. done!\n",
      "Computing spectrogram (w/ librosa) and tags (w/ tensorflow).. done!\n",
      "Computing spectrogram (w/ librosa) and tags (w/ tensorflow).. done!\n",
      "Computing spectrogram (w/ librosa) and tags (w/ tensorflow).. done!\n",
      "Computing spectrogram (w/ librosa) and tags (w/ tensorflow).. done!\n",
      "Computing spectrogram (w/ librosa) and tags (w/ tensorflow).. done!\n",
      "Computing spectrogram (w/ librosa) and tags (w/ tensorflow).. done!\n",
      "Computing spectrogram (w/ librosa) and tags (w/ tensorflow).. done!\n",
      "Computing spectrogram (w/ librosa) and tags (w/ tensorflow).. done!\n",
      "Computing spectrogram (w/ librosa) and tags (w/ tensorflow).. done!\n",
      "Computing spectrogram (w/ librosa) and tags (w/ tensorflow).. done!\n",
      "Computing spectrogram (w/ librosa) and tags (w/ tensorflow).. done!\n",
      "Computing spectrogram (w/ librosa) and tags (w/ tensorflow).. done!\n",
      "Computing spectrogram (w/ librosa) and tags (w/ tensorflow).. done!\n",
      "Computing spectrogram (w/ librosa) and tags (w/ tensorflow).. done!\n",
      "Computing spectrogram (w/ librosa) and tags (w/ tensorflow).. done!\n",
      "Computing spectrogram (w/ librosa) and tags (w/ tensorflow).. done!\n",
      "Computing spectrogram (w/ librosa) and tags (w/ tensorflow).. done!\n",
      "Computing spectrogram (w/ librosa) and tags (w/ tensorflow).. done!\n",
      "Computing spectrogram (w/ librosa) and tags (w/ tensorflow).. done!\n",
      "Computing spectrogram (w/ librosa) and tags (w/ tensorflow).. done!\n",
      "Computing spectrogram (w/ librosa) and tags (w/ tensorflow).. done!\n",
      "Computing spectrogram (w/ librosa) and tags (w/ tensorflow).. done!\n",
      "Computing spectrogram (w/ librosa) and tags (w/ tensorflow).. done!\n",
      "Computing spectrogram (w/ librosa) and tags (w/ tensorflow).. done!\n",
      "Computing spectrogram (w/ librosa) and tags (w/ tensorflow).. done!\n",
      "Computing spectrogram (w/ librosa) and tags (w/ tensorflow).. done!\n",
      "Computing spectrogram (w/ librosa) and tags (w/ tensorflow).. done!\n",
      "Computing spectrogram (w/ librosa) and tags (w/ tensorflow).. done!\n",
      "Computing spectrogram (w/ librosa) and tags (w/ tensorflow).. done!\n",
      "Computing spectrogram (w/ librosa) and tags (w/ tensorflow).. done!\n",
      "Computing spectrogram (w/ librosa) and tags (w/ tensorflow).. done!\n",
      "Computing spectrogram (w/ librosa) and tags (w/ tensorflow).. done!\n",
      "Computing spectrogram (w/ librosa) and tags (w/ tensorflow).. done!\n",
      "Computing spectrogram (w/ librosa) and tags (w/ tensorflow).. done!\n",
      "Computing spectrogram (w/ librosa) and tags (w/ tensorflow).. done!\n",
      "Computing spectrogram (w/ librosa) and tags (w/ tensorflow).. done!\n",
      "Computing spectrogram (w/ librosa) and tags (w/ tensorflow).. done!\n"
     ]
    },
    {
     "name": "stdout",
     "output_type": "stream",
     "text": [
      "Computing spectrogram (w/ librosa) and tags (w/ tensorflow).. done!\n",
      "Computing spectrogram (w/ librosa) and tags (w/ tensorflow).. done!\n",
      "Computing spectrogram (w/ librosa) and tags (w/ tensorflow).. done!\n",
      "Computing spectrogram (w/ librosa) and tags (w/ tensorflow).. done!\n",
      "Computing spectrogram (w/ librosa) and tags (w/ tensorflow).. done!\n",
      "Computing spectrogram (w/ librosa) and tags (w/ tensorflow).. done!\n",
      "Computing spectrogram (w/ librosa) and tags (w/ tensorflow).. done!\n",
      "Computing spectrogram (w/ librosa) and tags (w/ tensorflow).. done!\n",
      "Computing spectrogram (w/ librosa) and tags (w/ tensorflow).. done!\n",
      "Computing spectrogram (w/ librosa) and tags (w/ tensorflow).. done!\n",
      "Computing spectrogram (w/ librosa) and tags (w/ tensorflow).. done!\n",
      "Computing spectrogram (w/ librosa) and tags (w/ tensorflow).. done!\n",
      "Computing spectrogram (w/ librosa) and tags (w/ tensorflow).. done!\n",
      "Computing spectrogram (w/ librosa) and tags (w/ tensorflow).. done!\n",
      "Computing spectrogram (w/ librosa) and tags (w/ tensorflow).. done!\n",
      "Computing spectrogram (w/ librosa) and tags (w/ tensorflow).. done!\n",
      "Computing spectrogram (w/ librosa) and tags (w/ tensorflow).. done!\n",
      "Computing spectrogram (w/ librosa) and tags (w/ tensorflow).. done!\n",
      "Computing spectrogram (w/ librosa) and tags (w/ tensorflow).. done!\n",
      "Computing spectrogram (w/ librosa) and tags (w/ tensorflow).. done!\n",
      "Computing spectrogram (w/ librosa) and tags (w/ tensorflow).. done!\n",
      "Computing spectrogram (w/ librosa) and tags (w/ tensorflow).. done!\n",
      "Computing spectrogram (w/ librosa) and tags (w/ tensorflow).. done!\n",
      "Computing spectrogram (w/ librosa) and tags (w/ tensorflow).. done!\n",
      "Computing spectrogram (w/ librosa) and tags (w/ tensorflow).. done!\n",
      "Computing spectrogram (w/ librosa) and tags (w/ tensorflow).. done!\n",
      "Computing spectrogram (w/ librosa) and tags (w/ tensorflow).. done!\n",
      "Computing spectrogram (w/ librosa) and tags (w/ tensorflow).. done!\n",
      "Computing spectrogram (w/ librosa) and tags (w/ tensorflow).. done!\n",
      "Computing spectrogram (w/ librosa) and tags (w/ tensorflow).. done!\n",
      "Computing spectrogram (w/ librosa) and tags (w/ tensorflow).. done!\n",
      "Computing spectrogram (w/ librosa) and tags (w/ tensorflow).. done!\n",
      "Computing spectrogram (w/ librosa) and tags (w/ tensorflow).. done!\n",
      "Computing spectrogram (w/ librosa) and tags (w/ tensorflow).. done!\n",
      "Computing spectrogram (w/ librosa) and tags (w/ tensorflow).. done!\n",
      "Computing spectrogram (w/ librosa) and tags (w/ tensorflow).. done!\n",
      "Computing spectrogram (w/ librosa) and tags (w/ tensorflow).. done!\n",
      "Computing spectrogram (w/ librosa) and tags (w/ tensorflow).. done!\n",
      "Computing spectrogram (w/ librosa) and tags (w/ tensorflow).. done!\n",
      "Computing spectrogram (w/ librosa) and tags (w/ tensorflow).. done!\n",
      "Computing spectrogram (w/ librosa) and tags (w/ tensorflow).. done!\n",
      "Computing spectrogram (w/ librosa) and tags (w/ tensorflow).. done!\n",
      "Computing spectrogram (w/ librosa) and tags (w/ tensorflow).. done!\n",
      "Computing spectrogram (w/ librosa) and tags (w/ tensorflow).. done!\n",
      "Computing spectrogram (w/ librosa) and tags (w/ tensorflow).. done!\n",
      "Computing spectrogram (w/ librosa) and tags (w/ tensorflow).. done!\n",
      "Computing spectrogram (w/ librosa) and tags (w/ tensorflow).. done!\n",
      "Computing spectrogram (w/ librosa) and tags (w/ tensorflow).. done!\n",
      "Computing spectrogram (w/ librosa) and tags (w/ tensorflow).. done!\n",
      "Computing spectrogram (w/ librosa) and tags (w/ tensorflow).. done!\n",
      "Computing spectrogram (w/ librosa) and tags (w/ tensorflow).. done!\n",
      "Computing spectrogram (w/ librosa) and tags (w/ tensorflow).. done!\n",
      "Computing spectrogram (w/ librosa) and tags (w/ tensorflow).. done!\n",
      "Computing spectrogram (w/ librosa) and tags (w/ tensorflow).. done!\n",
      "Computing spectrogram (w/ librosa) and tags (w/ tensorflow).. done!\n",
      "Computing spectrogram (w/ librosa) and tags (w/ tensorflow).. done!\n",
      "Computing spectrogram (w/ librosa) and tags (w/ tensorflow).. done!\n",
      "Computing spectrogram (w/ librosa) and tags (w/ tensorflow).. done!\n",
      "Computing spectrogram (w/ librosa) and tags (w/ tensorflow).. done!\n",
      "Computing spectrogram (w/ librosa) and tags (w/ tensorflow).. done!\n",
      "Computing spectrogram (w/ librosa) and tags (w/ tensorflow).. done!\n",
      "Computing spectrogram (w/ librosa) and tags (w/ tensorflow).. done!\n",
      "Computing spectrogram (w/ librosa) and tags (w/ tensorflow).. done!\n",
      "Computing spectrogram (w/ librosa) and tags (w/ tensorflow).. done!\n",
      "Computing spectrogram (w/ librosa) and tags (w/ tensorflow).. done!\n",
      "Computing spectrogram (w/ librosa) and tags (w/ tensorflow).. done!\n",
      "Computing spectrogram (w/ librosa) and tags (w/ tensorflow).. done!\n",
      "Computing spectrogram (w/ librosa) and tags (w/ tensorflow).. done!\n",
      "Computing spectrogram (w/ librosa) and tags (w/ tensorflow).. done!\n",
      "Computing spectrogram (w/ librosa) and tags (w/ tensorflow).. done!\n",
      "Computing spectrogram (w/ librosa) and tags (w/ tensorflow).. done!\n",
      "Computing spectrogram (w/ librosa) and tags (w/ tensorflow).. done!\n",
      "Computing spectrogram (w/ librosa) and tags (w/ tensorflow).. done!\n",
      "Computing spectrogram (w/ librosa) and tags (w/ tensorflow).. done!\n",
      "Computing spectrogram (w/ librosa) and tags (w/ tensorflow).. done!\n",
      "Computing spectrogram (w/ librosa) and tags (w/ tensorflow).. done!\n",
      "Computing spectrogram (w/ librosa) and tags (w/ tensorflow).. done!\n",
      "Computing spectrogram (w/ librosa) and tags (w/ tensorflow).. done!\n",
      "Computing spectrogram (w/ librosa) and tags (w/ tensorflow).. done!\n",
      "Computing spectrogram (w/ librosa) and tags (w/ tensorflow).. done!\n",
      "Computing spectrogram (w/ librosa) and tags (w/ tensorflow).. done!\n",
      "Computing spectrogram (w/ librosa) and tags (w/ tensorflow).. done!\n",
      "Computing spectrogram (w/ librosa) and tags (w/ tensorflow).. done!\n",
      "Computing spectrogram (w/ librosa) and tags (w/ tensorflow).. done!\n",
      "Computing spectrogram (w/ librosa) and tags (w/ tensorflow).. done!\n",
      "Computing spectrogram (w/ librosa) and tags (w/ tensorflow).. done!\n",
      "Computing spectrogram (w/ librosa) and tags (w/ tensorflow).. done!\n",
      "Computing spectrogram (w/ librosa) and tags (w/ tensorflow).. done!\n",
      "\n"
     ]
    }
   ],
   "source": [
    "# from musicnn.extractor import extractor\n",
    "\n",
    "# # Make directories to save embeddings.\n",
    "# for genre in genres:\n",
    "#   os.makedirs('gtzan/msd_embed/' + genre, exist_ok=True)\n",
    "\n",
    "# for path_in in tqdm(train + test):\n",
    "#   # The embeddings will be saved under `gtzan/embed/` with an file extension of `.npy`\n",
    "#   path_out = 'gtzan/msd_embed/' + path_in.replace('.wav', '.npy')\n",
    "#   # Skip if the embedding already exists.\n",
    "#   if os.path.isfile(path_out):\n",
    "#     continue\n",
    "  \n",
    "#   # Extract the embedding using the pre-trained model.\n",
    "#   _, _, embeds = extractor(f'gtzan/wav/{path_in}', model='MSD_musicnn', extract_features=True)\n",
    "#   # Average the embeddings over temporal dimension.\n",
    "#   embed = embeds['max_pool'].mean(axis=0)\n",
    "\n",
    "#   # Save the embedding.\n",
    "#   np.save(path_out, embed)"
   ]
  },
  {
   "cell_type": "code",
   "execution_count": 47,
   "metadata": {
    "id": "AmgDstz0L_PE"
   },
   "outputs": [],
   "source": [
    "class EmbedDataset(Dataset):\n",
    "  def __init__(self, paths):\n",
    "    self.paths = paths\n",
    "\n",
    "  def __getitem__(self, i):\n",
    "    # Get i-th path.\n",
    "    path = self.paths[i]\n",
    "    # Get i-th embeddding path.\n",
    "    path = 'gtzan/msd_embed/' + path.replace('.wav', '.npy')\n",
    "\n",
    "    # Extract the genre from its path.\n",
    "    genre = path.split('/')[-2]\n",
    "    # Trun the genre into index number.\n",
    "    label = genre_dict[genre]\n",
    "\n",
    "    # Load the mel-spectrogram.\n",
    "    embed = np.load(path)\n",
    "\n",
    "    return embed, label\n",
    "  \n",
    "  def __len__(self):\n",
    "    return len(self.paths)"
   ]
  },
  {
   "cell_type": "code",
   "execution_count": 48,
   "metadata": {
    "id": "lywWIQj5UgYe"
   },
   "outputs": [],
   "source": [
    "dataset_train = EmbedDataset(train)\n",
    "dataset_test = EmbedDataset(test)\n",
    "\n",
    "num_workers = os.cpu_count()\n",
    "loader_train = DataLoader(dataset_train, batch_size=BATCH_SIZE, shuffle=True, num_workers=num_workers, drop_last=True)\n",
    "loader_test = DataLoader(dataset_test, batch_size=BATCH_SIZE, shuffle=False, num_workers=num_workers, drop_last=False)"
   ]
  },
  {
   "cell_type": "code",
   "execution_count": 49,
   "metadata": {
    "id": "iXo3AIaNPvCJ"
   },
   "outputs": [
    {
     "data": {
      "text/plain": [
       "753"
      ]
     },
     "execution_count": 49,
     "metadata": {},
     "output_type": "execute_result"
    }
   ],
   "source": [
    "embed_size = dataset_train[0][0].shape[0]\n",
    "embed_size"
   ]
  },
  {
   "cell_type": "markdown",
   "metadata": {
    "id": "yY0snpd1cREq"
   },
   "source": [
    "### [Question 2] Implement, train and evaluate 2-layer MLP using the extracted embeddings."
   ]
  },
  {
   "cell_type": "code",
   "execution_count": 50,
   "metadata": {
    "id": "GNhEh_76Ps25"
   },
   "outputs": [],
   "source": [
    "# TODO: Question 2\n",
    "class Q2(nn.Module):\n",
    "  def __init__(self, hidden_size=32):\n",
    "    super(Q2, self).__init__()\n",
    "    \n",
    "    self.hidden_size = hidden_size\n",
    "    \n",
    "    self.main = nn.Sequential(\n",
    "        nn.Linear(embed_size, hidden_size),\n",
    "        # nn.BatchNorm?\n",
    "        nn.ReLU(),\n",
    "        nn.Linear(hidden_size, len(genres))\n",
    "    )\n",
    "    \n",
    "  def forward(self, x):\n",
    "    x = self.main(x)\n",
    "    return x"
   ]
  },
  {
   "cell_type": "code",
   "execution_count": 56,
   "metadata": {},
   "outputs": [
    {
     "name": "stdout",
     "output_type": "stream",
     "text": [
      "Optimizer: SGD (\n",
      "Parameter Group 0\n",
      "    dampening: 0\n",
      "    lr: 0.0006\n",
      "    momentum: 0.9\n",
      "    nesterov: True\n",
      "    weight_decay: 0.0\n",
      ")\n",
      "Device: cuda\n"
     ]
    }
   ],
   "source": [
    "Q2_model = Q2()\n",
    "# Define a loss function, which is cross entropy here.\n",
    "Q2_criterion = torch.nn.CrossEntropyLoss()\n",
    "# Setup an optimizer. Here, we use Stochastic gradient descent (SGD) with a nesterov mementum.\n",
    "Q2_optimizer = torch.optim.SGD(Q2_model.parameters(), lr=LR, momentum=MOMENTUM, nesterov=True, weight_decay=weight_decay)\n",
    "\n",
    "# Move variables to the desired device.\n",
    "Q2_model.to(device)\n",
    "Q2_criterion.to(device)\n",
    "\n",
    "print(f'Optimizer: {Q2_optimizer}')\n",
    "print(f'Device: {device}')"
   ]
  },
  {
   "cell_type": "code",
   "execution_count": 57,
   "metadata": {},
   "outputs": [
    {
     "data": {
      "application/vnd.jupyter.widget-view+json": {
       "model_id": "163884bbc031431a8f9b6a87b010ea1a",
       "version_major": 2,
       "version_minor": 0
      },
      "text/plain": [
       "HBox(children=(FloatProgress(value=0.0, description='Epoch 00', max=145.0, style=ProgressStyle(description_wid…"
      ]
     },
     "metadata": {},
     "output_type": "display_data"
    },
    {
     "name": "stdout",
     "output_type": "stream",
     "text": [
      "\n"
     ]
    },
    {
     "data": {
      "application/vnd.jupyter.widget-view+json": {
       "model_id": "43ee463f8ddf485fa691669b22df595f",
       "version_major": 2,
       "version_minor": 0
      },
      "text/plain": [
       "HBox(children=(FloatProgress(value=0.0, description='Epoch 01', max=145.0, style=ProgressStyle(description_wid…"
      ]
     },
     "metadata": {},
     "output_type": "display_data"
    },
    {
     "name": "stdout",
     "output_type": "stream",
     "text": [
      "\n"
     ]
    },
    {
     "data": {
      "application/vnd.jupyter.widget-view+json": {
       "model_id": "0aa4a981bc6d4407a5f505a4f1759e66",
       "version_major": 2,
       "version_minor": 0
      },
      "text/plain": [
       "HBox(children=(FloatProgress(value=0.0, description='Epoch 02', max=145.0, style=ProgressStyle(description_wid…"
      ]
     },
     "metadata": {},
     "output_type": "display_data"
    },
    {
     "name": "stdout",
     "output_type": "stream",
     "text": [
      "\n"
     ]
    },
    {
     "data": {
      "application/vnd.jupyter.widget-view+json": {
       "model_id": "f6c51c738de245bd99e3654df8d9412f",
       "version_major": 2,
       "version_minor": 0
      },
      "text/plain": [
       "HBox(children=(FloatProgress(value=0.0, description='Epoch 03', max=145.0, style=ProgressStyle(description_wid…"
      ]
     },
     "metadata": {},
     "output_type": "display_data"
    },
    {
     "name": "stdout",
     "output_type": "stream",
     "text": [
      "\n"
     ]
    },
    {
     "data": {
      "application/vnd.jupyter.widget-view+json": {
       "model_id": "b96d521314ab4bd496b6555aafda1237",
       "version_major": 2,
       "version_minor": 0
      },
      "text/plain": [
       "HBox(children=(FloatProgress(value=0.0, description='Epoch 04', max=145.0, style=ProgressStyle(description_wid…"
      ]
     },
     "metadata": {},
     "output_type": "display_data"
    },
    {
     "name": "stdout",
     "output_type": "stream",
     "text": [
      "\n"
     ]
    },
    {
     "data": {
      "application/vnd.jupyter.widget-view+json": {
       "model_id": "9ae2ab176a5f421ab69725f4b7e5eec7",
       "version_major": 2,
       "version_minor": 0
      },
      "text/plain": [
       "HBox(children=(FloatProgress(value=0.0, description='Epoch 05', max=145.0, style=ProgressStyle(description_wid…"
      ]
     },
     "metadata": {},
     "output_type": "display_data"
    },
    {
     "name": "stdout",
     "output_type": "stream",
     "text": [
      "\n"
     ]
    },
    {
     "data": {
      "application/vnd.jupyter.widget-view+json": {
       "model_id": "3d71650c6811423e8951b710cd3c623c",
       "version_major": 2,
       "version_minor": 0
      },
      "text/plain": [
       "HBox(children=(FloatProgress(value=0.0, description='Epoch 06', max=145.0, style=ProgressStyle(description_wid…"
      ]
     },
     "metadata": {},
     "output_type": "display_data"
    },
    {
     "name": "stdout",
     "output_type": "stream",
     "text": [
      "\n"
     ]
    },
    {
     "data": {
      "application/vnd.jupyter.widget-view+json": {
       "model_id": "a636d8968b2842e2893d8ec9a04f86e7",
       "version_major": 2,
       "version_minor": 0
      },
      "text/plain": [
       "HBox(children=(FloatProgress(value=0.0, description='Epoch 07', max=145.0, style=ProgressStyle(description_wid…"
      ]
     },
     "metadata": {},
     "output_type": "display_data"
    },
    {
     "name": "stdout",
     "output_type": "stream",
     "text": [
      "\n"
     ]
    },
    {
     "data": {
      "application/vnd.jupyter.widget-view+json": {
       "model_id": "dc22c3c5df2644debbc80847c5a53c3a",
       "version_major": 2,
       "version_minor": 0
      },
      "text/plain": [
       "HBox(children=(FloatProgress(value=0.0, description='Epoch 08', max=145.0, style=ProgressStyle(description_wid…"
      ]
     },
     "metadata": {},
     "output_type": "display_data"
    },
    {
     "name": "stdout",
     "output_type": "stream",
     "text": [
      "\n"
     ]
    },
    {
     "data": {
      "application/vnd.jupyter.widget-view+json": {
       "model_id": "63cd40adab3a4c63b9dda970180fd236",
       "version_major": 2,
       "version_minor": 0
      },
      "text/plain": [
       "HBox(children=(FloatProgress(value=0.0, description='Epoch 09', max=145.0, style=ProgressStyle(description_wid…"
      ]
     },
     "metadata": {},
     "output_type": "display_data"
    },
    {
     "name": "stdout",
     "output_type": "stream",
     "text": [
      "\n"
     ]
    },
    {
     "ename": "KeyboardInterrupt",
     "evalue": "",
     "output_type": "error",
     "traceback": [
      "\u001b[0;31m---------------------------------------------------------------------------\u001b[0m",
      "\u001b[0;31mKeyboardInterrupt\u001b[0m                         Traceback (most recent call last)",
      "\u001b[0;32m<ipython-input-57-c4898c0db5c2>\u001b[0m in \u001b[0;36m<module>\u001b[0;34m\u001b[0m\n\u001b[1;32m      6\u001b[0m   \u001b[0mepoch_loss\u001b[0m \u001b[0;34m=\u001b[0m \u001b[0;36m0\u001b[0m\u001b[0;34m\u001b[0m\u001b[0;34m\u001b[0m\u001b[0m\n\u001b[1;32m      7\u001b[0m   \u001b[0mepoch_acc\u001b[0m \u001b[0;34m=\u001b[0m \u001b[0;36m0\u001b[0m\u001b[0;34m\u001b[0m\u001b[0;34m\u001b[0m\u001b[0m\n\u001b[0;32m----> 8\u001b[0;31m   \u001b[0mpbar\u001b[0m \u001b[0;34m=\u001b[0m \u001b[0mtqdm\u001b[0m\u001b[0;34m(\u001b[0m\u001b[0mloader_train\u001b[0m\u001b[0;34m,\u001b[0m \u001b[0mdesc\u001b[0m\u001b[0;34m=\u001b[0m\u001b[0;34mf'Epoch {epoch:02}'\u001b[0m\u001b[0;34m)\u001b[0m  \u001b[0;31m# progress bar\u001b[0m\u001b[0;34m\u001b[0m\u001b[0;34m\u001b[0m\u001b[0m\n\u001b[0m\u001b[1;32m      9\u001b[0m   \u001b[0;32mfor\u001b[0m \u001b[0mx\u001b[0m\u001b[0;34m,\u001b[0m \u001b[0my\u001b[0m \u001b[0;32min\u001b[0m \u001b[0mpbar\u001b[0m\u001b[0;34m:\u001b[0m\u001b[0;34m\u001b[0m\u001b[0;34m\u001b[0m\u001b[0m\n\u001b[1;32m     10\u001b[0m     \u001b[0;31m# Move mini-batch to the desired device.\u001b[0m\u001b[0;34m\u001b[0m\u001b[0;34m\u001b[0m\u001b[0;34m\u001b[0m\u001b[0m\n",
      "\u001b[0;32m/usr/local/lib/python3.7/site-packages/tqdm/notebook.py\u001b[0m in \u001b[0;36m__init__\u001b[0;34m(self, *args, **kwargs)\u001b[0m\n\u001b[1;32m    217\u001b[0m         \u001b[0mtotal\u001b[0m \u001b[0;34m=\u001b[0m \u001b[0mself\u001b[0m\u001b[0;34m.\u001b[0m\u001b[0mtotal\u001b[0m \u001b[0;34m*\u001b[0m \u001b[0munit_scale\u001b[0m \u001b[0;32mif\u001b[0m \u001b[0mself\u001b[0m\u001b[0;34m.\u001b[0m\u001b[0mtotal\u001b[0m \u001b[0;32melse\u001b[0m \u001b[0mself\u001b[0m\u001b[0;34m.\u001b[0m\u001b[0mtotal\u001b[0m\u001b[0;34m\u001b[0m\u001b[0;34m\u001b[0m\u001b[0m\n\u001b[1;32m    218\u001b[0m         self.container = self.status_printer(\n\u001b[0;32m--> 219\u001b[0;31m             self.fp, total, self.desc, self.ncols)\n\u001b[0m\u001b[1;32m    220\u001b[0m         \u001b[0mself\u001b[0m\u001b[0;34m.\u001b[0m\u001b[0msp\u001b[0m \u001b[0;34m=\u001b[0m \u001b[0mself\u001b[0m\u001b[0;34m.\u001b[0m\u001b[0mdisplay\u001b[0m\u001b[0;34m\u001b[0m\u001b[0;34m\u001b[0m\u001b[0m\n\u001b[1;32m    221\u001b[0m \u001b[0;34m\u001b[0m\u001b[0m\n",
      "\u001b[0;32m/usr/local/lib/python3.7/site-packages/tqdm/notebook.py\u001b[0m in \u001b[0;36mstatus_printer\u001b[0;34m(_, total, desc, ncols)\u001b[0m\n\u001b[1;32m    114\u001b[0m         \u001b[0mptext\u001b[0m \u001b[0;34m=\u001b[0m \u001b[0mHTML\u001b[0m\u001b[0;34m(\u001b[0m\u001b[0;34m)\u001b[0m\u001b[0;34m\u001b[0m\u001b[0;34m\u001b[0m\u001b[0m\n\u001b[1;32m    115\u001b[0m         \u001b[0;31m# Only way to place text to the right of the bar is to use a container\u001b[0m\u001b[0;34m\u001b[0m\u001b[0;34m\u001b[0m\u001b[0;34m\u001b[0m\u001b[0m\n\u001b[0;32m--> 116\u001b[0;31m         \u001b[0mcontainer\u001b[0m \u001b[0;34m=\u001b[0m \u001b[0mHBox\u001b[0m\u001b[0;34m(\u001b[0m\u001b[0mchildren\u001b[0m\u001b[0;34m=\u001b[0m\u001b[0;34m[\u001b[0m\u001b[0mpbar\u001b[0m\u001b[0;34m,\u001b[0m \u001b[0mptext\u001b[0m\u001b[0;34m]\u001b[0m\u001b[0;34m)\u001b[0m\u001b[0;34m\u001b[0m\u001b[0;34m\u001b[0m\u001b[0m\n\u001b[0m\u001b[1;32m    117\u001b[0m         \u001b[0;31m# Prepare layout\u001b[0m\u001b[0;34m\u001b[0m\u001b[0;34m\u001b[0m\u001b[0;34m\u001b[0m\u001b[0m\n\u001b[1;32m    118\u001b[0m         \u001b[0;32mif\u001b[0m \u001b[0mncols\u001b[0m \u001b[0;32mis\u001b[0m \u001b[0;32mnot\u001b[0m \u001b[0;32mNone\u001b[0m\u001b[0;34m:\u001b[0m  \u001b[0;31m# use default style of ipywidgets\u001b[0m\u001b[0;34m\u001b[0m\u001b[0;34m\u001b[0m\u001b[0m\n",
      "\u001b[0;32m/usr/local/lib/python3.7/site-packages/ipywidgets/widgets/widget_box.py\u001b[0m in \u001b[0;36m__init__\u001b[0;34m(self, children, **kwargs)\u001b[0m\n\u001b[1;32m     62\u001b[0m     \u001b[0;32mdef\u001b[0m \u001b[0m__init__\u001b[0m\u001b[0;34m(\u001b[0m\u001b[0mself\u001b[0m\u001b[0;34m,\u001b[0m \u001b[0mchildren\u001b[0m\u001b[0;34m=\u001b[0m\u001b[0;34m(\u001b[0m\u001b[0;34m)\u001b[0m\u001b[0;34m,\u001b[0m \u001b[0;34m**\u001b[0m\u001b[0mkwargs\u001b[0m\u001b[0;34m)\u001b[0m\u001b[0;34m:\u001b[0m\u001b[0;34m\u001b[0m\u001b[0;34m\u001b[0m\u001b[0m\n\u001b[1;32m     63\u001b[0m         \u001b[0mkwargs\u001b[0m\u001b[0;34m[\u001b[0m\u001b[0;34m'children'\u001b[0m\u001b[0;34m]\u001b[0m \u001b[0;34m=\u001b[0m \u001b[0mchildren\u001b[0m\u001b[0;34m\u001b[0m\u001b[0;34m\u001b[0m\u001b[0m\n\u001b[0;32m---> 64\u001b[0;31m         \u001b[0msuper\u001b[0m\u001b[0;34m(\u001b[0m\u001b[0mBox\u001b[0m\u001b[0;34m,\u001b[0m \u001b[0mself\u001b[0m\u001b[0;34m)\u001b[0m\u001b[0;34m.\u001b[0m\u001b[0m__init__\u001b[0m\u001b[0;34m(\u001b[0m\u001b[0;34m**\u001b[0m\u001b[0mkwargs\u001b[0m\u001b[0;34m)\u001b[0m\u001b[0;34m\u001b[0m\u001b[0;34m\u001b[0m\u001b[0m\n\u001b[0m\u001b[1;32m     65\u001b[0m         \u001b[0mself\u001b[0m\u001b[0;34m.\u001b[0m\u001b[0mon_displayed\u001b[0m\u001b[0;34m(\u001b[0m\u001b[0mBox\u001b[0m\u001b[0;34m.\u001b[0m\u001b[0m_fire_children_displayed\u001b[0m\u001b[0;34m)\u001b[0m\u001b[0;34m\u001b[0m\u001b[0;34m\u001b[0m\u001b[0m\n\u001b[1;32m     66\u001b[0m \u001b[0;34m\u001b[0m\u001b[0m\n",
      "\u001b[0;32m/usr/local/lib/python3.7/site-packages/ipywidgets/widgets/widget.py\u001b[0m in \u001b[0;36m__init__\u001b[0;34m(self, **kwargs)\u001b[0m\n\u001b[1;32m    413\u001b[0m \u001b[0;34m\u001b[0m\u001b[0m\n\u001b[1;32m    414\u001b[0m         \u001b[0mWidget\u001b[0m\u001b[0;34m.\u001b[0m\u001b[0m_call_widget_constructed\u001b[0m\u001b[0;34m(\u001b[0m\u001b[0mself\u001b[0m\u001b[0;34m)\u001b[0m\u001b[0;34m\u001b[0m\u001b[0;34m\u001b[0m\u001b[0m\n\u001b[0;32m--> 415\u001b[0;31m         \u001b[0mself\u001b[0m\u001b[0;34m.\u001b[0m\u001b[0mopen\u001b[0m\u001b[0;34m(\u001b[0m\u001b[0;34m)\u001b[0m\u001b[0;34m\u001b[0m\u001b[0;34m\u001b[0m\u001b[0m\n\u001b[0m\u001b[1;32m    416\u001b[0m \u001b[0;34m\u001b[0m\u001b[0m\n\u001b[1;32m    417\u001b[0m     \u001b[0;32mdef\u001b[0m \u001b[0m__del__\u001b[0m\u001b[0;34m(\u001b[0m\u001b[0mself\u001b[0m\u001b[0;34m)\u001b[0m\u001b[0;34m:\u001b[0m\u001b[0;34m\u001b[0m\u001b[0;34m\u001b[0m\u001b[0m\n",
      "\u001b[0;32m/usr/local/lib/python3.7/site-packages/ipywidgets/widgets/widget.py\u001b[0m in \u001b[0;36mopen\u001b[0;34m(self)\u001b[0m\n\u001b[1;32m    436\u001b[0m                 \u001b[0margs\u001b[0m\u001b[0;34m[\u001b[0m\u001b[0;34m'comm_id'\u001b[0m\u001b[0;34m]\u001b[0m \u001b[0;34m=\u001b[0m \u001b[0mself\u001b[0m\u001b[0;34m.\u001b[0m\u001b[0m_model_id\u001b[0m\u001b[0;34m\u001b[0m\u001b[0;34m\u001b[0m\u001b[0m\n\u001b[1;32m    437\u001b[0m \u001b[0;34m\u001b[0m\u001b[0m\n\u001b[0;32m--> 438\u001b[0;31m             \u001b[0mself\u001b[0m\u001b[0;34m.\u001b[0m\u001b[0mcomm\u001b[0m \u001b[0;34m=\u001b[0m \u001b[0mComm\u001b[0m\u001b[0;34m(\u001b[0m\u001b[0;34m**\u001b[0m\u001b[0margs\u001b[0m\u001b[0;34m)\u001b[0m\u001b[0;34m\u001b[0m\u001b[0;34m\u001b[0m\u001b[0m\n\u001b[0m\u001b[1;32m    439\u001b[0m \u001b[0;34m\u001b[0m\u001b[0m\n\u001b[1;32m    440\u001b[0m     \u001b[0;34m@\u001b[0m\u001b[0mobserve\u001b[0m\u001b[0;34m(\u001b[0m\u001b[0;34m'comm'\u001b[0m\u001b[0;34m)\u001b[0m\u001b[0;34m\u001b[0m\u001b[0;34m\u001b[0m\u001b[0m\n",
      "\u001b[0;32m/usr/local/lib/python3.7/site-packages/ipykernel/comm/comm.py\u001b[0m in \u001b[0;36m__init__\u001b[0;34m(self, target_name, data, metadata, buffers, **kwargs)\u001b[0m\n\u001b[1;32m     51\u001b[0m         \u001b[0;32mif\u001b[0m \u001b[0mtarget_name\u001b[0m\u001b[0;34m:\u001b[0m\u001b[0;34m\u001b[0m\u001b[0;34m\u001b[0m\u001b[0m\n\u001b[1;32m     52\u001b[0m             \u001b[0mkwargs\u001b[0m\u001b[0;34m[\u001b[0m\u001b[0;34m'target_name'\u001b[0m\u001b[0;34m]\u001b[0m \u001b[0;34m=\u001b[0m \u001b[0mtarget_name\u001b[0m\u001b[0;34m\u001b[0m\u001b[0;34m\u001b[0m\u001b[0m\n\u001b[0;32m---> 53\u001b[0;31m         \u001b[0msuper\u001b[0m\u001b[0;34m(\u001b[0m\u001b[0mComm\u001b[0m\u001b[0;34m,\u001b[0m \u001b[0mself\u001b[0m\u001b[0;34m)\u001b[0m\u001b[0;34m.\u001b[0m\u001b[0m__init__\u001b[0m\u001b[0;34m(\u001b[0m\u001b[0;34m**\u001b[0m\u001b[0mkwargs\u001b[0m\u001b[0;34m)\u001b[0m\u001b[0;34m\u001b[0m\u001b[0;34m\u001b[0m\u001b[0m\n\u001b[0m\u001b[1;32m     54\u001b[0m         \u001b[0;32mif\u001b[0m \u001b[0mself\u001b[0m\u001b[0;34m.\u001b[0m\u001b[0mkernel\u001b[0m\u001b[0;34m:\u001b[0m\u001b[0;34m\u001b[0m\u001b[0;34m\u001b[0m\u001b[0m\n\u001b[1;32m     55\u001b[0m             \u001b[0;32mif\u001b[0m \u001b[0mself\u001b[0m\u001b[0;34m.\u001b[0m\u001b[0mprimary\u001b[0m\u001b[0;34m:\u001b[0m\u001b[0;34m\u001b[0m\u001b[0;34m\u001b[0m\u001b[0m\n",
      "\u001b[0;32m/usr/local/lib/python3.7/site-packages/traitlets/config/configurable.py\u001b[0m in \u001b[0;36m__init__\u001b[0;34m(self, **kwargs)\u001b[0m\n\u001b[1;32m     85\u001b[0m         \u001b[0;32melse\u001b[0m\u001b[0;34m:\u001b[0m\u001b[0;34m\u001b[0m\u001b[0;34m\u001b[0m\u001b[0m\n\u001b[1;32m     86\u001b[0m             \u001b[0;31m# allow _config_default to return something\u001b[0m\u001b[0;34m\u001b[0m\u001b[0;34m\u001b[0m\u001b[0;34m\u001b[0m\u001b[0m\n\u001b[0;32m---> 87\u001b[0;31m             \u001b[0mself\u001b[0m\u001b[0;34m.\u001b[0m\u001b[0m_load_config\u001b[0m\u001b[0;34m(\u001b[0m\u001b[0mself\u001b[0m\u001b[0;34m.\u001b[0m\u001b[0mconfig\u001b[0m\u001b[0;34m)\u001b[0m\u001b[0;34m\u001b[0m\u001b[0;34m\u001b[0m\u001b[0m\n\u001b[0m\u001b[1;32m     88\u001b[0m \u001b[0;34m\u001b[0m\u001b[0m\n\u001b[1;32m     89\u001b[0m         \u001b[0;31m# Ensure explicit kwargs are applied after loading config.\u001b[0m\u001b[0;34m\u001b[0m\u001b[0;34m\u001b[0m\u001b[0;34m\u001b[0m\u001b[0m\n",
      "\u001b[0;32m/usr/local/lib/python3.7/site-packages/traitlets/config/configurable.py\u001b[0m in \u001b[0;36m_load_config\u001b[0;34m(self, cfg, section_names, traits)\u001b[0m\n\u001b[1;32m    133\u001b[0m \u001b[0;34m\u001b[0m\u001b[0m\n\u001b[1;32m    134\u001b[0m         \u001b[0;32mif\u001b[0m \u001b[0mtraits\u001b[0m \u001b[0;32mis\u001b[0m \u001b[0;32mNone\u001b[0m\u001b[0;34m:\u001b[0m\u001b[0;34m\u001b[0m\u001b[0;34m\u001b[0m\u001b[0m\n\u001b[0;32m--> 135\u001b[0;31m             \u001b[0mtraits\u001b[0m \u001b[0;34m=\u001b[0m \u001b[0mself\u001b[0m\u001b[0;34m.\u001b[0m\u001b[0mtraits\u001b[0m\u001b[0;34m(\u001b[0m\u001b[0mconfig\u001b[0m\u001b[0;34m=\u001b[0m\u001b[0;32mTrue\u001b[0m\u001b[0;34m)\u001b[0m\u001b[0;34m\u001b[0m\u001b[0;34m\u001b[0m\u001b[0m\n\u001b[0m\u001b[1;32m    136\u001b[0m         \u001b[0;32mif\u001b[0m \u001b[0msection_names\u001b[0m \u001b[0;32mis\u001b[0m \u001b[0;32mNone\u001b[0m\u001b[0;34m:\u001b[0m\u001b[0;34m\u001b[0m\u001b[0;34m\u001b[0m\u001b[0m\n\u001b[1;32m    137\u001b[0m             \u001b[0msection_names\u001b[0m \u001b[0;34m=\u001b[0m \u001b[0mself\u001b[0m\u001b[0;34m.\u001b[0m\u001b[0msection_names\u001b[0m\u001b[0;34m(\u001b[0m\u001b[0;34m)\u001b[0m\u001b[0;34m\u001b[0m\u001b[0;34m\u001b[0m\u001b[0m\n",
      "\u001b[0;32m/usr/local/lib/python3.7/site-packages/traitlets/traitlets.py\u001b[0m in \u001b[0;36mtraits\u001b[0;34m(self, **metadata)\u001b[0m\n\u001b[1;32m   1419\u001b[0m         \u001b[0mto\u001b[0m \u001b[0mthe\u001b[0m \u001b[0mfunction\u001b[0m\u001b[0;34m.\u001b[0m\u001b[0;34m\u001b[0m\u001b[0;34m\u001b[0m\u001b[0m\n\u001b[1;32m   1420\u001b[0m         \"\"\"\n\u001b[0;32m-> 1421\u001b[0;31m         traits = dict([memb for memb in getmembers(self.__class__) if\n\u001b[0m\u001b[1;32m   1422\u001b[0m                      isinstance(memb[1], TraitType)])\n\u001b[1;32m   1423\u001b[0m \u001b[0;34m\u001b[0m\u001b[0m\n",
      "\u001b[0;32m/usr/local/lib/python3.7/site-packages/traitlets/traitlets.py\u001b[0m in \u001b[0;36mgetmembers\u001b[0;34m(object, predicate)\u001b[0m\n\u001b[1;32m    237\u001b[0m         \u001b[0;32melse\u001b[0m\u001b[0;34m:\u001b[0m\u001b[0;34m\u001b[0m\u001b[0;34m\u001b[0m\u001b[0m\n\u001b[1;32m    238\u001b[0m             \u001b[0;32mif\u001b[0m \u001b[0;32mnot\u001b[0m \u001b[0mpredicate\u001b[0m \u001b[0;32mor\u001b[0m \u001b[0mpredicate\u001b[0m\u001b[0;34m(\u001b[0m\u001b[0mvalue\u001b[0m\u001b[0;34m)\u001b[0m\u001b[0;34m:\u001b[0m\u001b[0;34m\u001b[0m\u001b[0;34m\u001b[0m\u001b[0m\n\u001b[0;32m--> 239\u001b[0;31m                 \u001b[0mresults\u001b[0m\u001b[0;34m.\u001b[0m\u001b[0mappend\u001b[0m\u001b[0;34m(\u001b[0m\u001b[0;34m(\u001b[0m\u001b[0mkey\u001b[0m\u001b[0;34m,\u001b[0m \u001b[0mvalue\u001b[0m\u001b[0;34m)\u001b[0m\u001b[0;34m)\u001b[0m\u001b[0;34m\u001b[0m\u001b[0;34m\u001b[0m\u001b[0m\n\u001b[0m\u001b[1;32m    240\u001b[0m     \u001b[0mresults\u001b[0m\u001b[0;34m.\u001b[0m\u001b[0msort\u001b[0m\u001b[0;34m(\u001b[0m\u001b[0;34m)\u001b[0m\u001b[0;34m\u001b[0m\u001b[0;34m\u001b[0m\u001b[0m\n\u001b[1;32m    241\u001b[0m     \u001b[0;32mreturn\u001b[0m \u001b[0mresults\u001b[0m\u001b[0;34m\u001b[0m\u001b[0;34m\u001b[0m\u001b[0m\n",
      "\u001b[0;31mKeyboardInterrupt\u001b[0m: "
     ]
    }
   ],
   "source": [
    "# Set the status of the model as training.\n",
    "Q2_model.train()\n",
    "Q2_NUM_EPOCHS = 100\n",
    "# Iterate over epochs.\n",
    "for epoch in range(Q2_NUM_EPOCHS):\n",
    "  epoch_loss = 0\n",
    "  epoch_acc = 0\n",
    "  pbar = tqdm(loader_train, desc=f'Epoch {epoch:02}')  # progress bar\n",
    "  for x, y in pbar:\n",
    "    # Move mini-batch to the desired device.\n",
    "    x = x.to(device)\n",
    "    y = y.to(device)\n",
    "\n",
    "    # Feed forward the model.\n",
    "    prediction = Q2_model(x)\n",
    "    # Compute the loss.\n",
    "    loss = Q2_criterion(prediction, y)\n",
    "    # Compute the accuracy.\n",
    "    acc = accuracy(prediction, y)\n",
    "\n",
    "    # Perform backward propagation to compute gradients.\n",
    "    loss.backward()\n",
    "    # Update the parameters.\n",
    "    Q2_optimizer.step()\n",
    "    # Reset the computed gradients.\n",
    "    Q2_optimizer.zero_grad()\n",
    "\n",
    "    # Log training metrics.\n",
    "    batch_size = len(x)\n",
    "    epoch_loss += batch_size * loss.item()\n",
    "    epoch_acc += batch_size * acc\n",
    "    # Update the progress bar.\n",
    "    pbar.set_postfix({'loss': epoch_loss / len(dataset_train), \n",
    "                      'acc': epoch_acc / len(dataset_train)})"
   ]
  },
  {
   "cell_type": "code",
   "execution_count": 53,
   "metadata": {},
   "outputs": [
    {
     "data": {
      "application/vnd.jupyter.widget-view+json": {
       "model_id": "d8d2e0042d2f4ddba87d79473596cca2",
       "version_major": 2,
       "version_minor": 0
      },
      "text/plain": [
       "HBox(children=(FloatProgress(value=0.0, description='Test', max=38.0, style=ProgressStyle(description_width='i…"
      ]
     },
     "metadata": {},
     "output_type": "display_data"
    },
    {
     "name": "stdout",
     "output_type": "stream",
     "text": [
      "\n",
      "test_loss=2.07746, test_acc=13.33%\n"
     ]
    }
   ],
   "source": [
    "# Set the status of the model as evaluation.\n",
    "Q2_model.eval()\n",
    "\n",
    "# `torch.no_grad()` disables computing gradients. The gradients are still \n",
    "# computed even though you use `model.eval()`. You should use `torch.no_grad()` \n",
    "# if you don't want your memory is overflowed because of unnecesary gradients.\n",
    "with torch.no_grad():\n",
    "  epoch_loss = 0\n",
    "  epoch_acc = 0\n",
    "  pbar = tqdm(loader_test, desc=f'Test')  # progress bar\n",
    "  for x, y in pbar:\n",
    "    # Move mini-batch to the desired device.\n",
    "    x = x.to(device)\n",
    "    y = y.to(device)\n",
    "\n",
    "    # Feed forward the model.\n",
    "    prediction = Q2_model(x)\n",
    "    # Compute the loss.\n",
    "    loss = Q2_criterion(prediction, y)\n",
    "    # Compute the accuracy.\n",
    "    acc = accuracy(prediction, y)\n",
    "\n",
    "    # Log training metrics.\n",
    "    batch_size = len(x)\n",
    "    epoch_loss += batch_size * loss.item()\n",
    "    epoch_acc += batch_size * acc\n",
    "    # Update the progress bar.\n",
    "    pbar.set_postfix({'loss': epoch_loss / len(dataset_test), 'acc': epoch_acc / len(dataset_test)})\n",
    "\n",
    "# Compute the evaluation scores.\n",
    "test_loss = epoch_loss / len(dataset_test)\n",
    "test_acc = epoch_acc / len(dataset_test)\n",
    "\n",
    "print(f'test_loss={test_loss:.5f}, test_acc={test_acc * 100:.2f}%')"
   ]
  },
  {
   "cell_type": "markdown",
   "metadata": {
    "id": "33p0jbUcjZKF"
   },
   "source": [
    "# Improving Algorithms [[Leader Board]](https://docs.google.com/spreadsheets/d/1bzkMFeXABTae7kDJG6QCU_qnP1ppJDoNQLgGz3ksJu0/edit?usp=sharing)"
   ]
  },
  {
   "cell_type": "markdown",
   "metadata": {
    "id": "ef-Qjx1rdYEY"
   },
   "source": [
    "### [Question 3] Improve the performenace.\n",
    "Now it is your turn. You should improve the baseline code with your own algorithm. There are many ways to improve it. The followings are possible ideas: \n",
    "\n",
    "* The first thing to do is to segment audio clips and generate more data. The baseline code utilizes the whole mel-spectrogram as an input to the network (e.g. 96x936 dimensions). Try to make the network input between 3-5 seconds segment and average the predictions of the segmentations for an audio clip.\n",
    "\n",
    "* You can try training a model using both mel-spectrograms and features extracted using the pre-trained models. The baseline code is using a pre-trained model trained on 19k songs, but `musicnn` also has models trained on 200k songs! Try using the model giving `model='MSD_musicnn'` option on feature extraction.\n",
    "\n",
    "* You can try 1D CNN or 2D CNN models and choose different model parameters:\n",
    "    * Filter size\n",
    "    * Pooling size\n",
    "    * Stride size \n",
    "    * Number of filters\n",
    "    * Model depth\n",
    "    * Regularization: L2/L1 and Dropout\n",
    "\n",
    "* You should try different hyperparameters to train the model and optimizers:\n",
    "    * Learning rate\n",
    "    * Model depth\n",
    "    * Optimizers: SGD (with Nesterov momentum), Adam, RMSProp, ...\n",
    "\n",
    "* You can try different parameters (e.g. hop and window size) to extract mel-spectrogram or different features as input to the network (e.g. MFCC, chroma features ...). \n",
    "\n",
    "* You can also use ResNet or other CNNs with skip connections. \n",
    "\n",
    "* Furthermore, you can augment data using digital audio effects."
   ]
  },
  {
   "cell_type": "code",
   "execution_count": null,
   "metadata": {
    "id": "AqTgCmU5h32G"
   },
   "outputs": [],
   "source": [
    "# TODO: Question 3\n",
    "class Q3(nn.Module):\n",
    "  def __init__(self, hidden_size=32):\n",
    "    super(Q3, self).__init__()\n",
    "    \n",
    "    self.hidden_size = hidden_size\n",
    "    \n",
    "    self.main = nn.Sequential(\n",
    "        nn.Linear(embed_size, hidden_size),\n",
    "        # nn.BatchNorm?\n",
    "        nn.ReLU(),\n",
    "        nn.Linear(hidden_size, len(genres))\n",
    "    )\n",
    "    \n",
    "  def forward(self, x):\n",
    "    x = self.main(x)\n",
    "    return x"
   ]
  },
  {
   "cell_type": "markdown",
   "metadata": {
    "id": "CRfOAefCh57y"
   },
   "source": [
    "\n",
    "# Deliverables\n",
    "You should submit your Python code (`.ipynb` or `.py` files) and homework report (.pdf file) to KLMS. The report should include:\n",
    "* Algorithm Description\n",
    "* Experiments and Results\n",
    "* Discussion\n",
    "\n",
    "# Note\n",
    "The code is written using PyTorch but you can use TensorFlow if you want for question 3.\n",
    "\n",
    "# Credit\n",
    "Thie homework was implemented by Jongpil Lee, Soonbeom Choi and Taejun Kim in the KAIST Music and Audio Computing Lab.\n"
   ]
  }
 ],
 "metadata": {
  "accelerator": "GPU",
  "colab": {
   "collapsed_sections": [],
   "name": "GCT634/AI613 (Fall 2020) HW#2 Colab Notebook",
   "provenance": [],
   "toc_visible": true
  },
  "kernelspec": {
   "display_name": "Python 3",
   "language": "python",
   "name": "python3"
  },
  "language_info": {
   "codemirror_mode": {
    "name": "ipython",
    "version": 3
   },
   "file_extension": ".py",
   "mimetype": "text/x-python",
   "name": "python",
   "nbconvert_exporter": "python",
   "pygments_lexer": "ipython3",
   "version": "3.7.8"
  }
 },
 "nbformat": 4,
 "nbformat_minor": 1
}
